{
 "cells": [
  {
   "cell_type": "markdown",
   "metadata": {
    "id": "6RVb9jenaO_j"
   },
   "source": [
    "# Introduction"
   ]
  },
  {
   "cell_type": "markdown",
   "metadata": {
    "id": "6-7v17bDZmyv"
   },
   "source": [
    "Over a third of greenhouse gases emitted in Europe are related to buildings, and a third of that is the upfront embodied emissions from construction and manufacturing building materials. One way of limiting those emissions is to reuse already preowned building components before downcycling them. \n",
    "\n",
    "However, the design from preowned element differs from the typical design, since the avaialable elements have predefined dimensions and quantities, whereas new design gives freedom of choosing abstract elements of desired dimensions.\n",
    "\n",
    "This research aims to develop a mapping algorithm that could assist designers in applying preowned elements while designing buildings.\n",
    "\n"
   ]
  },
  {
   "cell_type": "markdown",
   "metadata": {
    "id": "V9cCLo5FKK8F"
   },
   "source": [
    "### Task \n",
    "Given a set of elements coming from a design model - demand ($demand$), and another set of preowned elements - supply ($supply$), optimize the design, by minimizing Global Warming Potential ($gwp$). When necesarry, a new product ($new$) can be applied, depending on its performance.\n",
    "\n",
    "Optimization should take into account:\n",
    "*   technical feasibility - element can't be shorter or weaker than objective required by the design model ($demand$) \n",
    "*   minimization of Global Warming Potential ($gwp$), dependent on waste volume, transport distance and energy consuimng processes.\n",
    "*   price, assuming that \n",
    "    * preowned elements also have their price\n",
    "    * preowned elements are bought as whole elements, including scrape waste\n",
    "    * scrap waste is not generating additional profit"
   ]
  },
  {
   "cell_type": "markdown",
   "metadata": {
    "id": "HJF7Or70lwZS"
   },
   "source": [
    "# Theory\n"
   ]
  },
  {
   "cell_type": "markdown",
   "metadata": {
    "id": "957m6jo7lwZT"
   },
   "source": [
    "### Graph representation of the matching problem"
   ]
  },
  {
   "cell_type": "markdown",
   "metadata": {
    "id": "WZTiluDqK5Rp"
   },
   "source": [
    "Graphs ($G$) are sets of vertices ($V$) and edges ($E$) that connect them. \n",
    "\n",
    "$G(V,E)$ "
   ]
  },
  {
   "cell_type": "markdown",
   "metadata": {
    "id": "9R136k7NK5Yd"
   },
   "source": [
    "A **bipartite graph** (or bigraph) is a special type of graph, in which vertices can be divided into two disjoint and independent sets $U$ and $V$. Edges of such graph connect vertices in $U$ to one of vertices in $V$.\n",
    "\n",
    "$G(U, V,E)$ \n",
    "\n",
    "Example of a bipartite graph:"
   ]
  },
  {
   "cell_type": "markdown",
   "metadata": {
    "id": "BxdmkaGXNMMa"
   },
   "source": [
    "![image.png](data:image/png;base64,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)"
   ]
  },
  {
   "cell_type": "markdown",
   "metadata": {
    "id": "aVr5_xWwNMTw"
   },
   "source": [
    "Matrix representation of a graph problem (above) can take a from of **adjacency matrix**, where each column $i$ corresponds to the same element in row $i$.\n",
    "\n",
    "\\begin{array}{|c|c|} \\hline\n",
    " & 0 & 1 & 2 & 3 & 4 \\\\ \\hline\n",
    "0 & 0 & 0 & 1 & 1 & 0 \\\\ \\hline\n",
    "1 & 0 & 0 & 0 & 1 & 1 \\\\ \\hline\n",
    "2 & 1 & 0 & 0 & 0 & 0 \\\\ \\hline\n",
    "3 & 1 & 1 & 0 & 0 & 0 \\\\ \\hline\n",
    "4 & 0 & 1 & 0 & 0 & 0 \\\\ \\hline\n",
    "\\end{array}\n",
    "\n",
    "In **incidence matrix**, however, elements of one set are described by rows and another by columns. Here is the incidence matrhix of the same graph:  \n",
    "\n",
    "\\begin{array}{|c|c|} \\hline\n",
    "  & 2 & 3 & 4 \\\\ \\hline\n",
    "0 & 1 & 1 & 0 \\\\ \\hline\n",
    "1 & 0 & 1 & 1 \\\\ \\hline\n",
    "\\end{array}\n",
    "\n",
    "Incidence matrix can also represent **weights** of each edge:\n",
    "\n",
    "\\begin{array}{|c|c|} \\hline\n",
    "  & 2 & 3 & 4 \\\\ \\hline\n",
    "0 & 2.3 & 1.4 & 0 \\\\ \\hline\n",
    "1 & 0 & 3.0 & 0.9 \\\\ \\hline\n",
    "\\end{array}\n",
    "\n",
    "**Edmond's matrix** is a special type of incidence matrix, that instead of values shows indeterminates $x_{ij}$ for each edge. It's usefull to determine perfect matching.\n",
    "\n",
    "\\begin{array}{|c|c|} \\hline\n",
    "  & 2 & 3 & 4 \\\\ \\hline\n",
    "0 & x_{ij}  & x_{ij} & 0 \\\\ \\hline\n",
    "1 & 0 & x_{ij} & x_{ij} \\\\ \\hline\n",
    "\\end{array}"
   ]
  },
  {
   "cell_type": "markdown",
   "metadata": {
    "id": "OZedy0vIaP2r"
   },
   "source": [
    "# Input data"
   ]
  },
  {
   "cell_type": "markdown",
   "metadata": {
    "id": "hqqUALmtLQU7"
   },
   "source": [
    "### Data structure"
   ]
  },
  {
   "cell_type": "markdown",
   "metadata": {
    "id": "U5NcnPvbLTBH"
   },
   "source": [
    "\\begin{array}{|c|c|} \\hline\n",
    "TYPE  & NAME & DEFAULT & EXAMPLE & UNIT & COMMENT \\\\ \\hline\n",
    "General  & Length & - & 1.00 & m & ... \\\\ \\hline\n",
    "  & Area & - & 0.09 & m^2 & ... \\\\ \\hline\n",
    "  & Inertia\\_moment & - & 0.000123 & m^4 & ... \\\\ \\hline\n",
    "  & Height & - & 0.30 & m & of a cross section \\\\ \\hline\n",
    "  & Material & - & Timber & - & ... \\\\ \\hline\n",
    "  & Density & timber - 500 / concrete - 2200 / steel - 7850 & 2350 & kg/m^3 & ... \\\\ \\hline\n",
    "Structural  & Imperfections & [\\ \\ ] & [0.15, 0.3, 0.7] & - & ...locations \\\\ \\hline\n",
    "  & Is\\_column & No & Yes & - & ... \\\\ \\hline\n",
    "  & Utilization & - & 0.85 & - & Comming\\ from\\ FEM model. \\\\ \\hline\n",
    "Environmental  & Distance & - & 100.0 & km & ... \\\\ \\hline\n",
    "Other  & Price & - & 123 & € & ... \\\\ \\hline\n",
    "  & Group & - & 3 & - & int \\\\ \\hline\n",
    "  & Quality & 1.00 & 0.85 & - & ... \\\\ \\hline\n",
    "  & Is\\_new & Yes & No & bool & New\\ by\\ default \\\\ \\hline\n",
    "\\end{array}"
   ]
  },
  {
   "cell_type": "markdown",
   "metadata": {
    "id": "WJVgPeEwblT-"
   },
   "source": [
    "### Abbreviations"
   ]
  },
  {
   "cell_type": "markdown",
   "metadata": {
    "id": "F2S85agwCz7L"
   },
   "source": [
    "$demand$ - demand, elements from the new design model.\n",
    "\n",
    "$supply$ - Material supply (collection of preowned, available elements)\n",
    "\n",
    "$LCA$ - Life Cycle Assessment - Global Warming Potential (GWP) expressed in kilograms of CO2 equivalent of all the emited green-house gases (kgCO2e). "
   ]
  },
  {
   "cell_type": "markdown",
   "metadata": {
    "id": "NFUFUdh9aOVJ"
   },
   "source": [
    "### Future considerations"
   ]
  },
  {
   "cell_type": "markdown",
   "metadata": {
    "id": "C03eQ1Gr6xIp"
   },
   "source": [
    "* TODO we should explain the allocation method for LCA we select. Well described in (Eberhardt, 2020). I assumed for now the most common cut-off, and that we are at the second cycle (even though in Oslo it will be third). I just multiplied the new LCA for EPD product and multiplied by 7/90=0.0778. It is not the correct simplification! https://www.researchgate.net/publication/347002003_Development_of_a_Life_Cycle_Assessment_Allocation_Approach_for_Circular_Economy_in_the_Built_Environment"
   ]
  },
  {
   "cell_type": "markdown",
   "metadata": {
    "id": "_k01ncPTm2dz"
   },
   "source": [
    "* TODO other EPDs have other numbers, for example Limtre has 760km distance, 33kg for A1-A3 and 3.2kg for A5: https://www.epd-norge.no/heltreprodukter/limtre-article3247-320.html "
   ]
  },
  {
   "cell_type": "markdown",
   "metadata": {
    "id": "cS7Stbe5iH_T"
   },
   "source": [
    "* TODO we should consult the fossil vs bio approach to GWP calculation with LCA expert. In that EPD the difference is 28.9 vs -741 (2600% better)"
   ]
  },
  {
   "cell_type": "markdown",
   "metadata": {
    "id": "ME4nAarWhZyR"
   },
   "source": [
    "* TODO we should consider implementing more parameters than just GWP:\n",
    "  *  ODP Depletion potential of the stratospheric ozone layer;\n",
    "  *  POCP Formation potential of tropospheric photochemical oxidants;\n",
    "  *  AP Acidification potential of land and water;\n",
    "  *  EP Eutrophication potential;\n",
    "  *  ADPM Abiotic depletion potential for non fossil resources;\n",
    "  *  ADPE Abiotic depletion potential for fossil resources\n"
   ]
  },
  {
   "cell_type": "markdown",
   "metadata": {
    "id": "RxT4gWq-viy5"
   },
   "source": [
    "* TODO having many elements in one transport should be better than taking few from many places."
   ]
  },
  {
   "cell_type": "markdown",
   "metadata": {
    "id": "CZXiI6xOd7Lz"
   },
   "source": [
    "* TODO add custom dataframe class to store our elements, with own methods and attributes\n",
    "\n",
    "      class FramingDF(pd.DataFrame):\n",
    "          def __init__(self, *args, **kw):\n",
    "              # do a standard initialization of Pandas dataframe:\n",
    "              super(FramingDF, self).__init__(*args, **kw)\n",
    "              # pluss added elements:\n",
    "              pass\n",
    "\n",
    "          def add_element(self, length):\n",
    "              pass\n",
    "\n",
    "      # sub-classes             \n",
    "      class DemendDF(pd.DataFrame):\n",
    "          pass\n",
    "\n",
    "      class SupplyDF(pd.DataFrame):\n",
    "          pass"
   ]
  },
  {
   "cell_type": "markdown",
   "metadata": {
    "id": "emoKrooOqufM"
   },
   "source": [
    "### Assumptions"
   ]
  },
  {
   "cell_type": "markdown",
   "metadata": {
    "id": "dik2IDgVq2YS"
   },
   "source": [
    "**Matching conditions**\n",
    "\n",
    "$L_S>L_D$  - Length must be no shorter than designed.<br /> \n",
    "$A_S>A_D$  - Area must be no smaller than designed.<br /> \n",
    "$M_S>M_D$  - Moment of inertia must be no lesser than designed.<br /> \n",
    "$H_S>H_D$  - Height must be no shorter than designed.<br /> \n",
    "\n",
    "**Optimization objectives**\n",
    "\n",
    "<!-- $P_{MIN}$  - Price should be minimized<br /> -->\n",
    "Life Cycle Assessment should be minimized:<br />\n",
    "$LCA= V * f_{GWP} $ <br />\n",
    "where<br />\n",
    "$V$ - volume of the material  <br />\n",
    "$f_{GWP}$ - Global Warming Potential factor for stages A1-A3 (material production), which is assumed constant for new and preowned elements."
   ]
  },
  {
   "cell_type": "markdown",
   "metadata": {
    "id": "yrocmVoYyoMo"
   },
   "source": [
    "**LCA data assumptions**\n",
    "* GWP A1-A3 value for new element is based on EPD: NEPD-3442-2053-EN, assuming only fossil emissions for a product. https://www.epd-norge.no/getfile.php/1324058-1653305090/EPDer/Byggevarer/Heltreprodukter/NEPD-3442-2053_Sawn-dried-timber-of-Spruce-and-Pine-with-an--average-moisture-content-of-16-.pdf\n",
    "* GWP A1-A3 value for preowned element is based on multiplicator found in literature (Eberhardt, 2020)\n",
    "* Both values are expressed in kilograms of CO2 equivalent for each cubic meter of that material [kgCO2eq/m3]."
   ]
  },
  {
   "cell_type": "code",
   "execution_count": 1,
   "metadata": {
    "id": "wjOw7-Hjygga"
   },
   "outputs": [],
   "source": [
    "f_GWP_new = 28.9\n",
    "f_GWP_old = f_GWP_new * 0.0778"
   ]
  },
  {
   "cell_type": "markdown",
   "metadata": {
    "id": "0Mp_D_9Lq05R"
   },
   "source": [
    "### Generate input data"
   ]
  },
  {
   "cell_type": "code",
   "execution_count": 2,
   "metadata": {
    "id": "FcZKfz-PoN7s"
   },
   "outputs": [],
   "source": [
    "import pandas as pd\n",
    "import numpy as np\n",
    "import random\n",
    "\n",
    "demand = pd.DataFrame(columns = ['Length', 'Area', 'Inertia_moment', 'Height'])\n",
    "supply = pd.DataFrame(columns = ['Length', 'Area', 'Inertia_moment', 'Height', 'Is_new'])\n",
    "\n",
    "# TODO add 'Distance'\n",
    "# TODO add 'Price'\n",
    "# TODO add 'Material'\n",
    "# TODO add 'Density'\n",
    "# TODO add 'Imperfections'\n",
    "# TODO add 'Is_column'\n",
    "# TODO add 'Utilisation'\n",
    "# TODO add 'Group'\n",
    "# TODO add 'Quality'\n",
    "# TODO add 'Max_height' ?"
   ]
  },
  {
   "cell_type": "code",
   "execution_count": 3,
   "metadata": {
    "id": "Cy67YBPieqQv"
   },
   "outputs": [],
   "source": [
    "# Add a perfect matching pair\n",
    "demand.loc['D1'] = {'Length': 7.00, 'Area': 0.04, 'Inertia_moment':0.00013, 'Height': 0.20}\n",
    "supply.loc['R1'] = {'Length': 7.00, 'Area': 0.04, 'Inertia_moment':0.00013, 'Height': 0.20, 'Is_new':False}\n",
    "\n",
    "# Add non-matchable demand\n",
    "demand.loc['D2'] = {'Length': 13.00, 'Area': 0.001, 'Inertia_moment':0.00001, 'Height': 0.05}\n",
    "\n",
    "# Add non-matchable supply\n",
    "supply.loc['R2'] = {'Length': 0.1, 'Area': 0.04, 'Inertia_moment':0.00013, 'Height': 0.20, 'Is_new':False}\n",
    "\n",
    "# Add one with two good matches, where second slighlty better\n",
    "demand.loc['D3'] = {'Length': 5.00, 'Area': 0.04, 'Inertia_moment':0.00013, 'Height': 0.20}\n",
    "supply.loc['R3'] = {'Length': 5.20, 'Area': 0.042, 'Inertia_moment':0.00015, 'Height': 0.22, 'Is_new':False}\n",
    "supply.loc['R4'] = {'Length': 5.10, 'Area': 0.041, 'Inertia_moment':0.00014, 'Height': 0.21, 'Is_new':False}"
   ]
  },
  {
   "cell_type": "code",
   "execution_count": 4,
   "metadata": {
    "id": "e9f0LWJV3JbH"
   },
   "outputs": [],
   "source": [
    "# Add new products for each demand element:\n",
    "# for i in ...: \n",
    "#   supply.loc['N'+i] = {'Length': 5.00, 'Area': 0.04, 'Inertia_moment':0.00013, 'Height': 0.20}\n",
    "\n",
    "for index, row in demand.iterrows():\n",
    "  supply.loc['N'+index[1:]] = {'Length': row['Length'], 'Area': row['Area'], 'Inertia_moment': row['Inertia_moment'], 'Height': row['Height'], 'Is_new': True}\n",
    "  \n",
    "  # new_elem = generate_new(row['Length'], row['Area'])\n",
    "  # append new element to the set:\n",
    "  # new_set = new_set.append(new_elem, ignore_index = True)"
   ]
  },
  {
   "cell_type": "code",
   "execution_count": 5,
   "metadata": {
    "colab": {
     "base_uri": "https://localhost:8080/",
     "height": 143
    },
    "id": "zmzXjEcGo1i8",
    "outputId": "ebe26e85-e6dc-4bc3-9282-035aec1aeb80"
   },
   "outputs": [
    {
     "data": {
      "text/html": [
       "<div>\n",
       "<style scoped>\n",
       "    .dataframe tbody tr th:only-of-type {\n",
       "        vertical-align: middle;\n",
       "    }\n",
       "\n",
       "    .dataframe tbody tr th {\n",
       "        vertical-align: top;\n",
       "    }\n",
       "\n",
       "    .dataframe thead th {\n",
       "        text-align: right;\n",
       "    }\n",
       "</style>\n",
       "<table border=\"1\" class=\"dataframe\">\n",
       "  <thead>\n",
       "    <tr style=\"text-align: right;\">\n",
       "      <th></th>\n",
       "      <th>Length</th>\n",
       "      <th>Area</th>\n",
       "      <th>Inertia_moment</th>\n",
       "      <th>Height</th>\n",
       "    </tr>\n",
       "  </thead>\n",
       "  <tbody>\n",
       "    <tr>\n",
       "      <th>D1</th>\n",
       "      <td>7.0</td>\n",
       "      <td>0.040</td>\n",
       "      <td>0.00013</td>\n",
       "      <td>0.20</td>\n",
       "    </tr>\n",
       "    <tr>\n",
       "      <th>D2</th>\n",
       "      <td>13.0</td>\n",
       "      <td>0.001</td>\n",
       "      <td>0.00001</td>\n",
       "      <td>0.05</td>\n",
       "    </tr>\n",
       "    <tr>\n",
       "      <th>D3</th>\n",
       "      <td>5.0</td>\n",
       "      <td>0.040</td>\n",
       "      <td>0.00013</td>\n",
       "      <td>0.20</td>\n",
       "    </tr>\n",
       "  </tbody>\n",
       "</table>\n",
       "</div>"
      ],
      "text/plain": [
       "    Length   Area  Inertia_moment  Height\n",
       "D1     7.0  0.040         0.00013    0.20\n",
       "D2    13.0  0.001         0.00001    0.05\n",
       "D3     5.0  0.040         0.00013    0.20"
      ]
     },
     "execution_count": 5,
     "metadata": {},
     "output_type": "execute_result"
    }
   ],
   "source": [
    "demand"
   ]
  },
  {
   "cell_type": "code",
   "execution_count": 6,
   "metadata": {
    "colab": {
     "base_uri": "https://localhost:8080/",
     "height": 269
    },
    "id": "hDi85YDfo2df",
    "outputId": "b561f9f0-afff-4008-9e86-b0e4324d3865"
   },
   "outputs": [
    {
     "data": {
      "text/html": [
       "<div>\n",
       "<style scoped>\n",
       "    .dataframe tbody tr th:only-of-type {\n",
       "        vertical-align: middle;\n",
       "    }\n",
       "\n",
       "    .dataframe tbody tr th {\n",
       "        vertical-align: top;\n",
       "    }\n",
       "\n",
       "    .dataframe thead th {\n",
       "        text-align: right;\n",
       "    }\n",
       "</style>\n",
       "<table border=\"1\" class=\"dataframe\">\n",
       "  <thead>\n",
       "    <tr style=\"text-align: right;\">\n",
       "      <th></th>\n",
       "      <th>Length</th>\n",
       "      <th>Area</th>\n",
       "      <th>Inertia_moment</th>\n",
       "      <th>Height</th>\n",
       "      <th>Is_new</th>\n",
       "    </tr>\n",
       "  </thead>\n",
       "  <tbody>\n",
       "    <tr>\n",
       "      <th>R1</th>\n",
       "      <td>7.0</td>\n",
       "      <td>0.040</td>\n",
       "      <td>0.00013</td>\n",
       "      <td>0.20</td>\n",
       "      <td>False</td>\n",
       "    </tr>\n",
       "    <tr>\n",
       "      <th>R2</th>\n",
       "      <td>0.1</td>\n",
       "      <td>0.040</td>\n",
       "      <td>0.00013</td>\n",
       "      <td>0.20</td>\n",
       "      <td>False</td>\n",
       "    </tr>\n",
       "    <tr>\n",
       "      <th>R3</th>\n",
       "      <td>5.2</td>\n",
       "      <td>0.042</td>\n",
       "      <td>0.00015</td>\n",
       "      <td>0.22</td>\n",
       "      <td>False</td>\n",
       "    </tr>\n",
       "    <tr>\n",
       "      <th>R4</th>\n",
       "      <td>5.1</td>\n",
       "      <td>0.041</td>\n",
       "      <td>0.00014</td>\n",
       "      <td>0.21</td>\n",
       "      <td>False</td>\n",
       "    </tr>\n",
       "    <tr>\n",
       "      <th>N1</th>\n",
       "      <td>7.0</td>\n",
       "      <td>0.040</td>\n",
       "      <td>0.00013</td>\n",
       "      <td>0.20</td>\n",
       "      <td>True</td>\n",
       "    </tr>\n",
       "    <tr>\n",
       "      <th>N2</th>\n",
       "      <td>13.0</td>\n",
       "      <td>0.001</td>\n",
       "      <td>0.00001</td>\n",
       "      <td>0.05</td>\n",
       "      <td>True</td>\n",
       "    </tr>\n",
       "    <tr>\n",
       "      <th>N3</th>\n",
       "      <td>5.0</td>\n",
       "      <td>0.040</td>\n",
       "      <td>0.00013</td>\n",
       "      <td>0.20</td>\n",
       "      <td>True</td>\n",
       "    </tr>\n",
       "  </tbody>\n",
       "</table>\n",
       "</div>"
      ],
      "text/plain": [
       "    Length   Area  Inertia_moment  Height  Is_new\n",
       "R1     7.0  0.040         0.00013    0.20   False\n",
       "R2     0.1  0.040         0.00013    0.20   False\n",
       "R3     5.2  0.042         0.00015    0.22   False\n",
       "R4     5.1  0.041         0.00014    0.21   False\n",
       "N1     7.0  0.040         0.00013    0.20    True\n",
       "N2    13.0  0.001         0.00001    0.05    True\n",
       "N3     5.0  0.040         0.00013    0.20    True"
      ]
     },
     "execution_count": 6,
     "metadata": {},
     "output_type": "execute_result"
    }
   ],
   "source": [
    "supply"
   ]
  },
  {
   "cell_type": "markdown",
   "metadata": {
    "id": "VOwIXAtsPI7I"
   },
   "source": [
    "### Matching"
   ]
  },
  {
   "cell_type": "markdown",
   "metadata": {
    "id": "deIeL261PkEG"
   },
   "source": [
    "Create `match_map` vector of matched ID's without values."
   ]
  },
  {
   "cell_type": "code",
   "execution_count": 7,
   "metadata": {
    "colab": {
     "base_uri": "https://localhost:8080/",
     "height": 143
    },
    "id": "7-TneiJgPW8p",
    "outputId": "bf8fd9b6-f403-493b-c942-2b38ce034e45"
   },
   "outputs": [
    {
     "data": {
      "text/html": [
       "<div>\n",
       "<style scoped>\n",
       "    .dataframe tbody tr th:only-of-type {\n",
       "        vertical-align: middle;\n",
       "    }\n",
       "\n",
       "    .dataframe tbody tr th {\n",
       "        vertical-align: top;\n",
       "    }\n",
       "\n",
       "    .dataframe thead th {\n",
       "        text-align: right;\n",
       "    }\n",
       "</style>\n",
       "<table border=\"1\" class=\"dataframe\">\n",
       "  <thead>\n",
       "    <tr style=\"text-align: right;\">\n",
       "      <th></th>\n",
       "      <th>Supply_id</th>\n",
       "    </tr>\n",
       "  </thead>\n",
       "  <tbody>\n",
       "    <tr>\n",
       "      <th>D1</th>\n",
       "      <td>NaN</td>\n",
       "    </tr>\n",
       "    <tr>\n",
       "      <th>D2</th>\n",
       "      <td>NaN</td>\n",
       "    </tr>\n",
       "    <tr>\n",
       "      <th>D3</th>\n",
       "      <td>NaN</td>\n",
       "    </tr>\n",
       "  </tbody>\n",
       "</table>\n",
       "</div>"
      ],
      "text/plain": [
       "   Supply_id\n",
       "D1       NaN\n",
       "D2       NaN\n",
       "D3       NaN"
      ]
     },
     "execution_count": 7,
     "metadata": {},
     "output_type": "execute_result"
    }
   ],
   "source": [
    "match_map = pd.DataFrame(None, index=demand.index.values.tolist() , columns=['Supply_id'] )\n",
    "match_map"
   ]
  },
  {
   "cell_type": "markdown",
   "metadata": {
    "id": "-RX7C3NPPuXT"
   },
   "source": [
    "Create incidence matrix called `match_matrix`"
   ]
  },
  {
   "cell_type": "code",
   "execution_count": 8,
   "metadata": {
    "colab": {
     "base_uri": "https://localhost:8080/",
     "height": 143
    },
    "id": "0vJ9VC-OOvWW",
    "outputId": "1bee79bc-bf0e-4f8e-ebcb-687d2a4f7ac0"
   },
   "outputs": [
    {
     "data": {
      "text/html": [
       "<div>\n",
       "<style scoped>\n",
       "    .dataframe tbody tr th:only-of-type {\n",
       "        vertical-align: middle;\n",
       "    }\n",
       "\n",
       "    .dataframe tbody tr th {\n",
       "        vertical-align: top;\n",
       "    }\n",
       "\n",
       "    .dataframe thead th {\n",
       "        text-align: right;\n",
       "    }\n",
       "</style>\n",
       "<table border=\"1\" class=\"dataframe\">\n",
       "  <thead>\n",
       "    <tr style=\"text-align: right;\">\n",
       "      <th></th>\n",
       "      <th>R1</th>\n",
       "      <th>R2</th>\n",
       "      <th>R3</th>\n",
       "      <th>R4</th>\n",
       "      <th>N1</th>\n",
       "      <th>N2</th>\n",
       "      <th>N3</th>\n",
       "    </tr>\n",
       "  </thead>\n",
       "  <tbody>\n",
       "    <tr>\n",
       "      <th>D1</th>\n",
       "      <td>NaN</td>\n",
       "      <td>NaN</td>\n",
       "      <td>NaN</td>\n",
       "      <td>NaN</td>\n",
       "      <td>NaN</td>\n",
       "      <td>NaN</td>\n",
       "      <td>NaN</td>\n",
       "    </tr>\n",
       "    <tr>\n",
       "      <th>D2</th>\n",
       "      <td>NaN</td>\n",
       "      <td>NaN</td>\n",
       "      <td>NaN</td>\n",
       "      <td>NaN</td>\n",
       "      <td>NaN</td>\n",
       "      <td>NaN</td>\n",
       "      <td>NaN</td>\n",
       "    </tr>\n",
       "    <tr>\n",
       "      <th>D3</th>\n",
       "      <td>NaN</td>\n",
       "      <td>NaN</td>\n",
       "      <td>NaN</td>\n",
       "      <td>NaN</td>\n",
       "      <td>NaN</td>\n",
       "      <td>NaN</td>\n",
       "      <td>NaN</td>\n",
       "    </tr>\n",
       "  </tbody>\n",
       "</table>\n",
       "</div>"
      ],
      "text/plain": [
       "    R1  R2  R3  R4  N1  N2  N3\n",
       "D1 NaN NaN NaN NaN NaN NaN NaN\n",
       "D2 NaN NaN NaN NaN NaN NaN NaN\n",
       "D3 NaN NaN NaN NaN NaN NaN NaN"
      ]
     },
     "execution_count": 8,
     "metadata": {},
     "output_type": "execute_result"
    }
   ],
   "source": [
    "match_matrix = pd.DataFrame(np.nan, index=demand.index.values.tolist() , columns=supply.index.values.tolist() )\n",
    "match_matrix"
   ]
  },
  {
   "cell_type": "code",
   "execution_count": 9,
   "metadata": {
    "colab": {
     "base_uri": "https://localhost:8080/",
     "height": 143
    },
    "id": "3NHIiwdCQG6Y",
    "outputId": "aba363cc-3202-4ebc-ee86-c57a6bd6ef3f"
   },
   "outputs": [
    {
     "data": {
      "text/html": [
       "<div>\n",
       "<style scoped>\n",
       "    .dataframe tbody tr th:only-of-type {\n",
       "        vertical-align: middle;\n",
       "    }\n",
       "\n",
       "    .dataframe tbody tr th {\n",
       "        vertical-align: top;\n",
       "    }\n",
       "\n",
       "    .dataframe thead th {\n",
       "        text-align: right;\n",
       "    }\n",
       "</style>\n",
       "<table border=\"1\" class=\"dataframe\">\n",
       "  <thead>\n",
       "    <tr style=\"text-align: right;\">\n",
       "      <th></th>\n",
       "      <th>R1</th>\n",
       "      <th>R2</th>\n",
       "      <th>R3</th>\n",
       "      <th>R4</th>\n",
       "      <th>N1</th>\n",
       "      <th>N2</th>\n",
       "      <th>N3</th>\n",
       "    </tr>\n",
       "  </thead>\n",
       "  <tbody>\n",
       "    <tr>\n",
       "      <th>D1</th>\n",
       "      <td>0.63</td>\n",
       "      <td>NaN</td>\n",
       "      <td>NaN</td>\n",
       "      <td>NaN</td>\n",
       "      <td>8.09</td>\n",
       "      <td>NaN</td>\n",
       "      <td>NaN</td>\n",
       "    </tr>\n",
       "    <tr>\n",
       "      <th>D2</th>\n",
       "      <td>NaN</td>\n",
       "      <td>NaN</td>\n",
       "      <td>NaN</td>\n",
       "      <td>NaN</td>\n",
       "      <td>NaN</td>\n",
       "      <td>0.38</td>\n",
       "      <td>NaN</td>\n",
       "    </tr>\n",
       "    <tr>\n",
       "      <th>D3</th>\n",
       "      <td>0.45</td>\n",
       "      <td>NaN</td>\n",
       "      <td>0.47</td>\n",
       "      <td>0.46</td>\n",
       "      <td>5.78</td>\n",
       "      <td>NaN</td>\n",
       "      <td>5.78</td>\n",
       "    </tr>\n",
       "  </tbody>\n",
       "</table>\n",
       "</div>"
      ],
      "text/plain": [
       "      R1  R2    R3    R4    N1    N2    N3\n",
       "D1  0.63 NaN   NaN   NaN  8.09   NaN   NaN\n",
       "D2   NaN NaN   NaN   NaN   NaN  0.38   NaN\n",
       "D3  0.45 NaN  0.47  0.46  5.78   NaN  5.78"
      ]
     },
     "execution_count": 9,
     "metadata": {},
     "output_type": "execute_result"
    }
   ],
   "source": [
    "# assign LCA but only when pass all the criteria: \n",
    "for i, D_row in demand.iterrows():\n",
    "    for j, S_row in supply.iterrows():\n",
    "        # find all matches that satisfy criteria\n",
    "        if demand.loc[i]['Length'] <= supply.loc[j]['Length'] and demand.loc[i]['Area'] <= supply.loc[j]['Area'] and demand.loc[i]['Inertia_moment'] <= supply.loc[j]['Inertia_moment'] and demand.loc[i]['Height'] <= supply.loc[j]['Height']:\n",
    "          # fill with LCA\n",
    "          if supply.loc[j]['Is_new']:\n",
    "            match_matrix.loc[i, j] = round(demand.loc[i]['Length']*supply.loc[j]['Area']*f_GWP_new, 2)\n",
    "          else:\n",
    "            match_matrix.loc[i, j] = round(demand.loc[i]['Length']*supply.loc[j]['Area']*f_GWP_old, 2)\n",
    "\n",
    "match_matrix"
   ]
  },
  {
   "cell_type": "code",
   "execution_count": 10,
   "metadata": {
    "id": "8Q1dILIAtnVZ"
   },
   "outputs": [],
   "source": [
    "def apply_matching(d_id, s_id):\n",
    "  # add to match_map:\n",
    "  match_map.loc[d_id, 'Supply_id'] = s_id\n",
    "  # remove already used:\n",
    "  try:\n",
    "    match_matrix.drop(d_id, inplace=True)\n",
    "    match_matrix.drop(s_id, axis=1, inplace=True)\n",
    "  except KeyError:\n",
    "    pass"
   ]
  },
  {
   "cell_type": "code",
   "execution_count": null,
   "metadata": {},
   "outputs": [],
   "source": [
    "# def purge_lonely(m):\n",
    "#   # Eliminate rows with no match (meaning, that demand has element longer than longest in supply):\n",
    "#   m.drop(m[m.sum(axis=1) == 0].index, inplace=True)\n",
    "#   # Eliminate columns with no match (meaning that there are elements in supply shorter than shortest in demand):\n",
    "#   m.drop(m.columns[m.sum() == 0], axis=1, inplace=True)\n",
    "\n",
    "# def solo_match(match_matrix):\n",
    "#   # Match if only one-to-one match\n",
    "#   for index, row in match_matrix.iterrows():\n",
    "#     if row.count() == 1:\n",
    "#       found_id = row.idxmax()\n",
    "#       apply_matching(index, found_id)\n",
    "#   return found_id"
   ]
  },
  {
   "cell_type": "code",
   "execution_count": null,
   "metadata": {
    "id": "XZFcYN_Ud6yY"
   },
   "outputs": [],
   "source": [
    "# purge_lonely(match_matrix)"
   ]
  },
  {
   "cell_type": "code",
   "execution_count": null,
   "metadata": {
    "id": "2wDxz0xxj_tn"
   },
   "outputs": [],
   "source": [
    "# solo_match(match_matrix)"
   ]
  },
  {
   "cell_type": "code",
   "execution_count": 11,
   "metadata": {
    "id": "4Yvdg5LtaWTO"
   },
   "outputs": [
    {
     "data": {
      "text/html": [
       "<div>\n",
       "<style scoped>\n",
       "    .dataframe tbody tr th:only-of-type {\n",
       "        vertical-align: middle;\n",
       "    }\n",
       "\n",
       "    .dataframe tbody tr th {\n",
       "        vertical-align: top;\n",
       "    }\n",
       "\n",
       "    .dataframe thead th {\n",
       "        text-align: right;\n",
       "    }\n",
       "</style>\n",
       "<table border=\"1\" class=\"dataframe\">\n",
       "  <thead>\n",
       "    <tr style=\"text-align: right;\">\n",
       "      <th></th>\n",
       "      <th>Supply_id</th>\n",
       "    </tr>\n",
       "  </thead>\n",
       "  <tbody>\n",
       "    <tr>\n",
       "      <th>D1</th>\n",
       "      <td>NaN</td>\n",
       "    </tr>\n",
       "    <tr>\n",
       "      <th>D2</th>\n",
       "      <td>NaN</td>\n",
       "    </tr>\n",
       "    <tr>\n",
       "      <th>D3</th>\n",
       "      <td>NaN</td>\n",
       "    </tr>\n",
       "  </tbody>\n",
       "</table>\n",
       "</div>"
      ],
      "text/plain": [
       "   Supply_id\n",
       "D1       NaN\n",
       "D2       NaN\n",
       "D3       NaN"
      ]
     },
     "execution_count": 11,
     "metadata": {},
     "output_type": "execute_result"
    }
   ],
   "source": [
    "match_map"
   ]
  },
  {
   "cell_type": "markdown",
   "metadata": {
    "id": "6-QPPZn4kn44"
   },
   "source": [
    "**turn into graph**"
   ]
  },
  {
   "cell_type": "code",
   "execution_count": 12,
   "metadata": {
    "colab": {
     "base_uri": "https://localhost:8080/"
    },
    "id": "DkAKiSpFkXrQ",
    "outputId": "68d9f4a9-f7b8-455b-ab05-e6911e5bac2c"
   },
   "outputs": [
    {
     "name": "stdout",
     "output_type": "stream",
     "text": [
      "Requirement already satisfied: igraph in c:\\users\\arturbt\\appdata\\local\\programs\\python\\python310\\lib\\site-packages (0.10.1)\n",
      "Requirement already satisfied: texttable>=1.6.2 in c:\\users\\arturbt\\appdata\\local\\programs\\python\\python310\\lib\\site-packages (from igraph) (1.6.4)\n"
     ]
    }
   ],
   "source": [
    "!pip install igraph"
   ]
  },
  {
   "cell_type": "code",
   "execution_count": 23,
   "metadata": {
    "id": "Q67oChZ6kXrR"
   },
   "outputs": [],
   "source": [
    "import igraph as ig\n",
    "import math\n",
    "import matplotlib.pyplot as plt"
   ]
  },
  {
   "cell_type": "code",
   "execution_count": 97,
   "metadata": {
    "colab": {
     "base_uri": "https://localhost:8080/"
    },
    "id": "9ep2Vmr1m0b9",
    "outputId": "e0bfe226-9ec1-4630-f212-59edff081dfd"
   },
   "outputs": [],
   "source": [
    "def matrix_to_graph(demand, supply, match_matrix):\n",
    "    vertices = [0] * len(demand.index) + [1] * len(supply.index) #['D1', 'D2', 'R1', 'R2']\n",
    "\n",
    "    edges=[]\n",
    "    weights=[]  # weights is the maximizing objective, in our case 1/LCA\n",
    "    i = 0\n",
    "    for index, row in match_matrix.iterrows():\n",
    "      j = len(demand.index)\n",
    "      for v in row:\n",
    "        if v>0:\n",
    "          edges.append((i,j))\n",
    "          weights.append(round(1/v,2))\n",
    "        j+=1\n",
    "      i+=1\n",
    "\n",
    "    graph = ig.Graph.Bipartite(\n",
    "        vertices,\n",
    "        edges\n",
    "    )\n",
    "    \n",
    "    graph.es[\"label\"] = weights\n",
    "    graph.vs[\"label\"] = list(demand.index)+list(supply.index) # vertice names\n",
    "    \n",
    "    return graph\n",
    "\n",
    "\n",
    "def display_graph(graph):\n",
    "    # TODO add display of matching\n",
    "    fig, ax = plt.subplots(figsize=(20, 10))\n",
    "    ig.plot(\n",
    "        graph,\n",
    "        target=ax,\n",
    "        layout=graph.layout_bipartite(),\n",
    "        vertex_size=0.4,\n",
    "        vertex_label=graph.vs[\"label\"],\n",
    "        palette=ig.RainbowPalette(),\n",
    "        vertex_color=[v*80+50 for v in graph.vs[\"type\"]],\n",
    "        edge_width=graph.es[\"label\"],\n",
    "        edge_label=[round(1/w,2) for w in graph.es[\"label\"]]  # invert weight, to see real LCA\n",
    "    )\n",
    "    plt.show()\n",
    "\n",
    "\n",
    "def best_matching(match_graph):\n",
    "    # Match by finding one best coandidate \n",
    "    result = 0\n",
    "    matching = ig.Graph.maximum_bipartite_matching(match_graph, weights=match_graph.es[\"label\"])\n",
    "    for match_edge in matching.edges():        \n",
    "        apply_matching(match_edge.source_vertex[\"label\"], match_edge.target_vertex[\"label\"])\n",
    "    return sum(matching.edges()[\"label\"]) #LCA"
   ]
  },
  {
   "cell_type": "code",
   "execution_count": 98,
   "metadata": {},
   "outputs": [],
   "source": [
    "match_graph = matrix_to_graph(demand, supply, match_matrix)"
   ]
  },
  {
   "cell_type": "code",
   "execution_count": 99,
   "metadata": {},
   "outputs": [
    {
     "data": {
      "image/png": "[encoded data removed]",
      "text/plain": [
       "<Figure size 2000x1000 with 1 Axes>"
      ]
     },
     "metadata": {},
     "output_type": "display_data"
    }
   ],
   "source": [
    "display_graph(match_graph)"
   ]
  },
  {
   "cell_type": "code",
   "execution_count": 100,
   "metadata": {},
   "outputs": [
    {
     "data": {
      "text/plain": [
       "6.39"
      ]
     },
     "execution_count": 100,
     "metadata": {},
     "output_type": "execute_result"
    }
   ],
   "source": [
    "best_matching(match_graph)"
   ]
  },
  {
   "cell_type": "code",
   "execution_count": 101,
   "metadata": {},
   "outputs": [
    {
     "data": {
      "text/html": [
       "<div>\n",
       "<style scoped>\n",
       "    .dataframe tbody tr th:only-of-type {\n",
       "        vertical-align: middle;\n",
       "    }\n",
       "\n",
       "    .dataframe tbody tr th {\n",
       "        vertical-align: top;\n",
       "    }\n",
       "\n",
       "    .dataframe thead th {\n",
       "        text-align: right;\n",
       "    }\n",
       "</style>\n",
       "<table border=\"1\" class=\"dataframe\">\n",
       "  <thead>\n",
       "    <tr style=\"text-align: right;\">\n",
       "      <th></th>\n",
       "      <th>Supply_id</th>\n",
       "    </tr>\n",
       "  </thead>\n",
       "  <tbody>\n",
       "    <tr>\n",
       "      <th>D1</th>\n",
       "      <td>R1</td>\n",
       "    </tr>\n",
       "    <tr>\n",
       "      <th>D2</th>\n",
       "      <td>N2</td>\n",
       "    </tr>\n",
       "    <tr>\n",
       "      <th>D3</th>\n",
       "      <td>R4</td>\n",
       "    </tr>\n",
       "  </tbody>\n",
       "</table>\n",
       "</div>"
      ],
      "text/plain": [
       "   Supply_id\n",
       "D1        R1\n",
       "D2        N2\n",
       "D3        R4"
      ]
     },
     "execution_count": 101,
     "metadata": {},
     "output_type": "execute_result"
    }
   ],
   "source": [
    "match_map"
   ]
  },
  {
   "cell_type": "markdown",
   "metadata": {
    "id": "FCNJieuZqjyw"
   },
   "source": [
    "___________________\n",
    "# BELOW THIS LINE IS OLD CODE...\n",
    "___________________\n"
   ]
  },
  {
   "cell_type": "markdown",
   "metadata": {
    "id": "0eqABA5Ie_7W"
   },
   "source": [
    "### Input assumptions\n",
    "First assumption is that we only consider timber. Steel or concrete could yield more significant savings due to their high carbon footprint. "
   ]
  },
  {
   "cell_type": "code",
   "execution_count": null,
   "metadata": {
    "id": "8zEFrX3pe_Kt"
   },
   "outputs": [],
   "source": [
    "NEW_PRICE = 8000    # [NOK/m3], based on average from https://www.byggmax.no/catalogsearch/result/?q=KONSTRUKSJONSVIRKE\n",
    "NEW_LCA_GWP_A1_A3 = 28.9 # [kgCO2e/m3], assuming 'fossil GWP' and 16% moisture, based on https://www.epd-norge.no/heltreprodukter/sawn-dried-timber-of-spruce-and-pine-with-an-average-moisture-content-of-16-article4098-320.html\n",
    "NEW_LCA_GWP_A5 = 1.59   # [kgCO2e/m3], assuming 'fossil GWP' and 16% moisture, based on https://www.epd-norge.no/heltreprodukter/sawn-dried-timber-of-spruce-and-pine-with-an-average-moisture-content-of-16-article4098-320.html\n",
    "NEW_DISTANCE = 100  # [km], maybe it should be variable e.g. 0-500km, based on https://www.epd-norge.no/heltreprodukter/sawn-dried-timber-of-spruce-and-pine-with-an-average-moisture-content-of-16-article4098-320.html\n",
    "\n",
    "DENSITY = 491                 # [kg/m3], assuming 16% moisture, based on https://www.epd-norge.no/heltreprodukter/sawn-dried-timber-of-spruce-and-pine-with-an-average-moisture-content-of-16-article4098-320.html\n",
    "TRANSPORT_LCA_GWP = 0.0318    # [kgCO2e/km], assuming 45% (90% and 0% back) utilisation of 34t truck, burning 0.027 l/tonkm (both ways), based on https://www.epd-norge.no/heltreprodukter/sawn-dried-timber-of-spruce-and-pine-with-an-average-moisture-content-of-16-article4098-320.html\n",
    "# TRANSPORT_PRICE = ???       # [nok/tonkm], ?\n",
    "\n",
    "MIN_LENGTH = 1.0    # [m]\n",
    "MAX_LENGTH = 12.0   # [m]\n",
    "MIN_AREA = 0.0025   # [m2], 5x5cm\n",
    "MAX_AREA = 0.125    # [m2], 25x50cm\n",
    "\n",
    "demand_COUNT = 5\n",
    "supply_COUNT = 20\n",
    "\n",
    "supply_DISTANCE = [50, 100, 150] # [km], random of this list that represents multiple preowned elements stocks \n",
    "supply_LCA_GWP_A1_A3 = NEW_LCA_GWP_A1_A3 * 0.0778     # [kgCO2e/m3], based on new product and factor derived from (Eberhardt, 2020)\n",
    "supply_LCA_GWP_A5 = NEW_LCA_GWP_A5                    # [kgCO2e/m3], assuming it is the same as for new product\n",
    "supply_PRICE = 4000         # [NOK/m3], based on Ormondroyd et al. (2016), where used beam 9\"x1.5\"x16ft costs 14gbp, so approximately 168 NOK, so a cubic meter appr. 4020nok. TODO: better analysis would be valuable."
   ]
  },
  {
   "cell_type": "markdown",
   "metadata": {
    "id": "4-TpXXQhaJm5"
   },
   "source": [
    "### Generate pseudorandom sets of numbers\n",
    "For the material supply:"
   ]
  },
  {
   "cell_type": "code",
   "execution_count": null,
   "metadata": {
    "id": "tBUmbyEKpMd1"
   },
   "outputs": [],
   "source": [
    "import pandas as pd\n",
    "import random\n",
    "\n",
    "random.seed(3)\n",
    "\n",
    "supply = pd.DataFrame()\n",
    "supply['Length'] = [x/10 for x in random.choices(range(int(MIN_LENGTH*10), int(MAX_LENGTH*10)), k=supply_COUNT)]        # [m], random between the range\n",
    "supply['Area'] = supply.apply(lambda row: round((random.choice(range(0, int(MAX_AREA*10000)-int(MIN_AREA*10000))) /10000 /MAX_LENGTH * row['Length'] + MIN_AREA) * 10000)/10000, axis=1)        # [m2], random between the range but dependent on the length of the element\n",
    "supply['Distance'] = supply.apply(lambda row: random.choice(supply_DISTANCE), axis=1)   # [km], random of possible distances\n",
    "supply['Price'] = supply.apply(lambda row: round(row['Length'] * row['Area'] * supply_PRICE), axis=1)                          # [NOK], length * area * price (per m3)\n",
    "supply['LCA_GWP'] = supply.apply(lambda row: round(row['Length'] * row['Area'] * (supply_LCA_GWP_A1_A3 + supply_LCA_GWP_A5)+ row['Distance'] * TRANSPORT_LCA_GWP * 10)/10, axis=1)    # [kgCO2e], length * area * processing_emissions + distance * transport_emissions  \n",
    "supply['Weight'] = supply.apply(lambda row: round(row['Length'] * row['Area'] * DENSITY * 10)/10, axis=1)    # [kg], length * area * density"
   ]
  },
  {
   "cell_type": "code",
   "execution_count": null,
   "metadata": {
    "colab": {
     "base_uri": "https://localhost:8080/",
     "height": 676
    },
    "id": "tVeS2ixzIJZH",
    "outputId": "47235748-f727-4b1d-8ed1-1bf70020a25b"
   },
   "outputs": [
    {
     "data": {
      "text/html": [
       "\n",
       "  <div id=\"df-8ee064e0-8dd2-4719-a58b-a3ed6eb91837\">\n",
       "    <div class=\"colab-df-container\">\n",
       "      <div>\n",
       "<style scoped>\n",
       "    .dataframe tbody tr th:only-of-type {\n",
       "        vertical-align: middle;\n",
       "    }\n",
       "\n",
       "    .dataframe tbody tr th {\n",
       "        vertical-align: top;\n",
       "    }\n",
       "\n",
       "    .dataframe thead th {\n",
       "        text-align: right;\n",
       "    }\n",
       "</style>\n",
       "<table border=\"1\" class=\"dataframe\">\n",
       "  <thead>\n",
       "    <tr style=\"text-align: right;\">\n",
       "      <th></th>\n",
       "      <th>Length</th>\n",
       "      <th>Area</th>\n",
       "      <th>Distance</th>\n",
       "      <th>Price</th>\n",
       "      <th>LCA_GWP</th>\n",
       "      <th>Weight</th>\n",
       "    </tr>\n",
       "  </thead>\n",
       "  <tbody>\n",
       "    <tr>\n",
       "      <th>0</th>\n",
       "      <td>3.6</td>\n",
       "      <td>0.0064</td>\n",
       "      <td>50</td>\n",
       "      <td>92</td>\n",
       "      <td>1.6</td>\n",
       "      <td>11.3</td>\n",
       "    </tr>\n",
       "    <tr>\n",
       "      <th>1</th>\n",
       "      <td>6.9</td>\n",
       "      <td>0.0212</td>\n",
       "      <td>100</td>\n",
       "      <td>585</td>\n",
       "      <td>3.2</td>\n",
       "      <td>71.8</td>\n",
       "    </tr>\n",
       "    <tr>\n",
       "      <th>2</th>\n",
       "      <td>5.0</td>\n",
       "      <td>0.0529</td>\n",
       "      <td>150</td>\n",
       "      <td>1058</td>\n",
       "      <td>4.9</td>\n",
       "      <td>129.9</td>\n",
       "    </tr>\n",
       "    <tr>\n",
       "      <th>3</th>\n",
       "      <td>7.6</td>\n",
       "      <td>0.0080</td>\n",
       "      <td>100</td>\n",
       "      <td>243</td>\n",
       "      <td>3.2</td>\n",
       "      <td>29.9</td>\n",
       "    </tr>\n",
       "    <tr>\n",
       "      <th>4</th>\n",
       "      <td>7.8</td>\n",
       "      <td>0.0425</td>\n",
       "      <td>150</td>\n",
       "      <td>1326</td>\n",
       "      <td>4.9</td>\n",
       "      <td>162.8</td>\n",
       "    </tr>\n",
       "    <tr>\n",
       "      <th>5</th>\n",
       "      <td>1.7</td>\n",
       "      <td>0.0034</td>\n",
       "      <td>100</td>\n",
       "      <td>23</td>\n",
       "      <td>3.2</td>\n",
       "      <td>2.8</td>\n",
       "    </tr>\n",
       "    <tr>\n",
       "      <th>6</th>\n",
       "      <td>1.1</td>\n",
       "      <td>0.0076</td>\n",
       "      <td>100</td>\n",
       "      <td>33</td>\n",
       "      <td>3.2</td>\n",
       "      <td>4.1</td>\n",
       "    </tr>\n",
       "    <tr>\n",
       "      <th>7</th>\n",
       "      <td>10.2</td>\n",
       "      <td>0.0848</td>\n",
       "      <td>150</td>\n",
       "      <td>3460</td>\n",
       "      <td>5.1</td>\n",
       "      <td>424.7</td>\n",
       "    </tr>\n",
       "    <tr>\n",
       "      <th>8</th>\n",
       "      <td>3.8</td>\n",
       "      <td>0.0411</td>\n",
       "      <td>100</td>\n",
       "      <td>625</td>\n",
       "      <td>3.2</td>\n",
       "      <td>76.7</td>\n",
       "    </tr>\n",
       "    <tr>\n",
       "      <th>9</th>\n",
       "      <td>3.5</td>\n",
       "      <td>0.0256</td>\n",
       "      <td>150</td>\n",
       "      <td>358</td>\n",
       "      <td>4.8</td>\n",
       "      <td>44.0</td>\n",
       "    </tr>\n",
       "    <tr>\n",
       "      <th>10</th>\n",
       "      <td>11.9</td>\n",
       "      <td>0.0892</td>\n",
       "      <td>100</td>\n",
       "      <td>4246</td>\n",
       "      <td>3.6</td>\n",
       "      <td>521.2</td>\n",
       "    </tr>\n",
       "    <tr>\n",
       "      <th>11</th>\n",
       "      <td>6.1</td>\n",
       "      <td>0.0436</td>\n",
       "      <td>150</td>\n",
       "      <td>1064</td>\n",
       "      <td>4.9</td>\n",
       "      <td>130.6</td>\n",
       "    </tr>\n",
       "    <tr>\n",
       "      <th>12</th>\n",
       "      <td>10.2</td>\n",
       "      <td>0.1029</td>\n",
       "      <td>150</td>\n",
       "      <td>4198</td>\n",
       "      <td>5.2</td>\n",
       "      <td>515.3</td>\n",
       "    </tr>\n",
       "    <tr>\n",
       "      <th>13</th>\n",
       "      <td>6.2</td>\n",
       "      <td>0.0495</td>\n",
       "      <td>100</td>\n",
       "      <td>1228</td>\n",
       "      <td>3.3</td>\n",
       "      <td>150.7</td>\n",
       "    </tr>\n",
       "    <tr>\n",
       "      <th>14</th>\n",
       "      <td>8.0</td>\n",
       "      <td>0.0208</td>\n",
       "      <td>150</td>\n",
       "      <td>666</td>\n",
       "      <td>4.8</td>\n",
       "      <td>81.7</td>\n",
       "    </tr>\n",
       "    <tr>\n",
       "      <th>15</th>\n",
       "      <td>2.6</td>\n",
       "      <td>0.0187</td>\n",
       "      <td>50</td>\n",
       "      <td>194</td>\n",
       "      <td>1.6</td>\n",
       "      <td>23.9</td>\n",
       "    </tr>\n",
       "    <tr>\n",
       "      <th>16</th>\n",
       "      <td>7.9</td>\n",
       "      <td>0.0156</td>\n",
       "      <td>100</td>\n",
       "      <td>493</td>\n",
       "      <td>3.2</td>\n",
       "      <td>60.5</td>\n",
       "    </tr>\n",
       "    <tr>\n",
       "      <th>17</th>\n",
       "      <td>10.5</td>\n",
       "      <td>0.0089</td>\n",
       "      <td>150</td>\n",
       "      <td>374</td>\n",
       "      <td>4.8</td>\n",
       "      <td>45.9</td>\n",
       "    </tr>\n",
       "    <tr>\n",
       "      <th>18</th>\n",
       "      <td>6.7</td>\n",
       "      <td>0.0180</td>\n",
       "      <td>50</td>\n",
       "      <td>482</td>\n",
       "      <td>1.6</td>\n",
       "      <td>59.2</td>\n",
       "    </tr>\n",
       "    <tr>\n",
       "      <th>19</th>\n",
       "      <td>9.1</td>\n",
       "      <td>0.0793</td>\n",
       "      <td>100</td>\n",
       "      <td>2887</td>\n",
       "      <td>3.5</td>\n",
       "      <td>354.3</td>\n",
       "    </tr>\n",
       "  </tbody>\n",
       "</table>\n",
       "</div>\n",
       "      <button class=\"colab-df-convert\" onclick=\"convertToInteractive('df-8ee064e0-8dd2-4719-a58b-a3ed6eb91837')\"\n",
       "              title=\"Convert this dataframe to an interactive table.\"\n",
       "              style=\"display:none;\">\n",
       "        \n",
       "  <svg xmlns=\"http://www.w3.org/2000/svg\" height=\"24px\"viewBox=\"0 0 24 24\"\n",
       "       width=\"24px\">\n",
       "    <path d=\"M0 0h24v24H0V0z\" fill=\"none\"/>\n",
       "    <path d=\"M18.56 5.44l.94 2.06.94-2.06 2.06-.94-2.06-.94-.94-2.06-.94 2.06-2.06.94zm-11 1L8.5 8.5l.94-2.06 2.06-.94-2.06-.94L8.5 2.5l-.94 2.06-2.06.94zm10 10l.94 2.06.94-2.06 2.06-.94-2.06-.94-.94-2.06-.94 2.06-2.06.94z\"/><path d=\"M17.41 7.96l-1.37-1.37c-.4-.4-.92-.59-1.43-.59-.52 0-1.04.2-1.43.59L10.3 9.45l-7.72 7.72c-.78.78-.78 2.05 0 2.83L4 21.41c.39.39.9.59 1.41.59.51 0 1.02-.2 1.41-.59l7.78-7.78 2.81-2.81c.8-.78.8-2.07 0-2.86zM5.41 20L4 18.59l7.72-7.72 1.47 1.35L5.41 20z\"/>\n",
       "  </svg>\n",
       "      </button>\n",
       "      \n",
       "  <style>\n",
       "    .colab-df-container {\n",
       "      display:flex;\n",
       "      flex-wrap:wrap;\n",
       "      gap: 12px;\n",
       "    }\n",
       "\n",
       "    .colab-df-convert {\n",
       "      background-color: #E8F0FE;\n",
       "      border: none;\n",
       "      border-radius: 50%;\n",
       "      cursor: pointer;\n",
       "      display: none;\n",
       "      fill: #1967D2;\n",
       "      height: 32px;\n",
       "      padding: 0 0 0 0;\n",
       "      width: 32px;\n",
       "    }\n",
       "\n",
       "    .colab-df-convert:hover {\n",
       "      background-color: #E2EBFA;\n",
       "      box-shadow: 0px 1px 2px rgba(60, 64, 67, 0.3), 0px 1px 3px 1px rgba(60, 64, 67, 0.15);\n",
       "      fill: #174EA6;\n",
       "    }\n",
       "\n",
       "    [theme=dark] .colab-df-convert {\n",
       "      background-color: #3B4455;\n",
       "      fill: #D2E3FC;\n",
       "    }\n",
       "\n",
       "    [theme=dark] .colab-df-convert:hover {\n",
       "      background-color: #434B5C;\n",
       "      box-shadow: 0px 1px 3px 1px rgba(0, 0, 0, 0.15);\n",
       "      filter: drop-shadow(0px 1px 2px rgba(0, 0, 0, 0.3));\n",
       "      fill: #FFFFFF;\n",
       "    }\n",
       "  </style>\n",
       "\n",
       "      <script>\n",
       "        const buttonEl =\n",
       "          document.querySelector('#df-8ee064e0-8dd2-4719-a58b-a3ed6eb91837 button.colab-df-convert');\n",
       "        buttonEl.style.display =\n",
       "          google.colab.kernel.accessAllowed ? 'block' : 'none';\n",
       "\n",
       "        async function convertToInteractive(key) {\n",
       "          const element = document.querySelector('#df-8ee064e0-8dd2-4719-a58b-a3ed6eb91837');\n",
       "          const dataTable =\n",
       "            await google.colab.kernel.invokeFunction('convertToInteractive',\n",
       "                                                     [key], {});\n",
       "          if (!dataTable) return;\n",
       "\n",
       "          const docLinkHtml = 'Like what you see? Visit the ' +\n",
       "            '<a target=\"_blank\" href=https://colab.research.google.com/notebooks/data_table.ipynb>data table notebook</a>'\n",
       "            + ' to learn more about interactive tables.';\n",
       "          element.innerHTML = '';\n",
       "          dataTable['output_type'] = 'display_data';\n",
       "          await google.colab.output.renderOutput(dataTable, element);\n",
       "          const docLink = document.createElement('div');\n",
       "          docLink.innerHTML = docLinkHtml;\n",
       "          element.appendChild(docLink);\n",
       "        }\n",
       "      </script>\n",
       "    </div>\n",
       "  </div>\n",
       "  "
      ],
      "text/plain": [
       "    Length    Area  Distance  Price  LCA_GWP  Weight\n",
       "0      3.6  0.0064        50     92      1.6    11.3\n",
       "1      6.9  0.0212       100    585      3.2    71.8\n",
       "2      5.0  0.0529       150   1058      4.9   129.9\n",
       "3      7.6  0.0080       100    243      3.2    29.9\n",
       "4      7.8  0.0425       150   1326      4.9   162.8\n",
       "5      1.7  0.0034       100     23      3.2     2.8\n",
       "6      1.1  0.0076       100     33      3.2     4.1\n",
       "7     10.2  0.0848       150   3460      5.1   424.7\n",
       "8      3.8  0.0411       100    625      3.2    76.7\n",
       "9      3.5  0.0256       150    358      4.8    44.0\n",
       "10    11.9  0.0892       100   4246      3.6   521.2\n",
       "11     6.1  0.0436       150   1064      4.9   130.6\n",
       "12    10.2  0.1029       150   4198      5.2   515.3\n",
       "13     6.2  0.0495       100   1228      3.3   150.7\n",
       "14     8.0  0.0208       150    666      4.8    81.7\n",
       "15     2.6  0.0187        50    194      1.6    23.9\n",
       "16     7.9  0.0156       100    493      3.2    60.5\n",
       "17    10.5  0.0089       150    374      4.8    45.9\n",
       "18     6.7  0.0180        50    482      1.6    59.2\n",
       "19     9.1  0.0793       100   2887      3.5   354.3"
      ]
     },
     "execution_count": 4,
     "metadata": {},
     "output_type": "execute_result"
    }
   ],
   "source": [
    "supply"
   ]
  },
  {
   "cell_type": "markdown",
   "metadata": {
    "id": "fxyWPALpP0Xx"
   },
   "source": [
    "Same for the design model:"
   ]
  },
  {
   "cell_type": "code",
   "execution_count": null,
   "metadata": {
    "id": "vwPSvru0P4xj"
   },
   "outputs": [],
   "source": [
    "demand = pd.DataFrame()\n",
    "demand['Length'] = [x/10 for x in random.choices(range(15, 100), k=demand_COUNT)]   # [m], random between 1.0 and 10.0 meters long\n",
    "demand['Area'] = demand.apply(lambda row: round((random.choice(range(0, int(MAX_AREA*10000)-int(MIN_AREA*10000))) /10000 /MAX_LENGTH * row['Length'] + MIN_AREA)*10000)/10000, axis=1)        # [m2], random between the range but dependent on the length of the element\n",
    "demand['Weight'] = demand.apply(lambda row: round(row['Length'] * row['Area'] * DENSITY *10)/10, axis=1)    # [kg], length * area * density"
   ]
  },
  {
   "cell_type": "code",
   "execution_count": null,
   "metadata": {
    "colab": {
     "base_uri": "https://localhost:8080/",
     "height": 206
    },
    "id": "nUqsMeO9Amvq",
    "outputId": "e1e9554e-0089-4953-c210-97b1bbe9d3c7"
   },
   "outputs": [
    {
     "data": {
      "text/html": [
       "\n",
       "  <div id=\"df-acf092f5-3d60-42c6-a25b-f50d83118dec\">\n",
       "    <div class=\"colab-df-container\">\n",
       "      <div>\n",
       "<style scoped>\n",
       "    .dataframe tbody tr th:only-of-type {\n",
       "        vertical-align: middle;\n",
       "    }\n",
       "\n",
       "    .dataframe tbody tr th {\n",
       "        vertical-align: top;\n",
       "    }\n",
       "\n",
       "    .dataframe thead th {\n",
       "        text-align: right;\n",
       "    }\n",
       "</style>\n",
       "<table border=\"1\" class=\"dataframe\">\n",
       "  <thead>\n",
       "    <tr style=\"text-align: right;\">\n",
       "      <th></th>\n",
       "      <th>Length</th>\n",
       "      <th>Area</th>\n",
       "      <th>Weight</th>\n",
       "    </tr>\n",
       "  </thead>\n",
       "  <tbody>\n",
       "    <tr>\n",
       "      <th>0</th>\n",
       "      <td>9.9</td>\n",
       "      <td>0.0991</td>\n",
       "      <td>481.7</td>\n",
       "    </tr>\n",
       "    <tr>\n",
       "      <th>1</th>\n",
       "      <td>7.2</td>\n",
       "      <td>0.0724</td>\n",
       "      <td>255.9</td>\n",
       "    </tr>\n",
       "    <tr>\n",
       "      <th>2</th>\n",
       "      <td>2.8</td>\n",
       "      <td>0.0075</td>\n",
       "      <td>10.3</td>\n",
       "    </tr>\n",
       "    <tr>\n",
       "      <th>3</th>\n",
       "      <td>8.8</td>\n",
       "      <td>0.0342</td>\n",
       "      <td>147.8</td>\n",
       "    </tr>\n",
       "    <tr>\n",
       "      <th>4</th>\n",
       "      <td>9.6</td>\n",
       "      <td>0.0964</td>\n",
       "      <td>454.4</td>\n",
       "    </tr>\n",
       "  </tbody>\n",
       "</table>\n",
       "</div>\n",
       "      <button class=\"colab-df-convert\" onclick=\"convertToInteractive('df-acf092f5-3d60-42c6-a25b-f50d83118dec')\"\n",
       "              title=\"Convert this dataframe to an interactive table.\"\n",
       "              style=\"display:none;\">\n",
       "        \n",
       "  <svg xmlns=\"http://www.w3.org/2000/svg\" height=\"24px\"viewBox=\"0 0 24 24\"\n",
       "       width=\"24px\">\n",
       "    <path d=\"M0 0h24v24H0V0z\" fill=\"none\"/>\n",
       "    <path d=\"M18.56 5.44l.94 2.06.94-2.06 2.06-.94-2.06-.94-.94-2.06-.94 2.06-2.06.94zm-11 1L8.5 8.5l.94-2.06 2.06-.94-2.06-.94L8.5 2.5l-.94 2.06-2.06.94zm10 10l.94 2.06.94-2.06 2.06-.94-2.06-.94-.94-2.06-.94 2.06-2.06.94z\"/><path d=\"M17.41 7.96l-1.37-1.37c-.4-.4-.92-.59-1.43-.59-.52 0-1.04.2-1.43.59L10.3 9.45l-7.72 7.72c-.78.78-.78 2.05 0 2.83L4 21.41c.39.39.9.59 1.41.59.51 0 1.02-.2 1.41-.59l7.78-7.78 2.81-2.81c.8-.78.8-2.07 0-2.86zM5.41 20L4 18.59l7.72-7.72 1.47 1.35L5.41 20z\"/>\n",
       "  </svg>\n",
       "      </button>\n",
       "      \n",
       "  <style>\n",
       "    .colab-df-container {\n",
       "      display:flex;\n",
       "      flex-wrap:wrap;\n",
       "      gap: 12px;\n",
       "    }\n",
       "\n",
       "    .colab-df-convert {\n",
       "      background-color: #E8F0FE;\n",
       "      border: none;\n",
       "      border-radius: 50%;\n",
       "      cursor: pointer;\n",
       "      display: none;\n",
       "      fill: #1967D2;\n",
       "      height: 32px;\n",
       "      padding: 0 0 0 0;\n",
       "      width: 32px;\n",
       "    }\n",
       "\n",
       "    .colab-df-convert:hover {\n",
       "      background-color: #E2EBFA;\n",
       "      box-shadow: 0px 1px 2px rgba(60, 64, 67, 0.3), 0px 1px 3px 1px rgba(60, 64, 67, 0.15);\n",
       "      fill: #174EA6;\n",
       "    }\n",
       "\n",
       "    [theme=dark] .colab-df-convert {\n",
       "      background-color: #3B4455;\n",
       "      fill: #D2E3FC;\n",
       "    }\n",
       "\n",
       "    [theme=dark] .colab-df-convert:hover {\n",
       "      background-color: #434B5C;\n",
       "      box-shadow: 0px 1px 3px 1px rgba(0, 0, 0, 0.15);\n",
       "      filter: drop-shadow(0px 1px 2px rgba(0, 0, 0, 0.3));\n",
       "      fill: #FFFFFF;\n",
       "    }\n",
       "  </style>\n",
       "\n",
       "      <script>\n",
       "        const buttonEl =\n",
       "          document.querySelector('#df-acf092f5-3d60-42c6-a25b-f50d83118dec button.colab-df-convert');\n",
       "        buttonEl.style.display =\n",
       "          google.colab.kernel.accessAllowed ? 'block' : 'none';\n",
       "\n",
       "        async function convertToInteractive(key) {\n",
       "          const element = document.querySelector('#df-acf092f5-3d60-42c6-a25b-f50d83118dec');\n",
       "          const dataTable =\n",
       "            await google.colab.kernel.invokeFunction('convertToInteractive',\n",
       "                                                     [key], {});\n",
       "          if (!dataTable) return;\n",
       "\n",
       "          const docLinkHtml = 'Like what you see? Visit the ' +\n",
       "            '<a target=\"_blank\" href=https://colab.research.google.com/notebooks/data_table.ipynb>data table notebook</a>'\n",
       "            + ' to learn more about interactive tables.';\n",
       "          element.innerHTML = '';\n",
       "          dataTable['output_type'] = 'display_data';\n",
       "          await google.colab.output.renderOutput(dataTable, element);\n",
       "          const docLink = document.createElement('div');\n",
       "          docLink.innerHTML = docLinkHtml;\n",
       "          element.appendChild(docLink);\n",
       "        }\n",
       "      </script>\n",
       "    </div>\n",
       "  </div>\n",
       "  "
      ],
      "text/plain": [
       "   Length    Area  Weight\n",
       "0     9.9  0.0991   481.7\n",
       "1     7.2  0.0724   255.9\n",
       "2     2.8  0.0075    10.3\n",
       "3     8.8  0.0342   147.8\n",
       "4     9.6  0.0964   454.4"
      ]
     },
     "execution_count": 6,
     "metadata": {},
     "output_type": "execute_result"
    }
   ],
   "source": [
    "demand"
   ]
  },
  {
   "cell_type": "markdown",
   "metadata": {
    "id": "QcGpxxb3gwgX"
   },
   "source": [
    "## Visualize the data"
   ]
  },
  {
   "cell_type": "markdown",
   "metadata": {
    "id": "2eX6TE5Ln-PY"
   },
   "source": [
    "Show in 2D:"
   ]
  },
  {
   "cell_type": "code",
   "execution_count": null,
   "metadata": {
    "colab": {
     "base_uri": "https://localhost:8080/",
     "height": 592
    },
    "id": "3js3UZsVn-Wd",
    "outputId": "8e28b0a8-fb57-4578-9be8-114e624e0cf1"
   },
   "outputs": [
    {
     "data": {
      "image/png": "[encoded data removed]",
      "text/plain": [
       "<Figure size 1080x720 with 1 Axes>"
      ]
     },
     "metadata": {
      "needs_background": "light"
     },
     "output_type": "display_data"
    }
   ],
   "source": [
    "from mpl_toolkits import mplot3d\n",
    "import numpy as np\n",
    "import matplotlib.pyplot as plt\n",
    "\n",
    "def plot_elements(demand=demand, supply=supply, new=pd.DataFrame()):\n",
    "  fig = plt.figure()\n",
    "  fig.set_size_inches(15, 10)\n",
    "  plt.scatter(demand['Length'], demand['Area'], alpha=0.5, s=demand['Area']*10000, marker=\"s\", label='Design need')\n",
    "  for d in supply_DISTANCE:\n",
    "    plt.scatter(supply[supply['Distance'] == d]['Length'], supply[supply['Distance'] == d]['Area'], alpha=0.5, s=supply[supply['Distance'] == d]['Area']*10000, marker=\"s\", label=f'supply stock {d}km away')\n",
    "\n",
    "  for i in range(demand.shape[0]): \n",
    "    plt.annotate(f'D{i}', (demand.loc[i, 'Length']-0.09, demand.loc[i, 'Area']-0.001))\n",
    "  for i in range(supply.shape[0]): \n",
    "    plt.annotate(f'B{i}', (supply.loc[i, 'Length']-0.09, supply.loc[i, 'Area']-0.001))\n",
    "\n",
    "  # show the mapping:\n",
    "  if not new.empty:\n",
    "    for new_index, new_row in new.iterrows():\n",
    "      if new_row['supply_id']:\n",
    "        # annotate elements to be reused\n",
    "        plt.annotate(\"\", xy=(demand.loc[new_index, 'Length'], demand.loc[new_index, 'Area']), xytext=(supply.loc[int(new_row['supply_id']),'Length'], supply.loc[int(new_row['supply_id']),'Area']),\n",
    "                  arrowprops=dict(color='r', shrink=0.05, width=0.5))  \n",
    "      else:\n",
    "        # annotate new elements\n",
    "        plt.annotate(\"NEW\", xy=(new_row['Length']-0.16, new_row['Area']+0.0035), color='r')\n",
    "        plt.plot(new_row['Length'], new_row['Area'], 'o', ms=30, mec='r', mfc='none', mew=2)\n",
    "\n",
    "    plt.xlabel('Length [m]')\n",
    "    plt.ylabel('Area [m2]')\n",
    "    plt.title('Needed and available element sizes')\n",
    "    plt.legend(loc=\"upper left\")\n",
    "    plt.show()\n",
    "\n",
    "plot_elements(demand, supply)"
   ]
  },
  {
   "cell_type": "markdown",
   "metadata": {
    "id": "RWyLSariPjzb"
   },
   "source": [
    "If we don't consider cut waste, then both solutions [1] and [1] are equaly good. \n",
    "\n",
    "If cut waste is considered, then [1] is selected if assignment follows order from smallest to largest, and it produces less waste; [2] is selected if assignment follows order from largest to smallest. But there is a chance that approach [1] would result in largest element not finding it's equivalent (biggest loss).\n",
    "\n",
    "![2022-06-12 17_04_39-Beam mapping algorithms.ipynb - Colaboratory.png](data:image/png;base64,iVBORw0KGgoAAAANSUhEUgAAAN0AAACfCAIAAADyNksqAAAAAXNSR0IArs4c6QAAAARnQU1BAACxjwv8YQUAAAAJcEhZcwAAFiUAABYlAUlSJPAAAAASdEVYdFNvZnR3YXJlAEdyZWVuc2hvdF5VCAUAABgCSURBVHhe7Z1pUBRXu8fz5dat++1W3fvm5la9bypGk7zGkGhiFDUqGDdc0LgjbojggrIoqyg7CAIuoKJGg0sQBVT2HTEqGPGNK0E06CVGoiSSAEFFwe77HKaZ6T7TM8z09AzdPedf/0ph92lmTH55znmec/qcN2giIumJcEkkRREuiaQowiWRFEW4JJKiCJdEUhThkkiKIlwSSVGESyIpinBJJEURLomkKMKlNPTqGf2ijX7R2h9uo189Z76GZES4lIZupNNloXShfz+4PIK+k8d8DcmIcCkNXdqFECnZ2g8u8KN/OMJ8DcmIcCkNfRdPFwXS52L6wcBlzSHma0hGhEtpiHDJFeFSGiJcckW4lIYIl1wRLqUhwiVXhEtpCOOyJIIuDNP80awmXBLplIrL7C10kju1zJ6aOhShiQFkJhMuifjV0EBFL6cmfUi/8QaYevdvdEYATo/5TLgk0qizk75+nUpNpaZMUeGocZI7jo5ZTbgkolta6KoqKjwcZ7HX1DoHnBtzm3BpvYKeOieHcnXFKMRMjRtsuXRHbcKl5FTpq8GikrkmvhobNZ+i3+l+ODQWMOFSYmqkp7KYMB+XNA3BUvNBuhy9ACfGMiZcSku+XCzMySXd1UV5enI+jmvKfSqpq7NlrVwemoqRYV4uQU1N+Cf2GqXkhZGES7askEtu9622WblsatIXL+vrTZmH/DHVOzNs8V4vx0O+c6qSVrflh8LFp9lbzu902+fluMfT8VSI063DnuxHOCZc9r+0w6Ta5uPy/Hnq00/xj+s1GnqCBHH5ujy6PT909/oZ62fbrpk5wmO2bYDT+LpU7z9zQy7tdg9YNG71jBFrHUdGrpxUnuCKPasx4bKfpQdKsDm4bG1llypRf11VxWYU3e3qQi0FcfmiOOLm1xsW2dt84z+nsziiMd1vztghOVFLv9vltstjOhDZlhfyuiK6ozAM8MWe1Zhw2c/icOlLA4maP5qBy+vX2XM5VFwc3dGhus5cAUBbWnqaCuQSaMuNWuozb0xh7HKqIvr3s8ERLhMT1jj4LxoXvMSuLH5lV1kUNINbYPaDHBMu+1lqLn1VDJqNy85OKjVV/ZsRf+fPM7d6RO3fj24BoGoJjJfhV1PWOU/8JNV/bkdB2IM03wV2NtCbzxv/kdOETwBQ3wVjoTc/E+78OCsIe1ZjwmU/C7hkiFTJPFw2NFALF6p/LUp3mpuZW2p1dFBFRczPKgnisrs8ShUjNzvbJW+YuWPttLnjhrjP+HzayPcnD38v2Nluv8/sOPcpW5bYpwUvxJ7VmHApMYnNZVcXoo31O9EfVcPHPiWIS5WvpnhA6rNx/hf+C8d5fjUKAiTQOXvM4BTvWS9LIn45GQBRc/1Xo+Bn7EHGhEuJSVQuW1rYlSAUMhsamFuGyAQuIbNRjSChsw5wGgeBExj1XfDFhV1u3WVREFMhH4cc6M/crfyjTMKlxCQel9xKEBo+dnYytwyUCVy25oY8Lwp/VhR+Ze9a28H/KNnuUrhtefxqh33eji9LI5sygjbNHwuDTgAUe5Ax4VJiEoNLGClCot37S1ACzs5mDJcJXCZ7zlz/le3qmSPWzbJNXOvQmO7XfHoz5OnuM0Z4zLJ1m/755sV2BTHLsac0JlxKTCZziVWCwsM1dR9jZQKXBduW7984e6+X49HA+feOb3xRHAE9e2O6/6kQp33es2CUWblj1W9ngrGnNCZcSkwmcNnZSaWlcR7nVoKMlglcmmrCpcQklMumJrwS1NTE3BIswiVXhEtjuNSuBEHUNLASpF+ES64Il73uk8uWFiowUN3e6EqQfhEuuSJcGsYltt5i925mslssES65Ilz2xWVHB6Kwtxmis6aGuSWiCJdcES71cllfL1olSL8Il1xZM5d6pVUJwldaiCthXJYn4FcEmHApG3Ffe0DvfZteCdIvQVxSO3/Crggx4VIW4qkEGTvZLUACuMw5QbvTdGkSft1YEy6lrpYW/LWH+nrmlrllPJdUcj3i8lQxdt1oEy4lrZoa81aC9MtYLssTqHVdwCWiE7tlrAmXEpV2JcjEyW4BMpbLoxdRsAQu/f7CbxlrwqUUpf3ag5kqQfr1fQqdv4nO8zbQVNBTFZfIWYnYXeNc4EvfOMF8DcnIirns6uKpBIky2S1ATdfou8V0XZ5BvnRZAyW4sBZvYJTvldBPfmS+hmRkrVxilSAImY2NzC3Jiyqg2FyiPypOVsklDB/ZYTI11RKVILH0kqa8uFwGEi7lLu1KkLDXHvpR1zREavyUuakYWROX2q89WLISJJKoPZxgyRhgVZasg8vOTmaLCxWR/VIJEkVNWkT2mMpQWlduBVxqV4LMPdltNlHZfMESuIQRZzfTRhlSNJddXdgG0uiP/VUJMl3P8YyHY7n+v8Yv5XKpXQkS8bWHfhFvxqN2NdNKGZI5l83N/CUebAOM3bvlVAnSISpRd7CErvyIooaYcuYSshlXV1R9ZKujg1MJAjplVwnilY6Mh+OXTFsFSMZcalJsNXkiboAhNbX3oHmrp78G97IIYRI5tCeUPmDaKkBCuHzV/br9RVfb81eWNHxi5ytWzllVpeEPWGxuZm+FilxWxrRUi3pNd7bTL1ot7ZdiV0mBURWUMQqc6VFJCJe1Ta07y+6G5dZa0vEl9RV3njDfAHIa1vARs85KUMdv9IVEuiSYLvS3nEtD6Kup9GtRiwCES15dedASfPZWTEGdJR2SfTvrh1/Qx/cMKzEW1db32kNbE53nQxcH0SVbLefCALoyhu5+xXwHUdQ71lRYrsOWEC6rG54GZt3cUXrXkt6afftUzUP4dPbMDW7o3PWo9RGdvY4u1X0ygzlcHEyXhxMujZXcuGQNK7WNenA9ZXPFcFnXy6USV7ipJCcuS8tu6RlWqswc08Qr5XFZSrhkqV+4jDp9468FLhiF/Na1wlcxXKrrRMqa42FLNlze9Y7F+dMyKrNDvNS1LEN5XJphoySJSB5cXtyXjSHINqqfw7izzxK6UrjUvEcBHbpCJQMu07OudA0YjLM4ZQoqpNfWGjHxrTwu7zFXlCepc5lcVNfmuFSDo6cn6qmFvSOmGC6P9HKpY8CiAEmdy/sBCYDjk5W+l7Ydh3yc+QbCpDwue+e/lCdJc3k490blwfwDBbfhZ3VdnUfdPSMt7moaKptCq7uB5D+ZK8rhMqaXy3bmivIkj7wHzM9lO01doNCLqlrBg0rr/Y/nTlOhPYxW/0mn71IUl8+ZK8qTbLl8wCEPmTvYwl7+V5vyeU4lPkD7++QfxRkyh83Apeavo1zJjUuIEDWsgME2t2hCnePnkm1LMCo6lzBoUX15L8VO9oBkw2Xa8ftNyc/USGkbOnQUMsE9i2c1yYFhZhgtPISDZaJF59IKFrmBpM7lgcKG6m+a2wJfqgEyhwFK+vBVujgFp+pczPmdbluX2i+bPGzdrJH303zhyk/HN+31dFw7a6THbNvNznZnwp2fF4WzH+FYdC4hjVN95z2ES66Ecbm94LZ3UqaTX9wcj61gvwN523KuY23YTs9uvLur9aVnt5oec5iKeUSfKMNhYhm4jHad7Db9c5sB/3P94Aa4Un904z4vx93rZ+z1cgxabBe24svKnatel/Md7Q0WnUvoEFTfXLmL3ECW43JTSvas1YGjZziNnr5o1PSFa+KORJ2+grVR+Vjug8b4djU6Bhol3aqXXVDqrTPvUZnyfIl22jVgWPlrZtDtw16F25YPHfiWisuW7C11qd5dZZHUuZjS+JVbl06IWTX5VZmO071F5/Ln3r+C4vbYYMtCXCaW1H+5aPU0l41eSZnw8/bC2m051+ILa7FmbAOdF48+uZ/Y1uH7Ss2THuPx4yneQGUqsBUlOsacMPJXQRhEzaGD/lfFJdtXUzziVztsWWL/qjQSu8VYdC6tYPElyBJcJhTficn+4aPRE538YqE3RxdL6oFO+Ce7mR4Do+UHmiDvYV784zN1kPvfqTc/0DRIf0YfOyagfqmHy1T/ud5zx2SFLe4ut1S8hKxO9dc5R7jkylgugcXAb0psxkwaPWPR1OVe9vNXfbVuS0ja+YSiOqylHmvqlzDwv9UzncNlFM9P1fUUaFbdU4IWOt+ji8uKBFf/heNiXCc/zgqiKjTXORadSytYfAmyBJdxeTc37jsz6JMRI6fOm7s+dNaaIBhlLt28A9DEWuox/3wPMHoNjbSowJ5ZH65Qz85ecSMely+KI258vSHQaTykRFVJq9UteSw2l6gcpuJScXsLsmURLvNv+R/M+8f7NtNcfMJPVYGnu26ym+uyYecJrKUe83PJVp97k4rEJUBZd8QndNkEn3ljIGR26RpZqiw6lwYuvizpDatqRzN3ZCGLjC+LfgzPqB480s45ID6x+M627GtrYlNtHRa4xxzCWupx31z2KUFcPisK/znd/2zEko/eebM8wfXP3JD6oxuTNswYMuDNsxHOD0/6P83e0p6v+3eKzqV6q0Fdu2v0DkD5zd01R7KyBJdgwHHElDnzvSMiMi5DvITE3G7eyg0707FmetxfXJ4KcZozdsj7f//v//j3fxv89t/8Fo4Ndrb/eOBbb7/5n6OHvP3lp4MW2n+cuG5al6XqRGhwoiKMd/GlfihVlgOaFuIS7BZ1cPISj1HTF42Z6TR84izXiP0RGdVYGz3uLy4fngyoTl5THOeSH7OsZLvLza89a7/xgsBZFr+ycocb9O+X96y5e2wjVWGhujoqO6jw4h23qOHTb8kv3LQcl5FZV1ZvOzzPKxyi5tKgHWHplwTm44IldHxpkkXnUs/iSyxYsuMiNtyUfMi0HJcmmnCpkqY6pr2rINCmJk87y9F/V2IiXJrZYnOpYUtbQJv6LgRITOyQSbgUy4RLJPZkgbFic0n6cbFMuEQyZfElO5rCSFTaIlya2eJyqV58iS0G6FNY3iN5ES7NbHG5FLb4EoNS8sESZPVclkXRhWGcK+JaXC7Viy+zDeYSg1LyI0uVrJjLjAAqZBE1e4ScuDR28SW7NiQfKEHWx2VuEJ3kjnBU7S1zcD1OkrgWl8veyjlaVdSnZAslyJq4vFxBrR/P4Kja7chtEo6R6BaXS8MXX7Kzb7AcxpRsWQGXLS1UTg776FIGygH/RZ/xw7fpF92i7vuvWXypnzMMShluYySEy8v3nwadvhlfXG9Jh2TfzrhqDJednXRNDfvsM9yxC/EzTcxhUc9JMWjxJdZ9y1NCuLz28x8RebV+mTcs6ZCc2/k3eZd2aamhgUpL078TO+XrQ3e04AdAmcninSulWXwJiTmv5Fan1CUhXLY+f3XvSfuPTW2WdP3j9ub2F8w30KXOTiowEEOQ3/I8gryPxZfQX6uJ1G9Fzo9LWg0NOIJa1ndmhbSlWXzJu8Mg1oPrsSK5tHy8hI+DD2U+vk+dP4+ByDZKgGR7NL6+xZcgNXZ9WpFcWn58GZ5X+8PPfzAfj6mDZ/SGn2HKtpxPx9csvtSW4Z04WJFcWj4fh4+rbuB/3xENKCFAstXYyD7tmW38sHLZSQ2W0iWES8vXLwNP36xq+J35eLbUx/Kpo6Dug/oQrHzBVTZSL75U9A6DKsmZy9ZWdTGIOYI8M1NDIYwjq6o41aIamR/DZMriS7lJxlxSu3drmOMade6tragRsKi6EhfX85CcpV58adQiN3lKtlzW1qopxIwGkayMG4Ioipp9noYmfQlbfMmr16/ozna8/m9Wd7bR3dpvyumUPLns6NCe71aZJy4Co/X1zM+y1oNeLk3fYbD5Dl0ZSxcF4LOm5vO5GPrhFebTDZAsuaTS0jAcOb5+nWmnMIm48+WjH+g8b7pkC77KxHzO30j/VM58ugGSIZeNjTiIXKNeW57TjH3oGsOlCDsM/lJDZ6+nK3TsXWMO53rRd4uZTzdAcuOyq4tydcVA1Dbq5VV5j5KkXnxpel2BcCmK1VxSRUUYgpghWKJeXs6TOrqkOZFI/w6DhohwKYoZLpubOfVIrtFSSxhZGn7ss9ykWXxp+vHOhEtRrOKSdw0bdOsoiCqv19YSdbyXS9PzOsKlKAYuGzMKOTgqt7/miLWZPOXOcEmdNTkfJ1yK4uTjVd2DbRgild5fo40tVZvGYwcbqLncSbjkkwAuE4rros9cjci8HJFxOTLr+9jc64nFd7A2evxwhX/nfGcl99dPellUnVnNZ8qDooIpKpaiG5mHhItwCY4v/DH0xMVxc1Z8MPyLgR+PsPli0gKfSGAUa6bLh3NvZO3N19QvFSNgsQadVo1OxtWiUGV0zkYGhQpD4r7TSLgE93B5YWXY3lWR+9fEpjr5xn7w2RiPxG/1nw/JtqZ+KXc1wb8+1ms6fGZYvGbACRuCRbgEozMocq6Fn6qOzb2RUHzH72DeO0M+XbZlN1zBWuqyjLns7nl3sU8WIa3JptBb4ZDoWECES8wJRXV+B3IHfjJiRcgeGGtid3VZZly+RCxSFyjNa2J8pmIoVJKssxSLbBEuOS6pj8y87BKS/NY773snZUL/jjfQYRlwCSw+QFMy6FhwLQTVphJ7WeR9ccxiMp5LqiKmNTfktzPB4N/PBrflh3aXRT0vCm/J3tJ8erPq+l8FoTrPyZQyl9sLbruE7hk6zmHRphjDgyVYolw+R1MvVKkBLJb2nAgI7SUiI7mkKqI7SyL8F42bPPy9CcMGThv5wbZVU34+6Z8btXTJpKGjPkTnGE38bFDS+hm/nArAnmUsWS4TiusAygkL3Ga4+oadvGR4sARLiEuIcyoWE/WyuIdC09kP+E6NkIKMj5cQCK+mrKtIdK3csSorbPGcsupyY5aleM/ymG27ffXU8gTX8zvd7h3f9KwoHHuQsTS5TCypXxt3ZOLitdNcfHz352J3+3Q/cwks1qHpac3r23yG0STa10qyLLIlaHz5qiwS6AQ3HN80/pMBRwPn7/SYHrR4fFHscp3Hr6stQS4h14nMumLrMN9mzESHFV4eCd+Ct35bGZdn6C/pBy5ZE4AYf2wzLELGDXm3jCSISxhi3v/WtzR+5ZGAeTNs/5kXvSzFB8XLhDUOEC+vH9wAQ0yd575JkMvY3BveyRnv2gz/+6AP3xs26v1ho8HOAfGhJy5gLXXZaC6FVf5UE4B9snik50BzWa88FsTl6/Lo/T6zYTRp8+5b62ePunPE50yEM4wvx9q8Yz9soKvDcBhu6jzCVYJcQiceX1gbkVEdfqoK0h00G5l5uaeWaeg5fEZw+WfPDIrhb7IaMgHoRcHvRJMuilkFL4hL8F8FYY8yAi/udncc/U+gsP6oz4M038dZQY9OBUS4TAx0Gg+DTuwRxpLNe0yxQVxCT1qDGGJ40lOIMXACUMWiuBOAEpFQLsGvK6J/zQryXzQ22XMm9N0wsoT+HUJp6XaXLUvskzfMxNoztlIun6ByDIctbFF37wRg35PRZp0AlIiM5BJYfFYY9rwovKssCn5uyghcM3PEjnXT/7Xf40Uxk4BD+Ny82A4ydPVTHFsdly9R1QYjDIym9QyZjLbwBKBEZCSXgOOjjIDvdrmVJaysSFyVEeq00N4mM9TpXOKq4rgVlTtXVe5YFbr8y+iVk84lumLPMrYuLu+xtjgz2MwEoLWxyJaRXL4siaw/4rNulu3EzwZNGDZwuu0Hce5THp70Px60wHH0YPth79oPHbBi6mcF25Z3lkRgzzK2Fi7b0QARA06PpTIBKBEZySWMICFk/pGzVT0PCXl3d3nUs8Jw+BmuNJ8JbsnZ+qI4AlpizzK2Ci7Z+Y1uS3ECUCIyIe8RaIVzqZ3f6DaaCSTiFeFSFAOXV+485c1v9BgtpyDilTm4LAyk83wQf7w+uZT+fj/9+KaBlgeXySfuPD3Uiao8BgdLxtKfqu4XmYPLb+fTB8bTKV/wO+lT+ugsdA6iYZZt3gNDxqYew/CxGhmt8QFwwexVZw+Y5kQcmYNLwO7gBPrwFH6njKUzVtDlkQZaCJf/avwjNKd285lbFnNozu2r/2f8BpYQLEn2zStzcHnEEXH5jQO/94+jM3WUNvkshMvHrS++u/tbce1jixk+7tfWvg6VIjJciuSSSPYiXBJJUYRLIimKcEkkRREuiaSopmt0/iZ8a34TfWgSnTKGPmjP7wN29Gk3DD49Jlxapf5opK8doy/vo6v3iua0BSguHvuK32kL0WyQFn+6TLgkEkkXd9JFgRhegk24JBJJhEsiKUpELs/F/D+Gqjyr1Q5obAAAAABJRU5ErkJggg==)"
   ]
  },
  {
   "cell_type": "markdown",
   "metadata": {
    "id": "IqEdstHqpO9f"
   },
   "source": [
    "Visualize elements in 3D"
   ]
  },
  {
   "cell_type": "code",
   "execution_count": null,
   "metadata": {
    "colab": {
     "base_uri": "https://localhost:8080/",
     "height": 575
    },
    "id": "vUwYIGkCZ8KX",
    "outputId": "308d2a4f-9bda-45cb-d905-435c886d4922"
   },
   "outputs": [
    {
     "data": {
      "image/png": "[encoded data removed]",
      "text/plain": [
       "<Figure size 1080x720 with 1 Axes>"
      ]
     },
     "metadata": {
      "needs_background": "light"
     },
     "output_type": "display_data"
    }
   ],
   "source": [
    "fig = plt.figure()\n",
    "fig.set_size_inches(15, 10)\n",
    "ax = plt.axes(projection='3d')\n",
    "ax.view_init(50, -10)\n",
    "\n",
    "ax.set_xlim(MAX_AREA, MIN_AREA)\n",
    "ax.set_ylim(MIN_LENGTH, MAX_LENGTH)\n",
    "ax.set_zlim(MIN_LENGTH, MAX_LENGTH)\n",
    "\n",
    "for i in range(supply.shape[0]):\n",
    "    x = [supply.loc[i, 'Area'], supply.loc[i, 'Area']]\n",
    "    y = [supply.loc[i, 'Length'], supply.loc[i, 'Length']]\n",
    "    z = [0, supply.loc[i, 'Length']]\n",
    "    ax.plot(x,y,z,'k--',alpha=0.8, linewidth=1)\n",
    "\n",
    "for i in range(demand.shape[0]):\n",
    "    x = [demand.loc[i, 'Area'], demand.loc[i, 'Area']]\n",
    "    y = [demand.loc[i, 'Length'], demand.loc[i, 'Length']]\n",
    "    z = [0, demand.loc[i, 'Length']]\n",
    "    ax.plot(x,y,z, alpha=0.8, linewidth=2, color='red')"
   ]
  },
  {
   "cell_type": "markdown",
   "metadata": {
    "id": "ZJAmvvD7b1lw"
   },
   "source": [
    "## Generate new elements\n",
    "Allow for adding new (virgin) elements to the design"
   ]
  },
  {
   "cell_type": "code",
   "execution_count": null,
   "metadata": {
    "id": "FEqZJP0OYHnu"
   },
   "outputs": [],
   "source": [
    "def generate_new(length, area):\n",
    "  random.seed(3)\n",
    "  \n",
    "  if not (type(length) == int or type(length) == float) and (type(area) == int or type(area) == float):\n",
    "    raise Exception('Inputs to the function must be numbers')\n",
    "\n",
    "  return pd.DataFrame(data={\n",
    "    'Length':   length,         # [m]\n",
    "    'Area':     area,           # [m2]\n",
    "    'Distance': NEW_DISTANCE,   # [km]\n",
    "    'Price':    round(NEW_PRICE * length * area),  # [NOK], length * area * price (per m3)\n",
    "    'LCA_GWP':  round((length * area * (NEW_LCA_GWP_A1_A3 + NEW_LCA_GWP_A5) + NEW_DISTANCE * TRANSPORT_LCA_GWP)*10)/10,   # [kgCO2e], length * area * processing_emissions + distance * transport_emissions  \n",
    "    'Weight':   round(length * area * DENSITY *10)/10,           # [kg]\n",
    "    }, index=[0])"
   ]
  },
  {
   "cell_type": "markdown",
   "metadata": {
    "id": "y79MGxQbVRAi"
   },
   "source": [
    "Verify by comparing supply element with new equivalent: "
   ]
  },
  {
   "cell_type": "code",
   "execution_count": null,
   "metadata": {
    "colab": {
     "base_uri": "https://localhost:8080/"
    },
    "id": "OmV48twOKRT0",
    "outputId": "0f3b3d03-f6f5-4e30-dcef-2fa95d41db93"
   },
   "outputs": [
    {
     "name": "stdout",
     "output_type": "stream",
     "text": [
      "First element in the supply is 50% cheaper, and has 59% less CO2, than new product of the same size.\n"
     ]
    }
   ],
   "source": [
    "new_eq = generate_new(supply.loc[0, 'Length'], supply.loc[0, 'Area'])\n",
    "print(f\"First element in the supply is {round(100-supply.loc[0, 'Price']/new_eq.loc[0,'Price']*100)}% cheaper, and has {round(100-supply.loc[0, 'LCA_GWP']/new_eq.loc[0,'LCA_GWP']*100)}% less CO2, than new product of the same size.\")"
   ]
  },
  {
   "cell_type": "markdown",
   "metadata": {
    "id": "OtbdaHE3eb6T"
   },
   "source": [
    "# Matching algorithms"
   ]
  },
  {
   "cell_type": "markdown",
   "metadata": {
    "id": "JyKJ2zeckIZm"
   },
   "source": [
    "## [NEW] Only new elements\n",
    "This is our reference solution. All other solutions with reuse of preowned elements should outperform that reference."
   ]
  },
  {
   "cell_type": "code",
   "execution_count": null,
   "metadata": {
    "colab": {
     "base_uri": "https://localhost:8080/"
    },
    "id": "N0DqQkcLkHuy",
    "outputId": "92ae0990-0561-4a16-876c-02e1ce96aadc"
   },
   "outputs": [
    {
     "name": "stdout",
     "output_type": "stream",
     "text": [
      "Execution time: 0.009 sec.\n",
      "If constructed from only new products, the design would have LCA-GWP 100 kgCO2e, cost 21999 NOK, and weight 1350 kg.\n"
     ]
    }
   ],
   "source": [
    "new_set = pd.DataFrame()\n",
    "\n",
    "import time\n",
    "start_time = time.time()\n",
    "\n",
    "for index, row in demand.iterrows():\n",
    "  new_elem = generate_new(row['Length'], row['Area'])\n",
    "  #append new element to the set:\n",
    "  new_set = new_set.append(new_elem, ignore_index = True)\n",
    "\n",
    "new_time = time.time()-start_time\n",
    "print(f\"Execution time: {round(new_time*1000)/1000} sec.\")\n",
    "\n",
    "print(f\"If constructed from only new products, the design would have LCA-GWP {round(new_set['LCA_GWP'].sum())} kgCO2e, cost {round(new_set['Price'].sum())} NOK, and weight {round(new_set['Weight'].sum())} kg.\")"
   ]
  },
  {
   "cell_type": "code",
   "execution_count": null,
   "metadata": {
    "colab": {
     "base_uri": "https://localhost:8080/",
     "height": 206
    },
    "id": "NKwqoS2O-xUf",
    "outputId": "e5b836b0-e65a-43e0-870e-3400f6793121"
   },
   "outputs": [
    {
     "data": {
      "text/html": [
       "\n",
       "  <div id=\"df-d72a734f-a509-46dd-b712-a06ef10664f1\">\n",
       "    <div class=\"colab-df-container\">\n",
       "      <div>\n",
       "<style scoped>\n",
       "    .dataframe tbody tr th:only-of-type {\n",
       "        vertical-align: middle;\n",
       "    }\n",
       "\n",
       "    .dataframe tbody tr th {\n",
       "        vertical-align: top;\n",
       "    }\n",
       "\n",
       "    .dataframe thead th {\n",
       "        text-align: right;\n",
       "    }\n",
       "</style>\n",
       "<table border=\"1\" class=\"dataframe\">\n",
       "  <thead>\n",
       "    <tr style=\"text-align: right;\">\n",
       "      <th></th>\n",
       "      <th>Length</th>\n",
       "      <th>Area</th>\n",
       "      <th>Distance</th>\n",
       "      <th>Price</th>\n",
       "      <th>LCA_GWP</th>\n",
       "      <th>Weight</th>\n",
       "    </tr>\n",
       "  </thead>\n",
       "  <tbody>\n",
       "    <tr>\n",
       "      <th>0</th>\n",
       "      <td>9.9</td>\n",
       "      <td>0.0991</td>\n",
       "      <td>100</td>\n",
       "      <td>7849</td>\n",
       "      <td>33.1</td>\n",
       "      <td>481.7</td>\n",
       "    </tr>\n",
       "    <tr>\n",
       "      <th>1</th>\n",
       "      <td>7.2</td>\n",
       "      <td>0.0724</td>\n",
       "      <td>100</td>\n",
       "      <td>4170</td>\n",
       "      <td>19.1</td>\n",
       "      <td>255.9</td>\n",
       "    </tr>\n",
       "    <tr>\n",
       "      <th>2</th>\n",
       "      <td>2.8</td>\n",
       "      <td>0.0075</td>\n",
       "      <td>100</td>\n",
       "      <td>168</td>\n",
       "      <td>3.8</td>\n",
       "      <td>10.3</td>\n",
       "    </tr>\n",
       "    <tr>\n",
       "      <th>3</th>\n",
       "      <td>8.8</td>\n",
       "      <td>0.0342</td>\n",
       "      <td>100</td>\n",
       "      <td>2408</td>\n",
       "      <td>12.4</td>\n",
       "      <td>147.8</td>\n",
       "    </tr>\n",
       "    <tr>\n",
       "      <th>4</th>\n",
       "      <td>9.6</td>\n",
       "      <td>0.0964</td>\n",
       "      <td>100</td>\n",
       "      <td>7404</td>\n",
       "      <td>31.4</td>\n",
       "      <td>454.4</td>\n",
       "    </tr>\n",
       "  </tbody>\n",
       "</table>\n",
       "</div>\n",
       "      <button class=\"colab-df-convert\" onclick=\"convertToInteractive('df-d72a734f-a509-46dd-b712-a06ef10664f1')\"\n",
       "              title=\"Convert this dataframe to an interactive table.\"\n",
       "              style=\"display:none;\">\n",
       "        \n",
       "  <svg xmlns=\"http://www.w3.org/2000/svg\" height=\"24px\"viewBox=\"0 0 24 24\"\n",
       "       width=\"24px\">\n",
       "    <path d=\"M0 0h24v24H0V0z\" fill=\"none\"/>\n",
       "    <path d=\"M18.56 5.44l.94 2.06.94-2.06 2.06-.94-2.06-.94-.94-2.06-.94 2.06-2.06.94zm-11 1L8.5 8.5l.94-2.06 2.06-.94-2.06-.94L8.5 2.5l-.94 2.06-2.06.94zm10 10l.94 2.06.94-2.06 2.06-.94-2.06-.94-.94-2.06-.94 2.06-2.06.94z\"/><path d=\"M17.41 7.96l-1.37-1.37c-.4-.4-.92-.59-1.43-.59-.52 0-1.04.2-1.43.59L10.3 9.45l-7.72 7.72c-.78.78-.78 2.05 0 2.83L4 21.41c.39.39.9.59 1.41.59.51 0 1.02-.2 1.41-.59l7.78-7.78 2.81-2.81c.8-.78.8-2.07 0-2.86zM5.41 20L4 18.59l7.72-7.72 1.47 1.35L5.41 20z\"/>\n",
       "  </svg>\n",
       "      </button>\n",
       "      \n",
       "  <style>\n",
       "    .colab-df-container {\n",
       "      display:flex;\n",
       "      flex-wrap:wrap;\n",
       "      gap: 12px;\n",
       "    }\n",
       "\n",
       "    .colab-df-convert {\n",
       "      background-color: #E8F0FE;\n",
       "      border: none;\n",
       "      border-radius: 50%;\n",
       "      cursor: pointer;\n",
       "      display: none;\n",
       "      fill: #1967D2;\n",
       "      height: 32px;\n",
       "      padding: 0 0 0 0;\n",
       "      width: 32px;\n",
       "    }\n",
       "\n",
       "    .colab-df-convert:hover {\n",
       "      background-color: #E2EBFA;\n",
       "      box-shadow: 0px 1px 2px rgba(60, 64, 67, 0.3), 0px 1px 3px 1px rgba(60, 64, 67, 0.15);\n",
       "      fill: #174EA6;\n",
       "    }\n",
       "\n",
       "    [theme=dark] .colab-df-convert {\n",
       "      background-color: #3B4455;\n",
       "      fill: #D2E3FC;\n",
       "    }\n",
       "\n",
       "    [theme=dark] .colab-df-convert:hover {\n",
       "      background-color: #434B5C;\n",
       "      box-shadow: 0px 1px 3px 1px rgba(0, 0, 0, 0.15);\n",
       "      filter: drop-shadow(0px 1px 2px rgba(0, 0, 0, 0.3));\n",
       "      fill: #FFFFFF;\n",
       "    }\n",
       "  </style>\n",
       "\n",
       "      <script>\n",
       "        const buttonEl =\n",
       "          document.querySelector('#df-d72a734f-a509-46dd-b712-a06ef10664f1 button.colab-df-convert');\n",
       "        buttonEl.style.display =\n",
       "          google.colab.kernel.accessAllowed ? 'block' : 'none';\n",
       "\n",
       "        async function convertToInteractive(key) {\n",
       "          const element = document.querySelector('#df-d72a734f-a509-46dd-b712-a06ef10664f1');\n",
       "          const dataTable =\n",
       "            await google.colab.kernel.invokeFunction('convertToInteractive',\n",
       "                                                     [key], {});\n",
       "          if (!dataTable) return;\n",
       "\n",
       "          const docLinkHtml = 'Like what you see? Visit the ' +\n",
       "            '<a target=\"_blank\" href=https://colab.research.google.com/notebooks/data_table.ipynb>data table notebook</a>'\n",
       "            + ' to learn more about interactive tables.';\n",
       "          element.innerHTML = '';\n",
       "          dataTable['output_type'] = 'display_data';\n",
       "          await google.colab.output.renderOutput(dataTable, element);\n",
       "          const docLink = document.createElement('div');\n",
       "          docLink.innerHTML = docLinkHtml;\n",
       "          element.appendChild(docLink);\n",
       "        }\n",
       "      </script>\n",
       "    </div>\n",
       "  </div>\n",
       "  "
      ],
      "text/plain": [
       "   Length    Area  Distance  Price  LCA_GWP  Weight\n",
       "0     9.9  0.0991       100   7849     33.1   481.7\n",
       "1     7.2  0.0724       100   4170     19.1   255.9\n",
       "2     2.8  0.0075       100    168      3.8    10.3\n",
       "3     8.8  0.0342       100   2408     12.4   147.8\n",
       "4     9.6  0.0964       100   7404     31.4   454.4"
      ]
     },
     "execution_count": 12,
     "metadata": {},
     "output_type": "execute_result"
    }
   ],
   "source": [
    "new_set"
   ]
  },
  {
   "cell_type": "markdown",
   "metadata": {
    "id": "8GlOFQ2RjxKX"
   },
   "source": [
    "Plot LCA of each element in the supply and new"
   ]
  },
  {
   "cell_type": "code",
   "execution_count": null,
   "metadata": {
    "colab": {
     "base_uri": "https://localhost:8080/",
     "height": 621
    },
    "id": "nyOOmCnQjxRU",
    "outputId": "4c349e70-6c60-4f5f-88f7-70006b0d9c7f"
   },
   "outputs": [
    {
     "data": {
      "image/png": "[encoded data removed]",
      "text/plain": [
       "<Figure size 1080x720 with 1 Axes>"
      ]
     },
     "metadata": {
      "needs_background": "light"
     },
     "output_type": "display_data"
    }
   ],
   "source": [
    "fig = plt.figure()\n",
    "fig.set_size_inches(15, 10)\n",
    "\n",
    "for d in supply_DISTANCE:\n",
    "  plt.bar(supply[supply['Distance'] == d]['Length'], supply[supply['Distance'] == d]['LCA_GWP'], alpha=0.5, label=f'supply stock {d}km away', width = 0.25)\n",
    "\n",
    "plt.bar(new_set['Length'], new_set['LCA_GWP'], alpha=0.5, label=f'New product {NEW_DISTANCE}km away', width = 0.25)\n",
    "\n",
    "plt.xlabel('Length [m]')\n",
    "plt.ylabel('LCA GWP [kgCO2e]')\n",
    "plt.title('LCA of new and preowned elements')\n",
    "plt.legend(loc=\"upper left\")\n",
    "plt.show()"
   ]
  },
  {
   "cell_type": "markdown",
   "metadata": {
    "id": "DaFw0GlknBo4"
   },
   "source": [
    "Plot price of each element in the supply and new"
   ]
  },
  {
   "cell_type": "code",
   "execution_count": null,
   "metadata": {
    "colab": {
     "base_uri": "https://localhost:8080/",
     "height": 621
    },
    "id": "WODIJk51nBpP",
    "outputId": "f8c56de0-cb86-41c1-8e8c-15094a80c78f"
   },
   "outputs": [
    {
     "data": {
      "image/png": "[encoded data removed]",
      "text/plain": [
       "<Figure size 1080x720 with 1 Axes>"
      ]
     },
     "metadata": {
      "needs_background": "light"
     },
     "output_type": "display_data"
    }
   ],
   "source": [
    "fig = plt.figure()\n",
    "fig.set_size_inches(15, 10)\n",
    "\n",
    "for d in supply_DISTANCE:\n",
    "  plt.bar(supply[supply['Distance'] == d]['Length'], supply[supply['Distance'] == d]['Price'], alpha=0.5, label=f'supply stock {d}km away', width = 0.25)\n",
    "\n",
    "plt.bar(new_set['Length'], new_set['Price'], alpha=0.5, label=f'New product {NEW_DISTANCE}km away', width = 0.25)\n",
    "\n",
    "plt.xlabel('Length [m]')\n",
    "plt.ylabel('Price [NOK]')\n",
    "plt.title('Price of new and preowned elements')\n",
    "plt.legend(loc=\"upper left\")\n",
    "plt.show()"
   ]
  },
  {
   "cell_type": "markdown",
   "metadata": {
    "id": "8pHQBqeCjYbv"
   },
   "source": [
    "## [BFA] With brute force, ascending\n",
    "\n",
    "Iterate through all the possibilities, and choose the best performing mapping."
   ]
  },
  {
   "cell_type": "code",
   "execution_count": null,
   "metadata": {
    "colab": {
     "base_uri": "https://localhost:8080/",
     "height": 297
    },
    "id": "kov_2bH2jYmp",
    "outputId": "e0c48033-8fb4-400d-fdfa-fc820ebbf0e6"
   },
   "outputs": [
    {
     "name": "stdout",
     "output_type": "stream",
     "text": [
      "Execution time: 0.0206 sec.\n",
      "\n",
      "Brute force achieved LCA-GWP 58 kgCO2e, cost 17510 NOK, and weight 1405 kg. It would also result in 104 kg of scrap waste.\n",
      "\n",
      "\n"
     ]
    },
    {
     "data": {
      "text/html": [
       "\n",
       "  <div id=\"df-df5045eb-a54f-4e67-bbc7-7632b18c954f\">\n",
       "    <div class=\"colab-df-container\">\n",
       "      <div>\n",
       "<style scoped>\n",
       "    .dataframe tbody tr th:only-of-type {\n",
       "        vertical-align: middle;\n",
       "    }\n",
       "\n",
       "    .dataframe tbody tr th {\n",
       "        vertical-align: top;\n",
       "    }\n",
       "\n",
       "    .dataframe thead th {\n",
       "        text-align: right;\n",
       "    }\n",
       "</style>\n",
       "<table border=\"1\" class=\"dataframe\">\n",
       "  <thead>\n",
       "    <tr style=\"text-align: right;\">\n",
       "      <th></th>\n",
       "      <th>Length</th>\n",
       "      <th>Area</th>\n",
       "      <th>Distance</th>\n",
       "      <th>Price</th>\n",
       "      <th>LCA_GWP</th>\n",
       "      <th>Weight</th>\n",
       "      <th>supply_id</th>\n",
       "      <th>Cut_length</th>\n",
       "    </tr>\n",
       "  </thead>\n",
       "  <tbody>\n",
       "    <tr>\n",
       "      <th>2</th>\n",
       "      <td>2.8</td>\n",
       "      <td>0.0075</td>\n",
       "      <td>100</td>\n",
       "      <td>168</td>\n",
       "      <td>3.8</td>\n",
       "      <td>10.30000</td>\n",
       "      <td>None</td>\n",
       "      <td>None</td>\n",
       "    </tr>\n",
       "    <tr>\n",
       "      <th>3</th>\n",
       "      <td>8.8</td>\n",
       "      <td>0.0342</td>\n",
       "      <td>100</td>\n",
       "      <td>2408</td>\n",
       "      <td>12.4</td>\n",
       "      <td>147.80000</td>\n",
       "      <td>None</td>\n",
       "      <td>None</td>\n",
       "    </tr>\n",
       "    <tr>\n",
       "      <th>1</th>\n",
       "      <td>7.2</td>\n",
       "      <td>0.0793</td>\n",
       "      <td>100</td>\n",
       "      <td>2887</td>\n",
       "      <td>3.5</td>\n",
       "      <td>280.34136</td>\n",
       "      <td>19.0</td>\n",
       "      <td>1.9</td>\n",
       "    </tr>\n",
       "    <tr>\n",
       "      <th>4</th>\n",
       "      <td>9.6</td>\n",
       "      <td>0.1029</td>\n",
       "      <td>150</td>\n",
       "      <td>4198</td>\n",
       "      <td>5.2</td>\n",
       "      <td>485.02944</td>\n",
       "      <td>12.0</td>\n",
       "      <td>0.6</td>\n",
       "    </tr>\n",
       "    <tr>\n",
       "      <th>0</th>\n",
       "      <td>9.9</td>\n",
       "      <td>0.0991</td>\n",
       "      <td>100</td>\n",
       "      <td>7849</td>\n",
       "      <td>33.1</td>\n",
       "      <td>481.70000</td>\n",
       "      <td>None</td>\n",
       "      <td>None</td>\n",
       "    </tr>\n",
       "  </tbody>\n",
       "</table>\n",
       "</div>\n",
       "      <button class=\"colab-df-convert\" onclick=\"convertToInteractive('df-df5045eb-a54f-4e67-bbc7-7632b18c954f')\"\n",
       "              title=\"Convert this dataframe to an interactive table.\"\n",
       "              style=\"display:none;\">\n",
       "        \n",
       "  <svg xmlns=\"http://www.w3.org/2000/svg\" height=\"24px\"viewBox=\"0 0 24 24\"\n",
       "       width=\"24px\">\n",
       "    <path d=\"M0 0h24v24H0V0z\" fill=\"none\"/>\n",
       "    <path d=\"M18.56 5.44l.94 2.06.94-2.06 2.06-.94-2.06-.94-.94-2.06-.94 2.06-2.06.94zm-11 1L8.5 8.5l.94-2.06 2.06-.94-2.06-.94L8.5 2.5l-.94 2.06-2.06.94zm10 10l.94 2.06.94-2.06 2.06-.94-2.06-.94-.94-2.06-.94 2.06-2.06.94z\"/><path d=\"M17.41 7.96l-1.37-1.37c-.4-.4-.92-.59-1.43-.59-.52 0-1.04.2-1.43.59L10.3 9.45l-7.72 7.72c-.78.78-.78 2.05 0 2.83L4 21.41c.39.39.9.59 1.41.59.51 0 1.02-.2 1.41-.59l7.78-7.78 2.81-2.81c.8-.78.8-2.07 0-2.86zM5.41 20L4 18.59l7.72-7.72 1.47 1.35L5.41 20z\"/>\n",
       "  </svg>\n",
       "      </button>\n",
       "      \n",
       "  <style>\n",
       "    .colab-df-container {\n",
       "      display:flex;\n",
       "      flex-wrap:wrap;\n",
       "      gap: 12px;\n",
       "    }\n",
       "\n",
       "    .colab-df-convert {\n",
       "      background-color: #E8F0FE;\n",
       "      border: none;\n",
       "      border-radius: 50%;\n",
       "      cursor: pointer;\n",
       "      display: none;\n",
       "      fill: #1967D2;\n",
       "      height: 32px;\n",
       "      padding: 0 0 0 0;\n",
       "      width: 32px;\n",
       "    }\n",
       "\n",
       "    .colab-df-convert:hover {\n",
       "      background-color: #E2EBFA;\n",
       "      box-shadow: 0px 1px 2px rgba(60, 64, 67, 0.3), 0px 1px 3px 1px rgba(60, 64, 67, 0.15);\n",
       "      fill: #174EA6;\n",
       "    }\n",
       "\n",
       "    [theme=dark] .colab-df-convert {\n",
       "      background-color: #3B4455;\n",
       "      fill: #D2E3FC;\n",
       "    }\n",
       "\n",
       "    [theme=dark] .colab-df-convert:hover {\n",
       "      background-color: #434B5C;\n",
       "      box-shadow: 0px 1px 3px 1px rgba(0, 0, 0, 0.15);\n",
       "      filter: drop-shadow(0px 1px 2px rgba(0, 0, 0, 0.3));\n",
       "      fill: #FFFFFF;\n",
       "    }\n",
       "  </style>\n",
       "\n",
       "      <script>\n",
       "        const buttonEl =\n",
       "          document.querySelector('#df-df5045eb-a54f-4e67-bbc7-7632b18c954f button.colab-df-convert');\n",
       "        buttonEl.style.display =\n",
       "          google.colab.kernel.accessAllowed ? 'block' : 'none';\n",
       "\n",
       "        async function convertToInteractive(key) {\n",
       "          const element = document.querySelector('#df-df5045eb-a54f-4e67-bbc7-7632b18c954f');\n",
       "          const dataTable =\n",
       "            await google.colab.kernel.invokeFunction('convertToInteractive',\n",
       "                                                     [key], {});\n",
       "          if (!dataTable) return;\n",
       "\n",
       "          const docLinkHtml = 'Like what you see? Visit the ' +\n",
       "            '<a target=\"_blank\" href=https://colab.research.google.com/notebooks/data_table.ipynb>data table notebook</a>'\n",
       "            + ' to learn more about interactive tables.';\n",
       "          element.innerHTML = '';\n",
       "          dataTable['output_type'] = 'display_data';\n",
       "          await google.colab.output.renderOutput(dataTable, element);\n",
       "          const docLink = document.createElement('div');\n",
       "          docLink.innerHTML = docLinkHtml;\n",
       "          element.appendChild(docLink);\n",
       "        }\n",
       "      </script>\n",
       "    </div>\n",
       "  </div>\n",
       "  "
      ],
      "text/plain": [
       "   Length    Area  Distance  Price  LCA_GWP     Weight supply_id Cut_length\n",
       "2     2.8  0.0075       100    168      3.8   10.30000      None       None\n",
       "3     8.8  0.0342       100   2408     12.4  147.80000      None       None\n",
       "1     7.2  0.0793       100   2887      3.5  280.34136      19.0        1.9\n",
       "4     9.6  0.1029       150   4198      5.2  485.02944      12.0        0.6\n",
       "0     9.9  0.0991       100   7849     33.1  481.70000      None       None"
      ]
     },
     "execution_count": 15,
     "metadata": {},
     "output_type": "execute_result"
    }
   ],
   "source": [
    "#measure time\n",
    "import time\n",
    "start_time = time.time()\n",
    "\n",
    "# sort 'demand' and 'new_set' by volume, from smallest to largest: \n",
    "demand_sorted = demand.loc[(demand.Length * demand.Area).sort_values(ascending=True).index]\n",
    "new_set_sorted = new_set.loc[(new_set.Length * new_set.Area).sort_values().index]\n",
    "\n",
    "# Create dataframe by replacing according to the mapping:\n",
    "bfa_set = new_set_sorted.copy()\n",
    "bfa_set['supply_id'] = None\n",
    "bfa_set['Cut_length'] = None\n",
    "\n",
    "# TODO make sure that two identical elements won't get the same mapping (drop after each match)\n",
    "\n",
    "for demand_index, demand_row in demand_sorted.iterrows():\n",
    "  for supply_index, supply_row in supply.iterrows():\n",
    "    # check feasibility:\n",
    "    if supply_row['Length'] >= demand_row['Length'] and supply_row['Area'] >= demand_row['Area']:\n",
    "      # check if element not already taken:\n",
    "      if supply_index not in list(bfa_set['supply_id']):\n",
    "        # check if both price and LCA are better than reference:\n",
    "        if supply_row['Price'] <= new_set_sorted.loc[demand_index]['Price'] and supply_row['LCA_GWP'] <= new_set_sorted.loc[demand_index]['LCA_GWP']:\n",
    "          # no mapping made yet:\n",
    "          if not bfa_set.loc[demand_index, 'supply_id']:\n",
    "            bfa_set.loc[demand_index, :] = supply_row.drop(labels=['Length']).append( pd.Series([supply_index, supply_row['Length']-demand.loc[demand_index,'Length']], index=['supply_id', 'Cut_length']) )\n",
    "            bfa_set.loc[demand_index, 'Length'] = demand.loc[demand_index,'Length']\n",
    "            bfa_set.loc[demand_index, 'Weight'] = bfa_set.loc[demand_index, 'Length'] * bfa_set.loc[demand_index, 'Area'] * DENSITY\n",
    "          # new mapping is better:\n",
    "          elif supply_row['Price'] <= supply.loc[bfa_set.loc[demand_index, 'supply_id']]['Price'] and supply_row['LCA_GWP'] <= supply.loc[bfa_set.loc[demand_index, 'supply_id']]['LCA_GWP']:\n",
    "            bfa_set.loc[demand_index, :] = supply_row.drop(labels=['Length']).append( pd.Series([supply_index, supply_row['Length']-demand.loc[demand_index,'Length']], index=['supply_id', 'Cut_length']) )  \n",
    "            bfa_set.loc[demand_index, 'Length'] = demand.loc[demand_index,'Length']\n",
    "            bfa_set.loc[demand_index, 'Weight'] = bfa_set.loc[demand_index, 'Length'] * bfa_set.loc[demand_index, 'Area'] * DENSITY\n",
    "\n",
    "bfa_time = time.time()-start_time\n",
    "print(f\"Execution time: {round(bfa_time*10000)/10000} sec.\")\n",
    "\n",
    "bfa_cut_weight = (bfa_set['Cut_length'] * bfa_set['Area']).sum() * DENSITY\n",
    "print(f\"\\nBrute force achieved LCA-GWP {round(bfa_set['LCA_GWP'].sum())} kgCO2e, cost {round(bfa_set['Price'].sum())} NOK, and weight {round(bfa_set['Weight'].sum())} kg. It would also result in {round(bfa_cut_weight)} kg of scrap waste.\\n\\n\")\n",
    "\n",
    "bfa_set"
   ]
  },
  {
   "cell_type": "code",
   "execution_count": null,
   "metadata": {
    "colab": {
     "base_uri": "https://localhost:8080/",
     "height": 36
    },
    "id": "ddra-g8Dg6pj",
    "outputId": "d2d9388a-f755-4b31-ba7b-07e70e5f6f84"
   },
   "outputs": [
    {
     "data": {
      "application/vnd.google.colaboratory.intrinsic+json": {
       "type": "string"
      },
      "text/plain": [
       "'{\"Length\":{\"0\":9.9,\"1\":7.2,\"2\":2.8,\"3\":8.8,\"4\":9.6},\"Area\":{\"0\":0.0991,\"1\":0.0724,\"2\":0.0075,\"3\":0.0342,\"4\":0.0964},\"Weight\":{\"0\":481.7,\"1\":255.9,\"2\":10.3,\"3\":147.8,\"4\":454.4}}'"
      ]
     },
     "execution_count": 16,
     "metadata": {},
     "output_type": "execute_result"
    }
   ],
   "source": [
    "import json\n",
    "\n",
    "demand.to_json(orient = 'columns')"
   ]
  },
  {
   "cell_type": "markdown",
   "metadata": {
    "id": "yDr1ZutvgWiU"
   },
   "source": [
    "Visualize mapping"
   ]
  },
  {
   "cell_type": "code",
   "execution_count": null,
   "metadata": {
    "colab": {
     "base_uri": "https://localhost:8080/",
     "height": 621
    },
    "id": "PlCdOub1cjFc",
    "outputId": "e98d15de-f949-4b36-8d0c-4351a5f0ac54"
   },
   "outputs": [
    {
     "data": {
      "image/png": "[encoded data removed]",
      "text/plain": [
       "<Figure size 1080x720 with 1 Axes>"
      ]
     },
     "metadata": {
      "needs_background": "light"
     },
     "output_type": "display_data"
    }
   ],
   "source": [
    "plot_elements(demand, supply, bfa_set)"
   ]
  },
  {
   "cell_type": "markdown",
   "metadata": {
    "id": "VBRLFaf4eAaL"
   },
   "source": [
    "## [BFD] With brute force, descending\n",
    "\n",
    "Iterate through all the possibilities, and choose the best performing mapping."
   ]
  },
  {
   "cell_type": "code",
   "execution_count": null,
   "metadata": {
    "colab": {
     "base_uri": "https://localhost:8080/",
     "height": 297
    },
    "id": "D1kqlafVeAac",
    "outputId": "c9ad55c2-a789-4fad-e6d0-978ef8678f27"
   },
   "outputs": [
    {
     "name": "stdout",
     "output_type": "stream",
     "text": [
      "Execution time: 0.0171 sec.\n",
      "\n",
      "Brute force achieved LCA-GWP 56 kgCO2e, cost 17065 NOK, and weight 1393 kg. It would also result in 89 kg of scrap waste.\n",
      "\n",
      "\n"
     ]
    },
    {
     "data": {
      "text/html": [
       "\n",
       "  <div id=\"df-7483c381-ddab-4d5b-91ff-f4ec674d1c53\">\n",
       "    <div class=\"colab-df-container\">\n",
       "      <div>\n",
       "<style scoped>\n",
       "    .dataframe tbody tr th:only-of-type {\n",
       "        vertical-align: middle;\n",
       "    }\n",
       "\n",
       "    .dataframe tbody tr th {\n",
       "        vertical-align: top;\n",
       "    }\n",
       "\n",
       "    .dataframe thead th {\n",
       "        text-align: right;\n",
       "    }\n",
       "</style>\n",
       "<table border=\"1\" class=\"dataframe\">\n",
       "  <thead>\n",
       "    <tr style=\"text-align: right;\">\n",
       "      <th></th>\n",
       "      <th>Length</th>\n",
       "      <th>Area</th>\n",
       "      <th>Distance</th>\n",
       "      <th>Price</th>\n",
       "      <th>LCA_GWP</th>\n",
       "      <th>Weight</th>\n",
       "      <th>supply_id</th>\n",
       "      <th>Cut_length</th>\n",
       "    </tr>\n",
       "  </thead>\n",
       "  <tbody>\n",
       "    <tr>\n",
       "      <th>2</th>\n",
       "      <td>2.8</td>\n",
       "      <td>0.0075</td>\n",
       "      <td>100</td>\n",
       "      <td>168</td>\n",
       "      <td>3.8</td>\n",
       "      <td>10.30000</td>\n",
       "      <td>None</td>\n",
       "      <td>None</td>\n",
       "    </tr>\n",
       "    <tr>\n",
       "      <th>3</th>\n",
       "      <td>8.8</td>\n",
       "      <td>0.0342</td>\n",
       "      <td>100</td>\n",
       "      <td>2408</td>\n",
       "      <td>12.4</td>\n",
       "      <td>147.80000</td>\n",
       "      <td>None</td>\n",
       "      <td>None</td>\n",
       "    </tr>\n",
       "    <tr>\n",
       "      <th>1</th>\n",
       "      <td>7.2</td>\n",
       "      <td>0.0793</td>\n",
       "      <td>100</td>\n",
       "      <td>2887</td>\n",
       "      <td>3.5</td>\n",
       "      <td>280.34136</td>\n",
       "      <td>19.0</td>\n",
       "      <td>1.9</td>\n",
       "    </tr>\n",
       "    <tr>\n",
       "      <th>4</th>\n",
       "      <td>9.6</td>\n",
       "      <td>0.0964</td>\n",
       "      <td>100</td>\n",
       "      <td>7404</td>\n",
       "      <td>31.4</td>\n",
       "      <td>454.40000</td>\n",
       "      <td>None</td>\n",
       "      <td>None</td>\n",
       "    </tr>\n",
       "    <tr>\n",
       "      <th>0</th>\n",
       "      <td>9.9</td>\n",
       "      <td>0.1029</td>\n",
       "      <td>150</td>\n",
       "      <td>4198</td>\n",
       "      <td>5.2</td>\n",
       "      <td>500.18661</td>\n",
       "      <td>12.0</td>\n",
       "      <td>0.3</td>\n",
       "    </tr>\n",
       "  </tbody>\n",
       "</table>\n",
       "</div>\n",
       "      <button class=\"colab-df-convert\" onclick=\"convertToInteractive('df-7483c381-ddab-4d5b-91ff-f4ec674d1c53')\"\n",
       "              title=\"Convert this dataframe to an interactive table.\"\n",
       "              style=\"display:none;\">\n",
       "        \n",
       "  <svg xmlns=\"http://www.w3.org/2000/svg\" height=\"24px\"viewBox=\"0 0 24 24\"\n",
       "       width=\"24px\">\n",
       "    <path d=\"M0 0h24v24H0V0z\" fill=\"none\"/>\n",
       "    <path d=\"M18.56 5.44l.94 2.06.94-2.06 2.06-.94-2.06-.94-.94-2.06-.94 2.06-2.06.94zm-11 1L8.5 8.5l.94-2.06 2.06-.94-2.06-.94L8.5 2.5l-.94 2.06-2.06.94zm10 10l.94 2.06.94-2.06 2.06-.94-2.06-.94-.94-2.06-.94 2.06-2.06.94z\"/><path d=\"M17.41 7.96l-1.37-1.37c-.4-.4-.92-.59-1.43-.59-.52 0-1.04.2-1.43.59L10.3 9.45l-7.72 7.72c-.78.78-.78 2.05 0 2.83L4 21.41c.39.39.9.59 1.41.59.51 0 1.02-.2 1.41-.59l7.78-7.78 2.81-2.81c.8-.78.8-2.07 0-2.86zM5.41 20L4 18.59l7.72-7.72 1.47 1.35L5.41 20z\"/>\n",
       "  </svg>\n",
       "      </button>\n",
       "      \n",
       "  <style>\n",
       "    .colab-df-container {\n",
       "      display:flex;\n",
       "      flex-wrap:wrap;\n",
       "      gap: 12px;\n",
       "    }\n",
       "\n",
       "    .colab-df-convert {\n",
       "      background-color: #E8F0FE;\n",
       "      border: none;\n",
       "      border-radius: 50%;\n",
       "      cursor: pointer;\n",
       "      display: none;\n",
       "      fill: #1967D2;\n",
       "      height: 32px;\n",
       "      padding: 0 0 0 0;\n",
       "      width: 32px;\n",
       "    }\n",
       "\n",
       "    .colab-df-convert:hover {\n",
       "      background-color: #E2EBFA;\n",
       "      box-shadow: 0px 1px 2px rgba(60, 64, 67, 0.3), 0px 1px 3px 1px rgba(60, 64, 67, 0.15);\n",
       "      fill: #174EA6;\n",
       "    }\n",
       "\n",
       "    [theme=dark] .colab-df-convert {\n",
       "      background-color: #3B4455;\n",
       "      fill: #D2E3FC;\n",
       "    }\n",
       "\n",
       "    [theme=dark] .colab-df-convert:hover {\n",
       "      background-color: #434B5C;\n",
       "      box-shadow: 0px 1px 3px 1px rgba(0, 0, 0, 0.15);\n",
       "      filter: drop-shadow(0px 1px 2px rgba(0, 0, 0, 0.3));\n",
       "      fill: #FFFFFF;\n",
       "    }\n",
       "  </style>\n",
       "\n",
       "      <script>\n",
       "        const buttonEl =\n",
       "          document.querySelector('#df-7483c381-ddab-4d5b-91ff-f4ec674d1c53 button.colab-df-convert');\n",
       "        buttonEl.style.display =\n",
       "          google.colab.kernel.accessAllowed ? 'block' : 'none';\n",
       "\n",
       "        async function convertToInteractive(key) {\n",
       "          const element = document.querySelector('#df-7483c381-ddab-4d5b-91ff-f4ec674d1c53');\n",
       "          const dataTable =\n",
       "            await google.colab.kernel.invokeFunction('convertToInteractive',\n",
       "                                                     [key], {});\n",
       "          if (!dataTable) return;\n",
       "\n",
       "          const docLinkHtml = 'Like what you see? Visit the ' +\n",
       "            '<a target=\"_blank\" href=https://colab.research.google.com/notebooks/data_table.ipynb>data table notebook</a>'\n",
       "            + ' to learn more about interactive tables.';\n",
       "          element.innerHTML = '';\n",
       "          dataTable['output_type'] = 'display_data';\n",
       "          await google.colab.output.renderOutput(dataTable, element);\n",
       "          const docLink = document.createElement('div');\n",
       "          docLink.innerHTML = docLinkHtml;\n",
       "          element.appendChild(docLink);\n",
       "        }\n",
       "      </script>\n",
       "    </div>\n",
       "  </div>\n",
       "  "
      ],
      "text/plain": [
       "   Length    Area  Distance  Price  LCA_GWP     Weight supply_id Cut_length\n",
       "2     2.8  0.0075       100    168      3.8   10.30000      None       None\n",
       "3     8.8  0.0342       100   2408     12.4  147.80000      None       None\n",
       "1     7.2  0.0793       100   2887      3.5  280.34136      19.0        1.9\n",
       "4     9.6  0.0964       100   7404     31.4  454.40000      None       None\n",
       "0     9.9  0.1029       150   4198      5.2  500.18661      12.0        0.3"
      ]
     },
     "execution_count": 18,
     "metadata": {},
     "output_type": "execute_result"
    }
   ],
   "source": [
    "#measure time\n",
    "import time\n",
    "start_time = time.time()\n",
    "\n",
    "# sort 'demand' and 'new_set' by volume, from largest to smallest: \n",
    "demand_sorted = demand.loc[(demand.Length * demand.Area).sort_values(ascending=False).index]\n",
    "new_set_sorted = new_set.loc[(new_set.Length * new_set.Area).sort_values().index]\n",
    "\n",
    "# Create dataframe by replacing according to the mapping:\n",
    "bfd_set = new_set_sorted.copy()\n",
    "bfd_set['supply_id'] = None\n",
    "bfd_set['Cut_length'] = None\n",
    "\n",
    "# TODO make sure that two identical elements won't get the same mapping (drop after each match)\n",
    "\n",
    "for demand_index, demand_row in demand_sorted.iterrows():\n",
    "  for supply_index, supply_row in supply.iterrows():\n",
    "    # check feasibility:\n",
    "    if supply_row['Length'] >= demand_row['Length'] and supply_row['Area'] >= demand_row['Area']:\n",
    "      # check if element not already taken:\n",
    "      if supply_index not in list(bfd_set['supply_id']):\n",
    "        # check if both price and LCA are better than reference (new):\n",
    "        if supply_row['Price'] <= new_set_sorted.loc[demand_index]['Price'] and supply_row['LCA_GWP'] <= new_set_sorted.loc[demand_index]['LCA_GWP']:\n",
    "          # no mapping made yet:\n",
    "          if not bfd_set.loc[demand_index, 'supply_id']:\n",
    "            bfd_set.loc[demand_index, :] = supply_row.drop(labels=['Length']).append( pd.Series([supply_index, supply_row['Length']-demand.loc[demand_index,'Length']], index=['supply_id', 'Cut_length']) )\n",
    "            bfd_set.loc[demand_index, 'Length'] = demand.loc[demand_index,'Length']\n",
    "            bfd_set.loc[demand_index, 'Weight'] = bfd_set.loc[demand_index, 'Length'] * bfd_set.loc[demand_index, 'Area'] * DENSITY\n",
    "          # new mapping is better:\n",
    "          elif supply_row['Price'] <= supply.loc[bfd_set.loc[demand_index, 'supply_id']]['Price'] and supply_row['LCA_GWP'] <= supply.loc[bfd_set.loc[demand_index, 'supply_id']]['LCA_GWP']:\n",
    "            bfd_set.loc[demand_index, :] = supply_row.drop(labels=['Length']).append( pd.Series([supply_index, supply_row['Length']-demand.loc[demand_index,'Length']], index=['supply_id', 'Cut_length']) )  \n",
    "            bfd_set.loc[demand_index, 'Length'] = demand.loc[demand_index,'Length']\n",
    "            bfd_set.loc[demand_index, 'Weight'] = bfd_set.loc[demand_index, 'Length'] * bfd_set.loc[demand_index, 'Area'] * DENSITY\n",
    "\n",
    "bfd_time = time.time()-start_time\n",
    "print(f\"Execution time: {round(bfd_time*10000)/10000} sec.\")\n",
    "\n",
    "bfd_cut_weight = (bfd_set['Cut_length'] * bfd_set['Area']).sum() * DENSITY\n",
    "print(f\"\\nBrute force achieved LCA-GWP {round(bfd_set['LCA_GWP'].sum())} kgCO2e, cost {round(bfd_set['Price'].sum())} NOK, and weight {round(bfd_set['Weight'].sum())} kg. It would also result in {round(bfd_cut_weight)} kg of scrap waste.\\n\\n\")\n",
    "\n",
    "bfd_set"
   ]
  },
  {
   "cell_type": "markdown",
   "metadata": {
    "id": "0c6biErmZfmS"
   },
   "source": [
    "## [MAT] With matrix transformations"
   ]
  },
  {
   "cell_type": "code",
   "execution_count": null,
   "metadata": {
    "colab": {
     "base_uri": "https://localhost:8080/",
     "height": 206
    },
    "id": "ZyUcSMTWnCYT",
    "outputId": "26acbe51-47a0-4fb3-c975-c92022693092"
   },
   "outputs": [
    {
     "data": {
      "text/html": [
       "\n",
       "  <div id=\"df-2cabd90a-e857-4e42-8e9a-5c309821424a\">\n",
       "    <div class=\"colab-df-container\">\n",
       "      <div>\n",
       "<style scoped>\n",
       "    .dataframe tbody tr th:only-of-type {\n",
       "        vertical-align: middle;\n",
       "    }\n",
       "\n",
       "    .dataframe tbody tr th {\n",
       "        vertical-align: top;\n",
       "    }\n",
       "\n",
       "    .dataframe thead th {\n",
       "        text-align: right;\n",
       "    }\n",
       "</style>\n",
       "<table border=\"1\" class=\"dataframe\">\n",
       "  <thead>\n",
       "    <tr style=\"text-align: right;\">\n",
       "      <th></th>\n",
       "      <th>Length</th>\n",
       "      <th>Area</th>\n",
       "      <th>Weight</th>\n",
       "    </tr>\n",
       "  </thead>\n",
       "  <tbody>\n",
       "    <tr>\n",
       "      <th>0</th>\n",
       "      <td>9.9</td>\n",
       "      <td>0.0991</td>\n",
       "      <td>481.7</td>\n",
       "    </tr>\n",
       "    <tr>\n",
       "      <th>1</th>\n",
       "      <td>7.2</td>\n",
       "      <td>0.0724</td>\n",
       "      <td>255.9</td>\n",
       "    </tr>\n",
       "    <tr>\n",
       "      <th>2</th>\n",
       "      <td>2.8</td>\n",
       "      <td>0.0075</td>\n",
       "      <td>10.3</td>\n",
       "    </tr>\n",
       "    <tr>\n",
       "      <th>3</th>\n",
       "      <td>8.8</td>\n",
       "      <td>0.0342</td>\n",
       "      <td>147.8</td>\n",
       "    </tr>\n",
       "    <tr>\n",
       "      <th>4</th>\n",
       "      <td>9.6</td>\n",
       "      <td>0.0964</td>\n",
       "      <td>454.4</td>\n",
       "    </tr>\n",
       "  </tbody>\n",
       "</table>\n",
       "</div>\n",
       "      <button class=\"colab-df-convert\" onclick=\"convertToInteractive('df-2cabd90a-e857-4e42-8e9a-5c309821424a')\"\n",
       "              title=\"Convert this dataframe to an interactive table.\"\n",
       "              style=\"display:none;\">\n",
       "        \n",
       "  <svg xmlns=\"http://www.w3.org/2000/svg\" height=\"24px\"viewBox=\"0 0 24 24\"\n",
       "       width=\"24px\">\n",
       "    <path d=\"M0 0h24v24H0V0z\" fill=\"none\"/>\n",
       "    <path d=\"M18.56 5.44l.94 2.06.94-2.06 2.06-.94-2.06-.94-.94-2.06-.94 2.06-2.06.94zm-11 1L8.5 8.5l.94-2.06 2.06-.94-2.06-.94L8.5 2.5l-.94 2.06-2.06.94zm10 10l.94 2.06.94-2.06 2.06-.94-2.06-.94-.94-2.06-.94 2.06-2.06.94z\"/><path d=\"M17.41 7.96l-1.37-1.37c-.4-.4-.92-.59-1.43-.59-.52 0-1.04.2-1.43.59L10.3 9.45l-7.72 7.72c-.78.78-.78 2.05 0 2.83L4 21.41c.39.39.9.59 1.41.59.51 0 1.02-.2 1.41-.59l7.78-7.78 2.81-2.81c.8-.78.8-2.07 0-2.86zM5.41 20L4 18.59l7.72-7.72 1.47 1.35L5.41 20z\"/>\n",
       "  </svg>\n",
       "      </button>\n",
       "      \n",
       "  <style>\n",
       "    .colab-df-container {\n",
       "      display:flex;\n",
       "      flex-wrap:wrap;\n",
       "      gap: 12px;\n",
       "    }\n",
       "\n",
       "    .colab-df-convert {\n",
       "      background-color: #E8F0FE;\n",
       "      border: none;\n",
       "      border-radius: 50%;\n",
       "      cursor: pointer;\n",
       "      display: none;\n",
       "      fill: #1967D2;\n",
       "      height: 32px;\n",
       "      padding: 0 0 0 0;\n",
       "      width: 32px;\n",
       "    }\n",
       "\n",
       "    .colab-df-convert:hover {\n",
       "      background-color: #E2EBFA;\n",
       "      box-shadow: 0px 1px 2px rgba(60, 64, 67, 0.3), 0px 1px 3px 1px rgba(60, 64, 67, 0.15);\n",
       "      fill: #174EA6;\n",
       "    }\n",
       "\n",
       "    [theme=dark] .colab-df-convert {\n",
       "      background-color: #3B4455;\n",
       "      fill: #D2E3FC;\n",
       "    }\n",
       "\n",
       "    [theme=dark] .colab-df-convert:hover {\n",
       "      background-color: #434B5C;\n",
       "      box-shadow: 0px 1px 3px 1px rgba(0, 0, 0, 0.15);\n",
       "      filter: drop-shadow(0px 1px 2px rgba(0, 0, 0, 0.3));\n",
       "      fill: #FFFFFF;\n",
       "    }\n",
       "  </style>\n",
       "\n",
       "      <script>\n",
       "        const buttonEl =\n",
       "          document.querySelector('#df-2cabd90a-e857-4e42-8e9a-5c309821424a button.colab-df-convert');\n",
       "        buttonEl.style.display =\n",
       "          google.colab.kernel.accessAllowed ? 'block' : 'none';\n",
       "\n",
       "        async function convertToInteractive(key) {\n",
       "          const element = document.querySelector('#df-2cabd90a-e857-4e42-8e9a-5c309821424a');\n",
       "          const dataTable =\n",
       "            await google.colab.kernel.invokeFunction('convertToInteractive',\n",
       "                                                     [key], {});\n",
       "          if (!dataTable) return;\n",
       "\n",
       "          const docLinkHtml = 'Like what you see? Visit the ' +\n",
       "            '<a target=\"_blank\" href=https://colab.research.google.com/notebooks/data_table.ipynb>data table notebook</a>'\n",
       "            + ' to learn more about interactive tables.';\n",
       "          element.innerHTML = '';\n",
       "          dataTable['output_type'] = 'display_data';\n",
       "          await google.colab.output.renderOutput(dataTable, element);\n",
       "          const docLink = document.createElement('div');\n",
       "          docLink.innerHTML = docLinkHtml;\n",
       "          element.appendChild(docLink);\n",
       "        }\n",
       "      </script>\n",
       "    </div>\n",
       "  </div>\n",
       "  "
      ],
      "text/plain": [
       "   Length    Area  Weight\n",
       "0     9.9  0.0991   481.7\n",
       "1     7.2  0.0724   255.9\n",
       "2     2.8  0.0075    10.3\n",
       "3     8.8  0.0342   147.8\n",
       "4     9.6  0.0964   454.4"
      ]
     },
     "execution_count": 20,
     "metadata": {},
     "output_type": "execute_result"
    }
   ],
   "source": [
    "demand"
   ]
  },
  {
   "cell_type": "markdown",
   "metadata": {
    "id": "6apLKBS5WQBu"
   },
   "source": [
    "TEMPORARY MOCK! It imitates the perfect match for element no.2 from the design set."
   ]
  },
  {
   "cell_type": "code",
   "execution_count": null,
   "metadata": {
    "colab": {
     "base_uri": "https://localhost:8080/",
     "height": 707
    },
    "id": "ojr_0nlwWQJo",
    "outputId": "1dff5e6f-af5f-4e58-87f2-aac3cabe995b"
   },
   "outputs": [
    {
     "data": {
      "text/html": [
       "\n",
       "  <div id=\"df-b469d49e-ddb9-4f99-b2d3-588f86566024\">\n",
       "    <div class=\"colab-df-container\">\n",
       "      <div>\n",
       "<style scoped>\n",
       "    .dataframe tbody tr th:only-of-type {\n",
       "        vertical-align: middle;\n",
       "    }\n",
       "\n",
       "    .dataframe tbody tr th {\n",
       "        vertical-align: top;\n",
       "    }\n",
       "\n",
       "    .dataframe thead th {\n",
       "        text-align: right;\n",
       "    }\n",
       "</style>\n",
       "<table border=\"1\" class=\"dataframe\">\n",
       "  <thead>\n",
       "    <tr style=\"text-align: right;\">\n",
       "      <th></th>\n",
       "      <th>Length</th>\n",
       "      <th>Area</th>\n",
       "      <th>Distance</th>\n",
       "      <th>Price</th>\n",
       "      <th>LCA_GWP</th>\n",
       "      <th>Weight</th>\n",
       "    </tr>\n",
       "  </thead>\n",
       "  <tbody>\n",
       "    <tr>\n",
       "      <th>0</th>\n",
       "      <td>3.6</td>\n",
       "      <td>0.0064</td>\n",
       "      <td>50.0</td>\n",
       "      <td>92.0</td>\n",
       "      <td>1.6</td>\n",
       "      <td>11.3</td>\n",
       "    </tr>\n",
       "    <tr>\n",
       "      <th>1</th>\n",
       "      <td>6.9</td>\n",
       "      <td>0.0212</td>\n",
       "      <td>100.0</td>\n",
       "      <td>585.0</td>\n",
       "      <td>3.2</td>\n",
       "      <td>71.8</td>\n",
       "    </tr>\n",
       "    <tr>\n",
       "      <th>2</th>\n",
       "      <td>5.0</td>\n",
       "      <td>0.0529</td>\n",
       "      <td>150.0</td>\n",
       "      <td>1058.0</td>\n",
       "      <td>4.9</td>\n",
       "      <td>129.9</td>\n",
       "    </tr>\n",
       "    <tr>\n",
       "      <th>3</th>\n",
       "      <td>7.6</td>\n",
       "      <td>0.0080</td>\n",
       "      <td>100.0</td>\n",
       "      <td>243.0</td>\n",
       "      <td>3.2</td>\n",
       "      <td>29.9</td>\n",
       "    </tr>\n",
       "    <tr>\n",
       "      <th>4</th>\n",
       "      <td>7.8</td>\n",
       "      <td>0.0425</td>\n",
       "      <td>150.0</td>\n",
       "      <td>1326.0</td>\n",
       "      <td>4.9</td>\n",
       "      <td>162.8</td>\n",
       "    </tr>\n",
       "    <tr>\n",
       "      <th>5</th>\n",
       "      <td>1.7</td>\n",
       "      <td>0.0034</td>\n",
       "      <td>100.0</td>\n",
       "      <td>23.0</td>\n",
       "      <td>3.2</td>\n",
       "      <td>2.8</td>\n",
       "    </tr>\n",
       "    <tr>\n",
       "      <th>6</th>\n",
       "      <td>1.1</td>\n",
       "      <td>0.0076</td>\n",
       "      <td>100.0</td>\n",
       "      <td>33.0</td>\n",
       "      <td>3.2</td>\n",
       "      <td>4.1</td>\n",
       "    </tr>\n",
       "    <tr>\n",
       "      <th>7</th>\n",
       "      <td>10.2</td>\n",
       "      <td>0.0848</td>\n",
       "      <td>150.0</td>\n",
       "      <td>3460.0</td>\n",
       "      <td>5.1</td>\n",
       "      <td>424.7</td>\n",
       "    </tr>\n",
       "    <tr>\n",
       "      <th>8</th>\n",
       "      <td>3.8</td>\n",
       "      <td>0.0411</td>\n",
       "      <td>100.0</td>\n",
       "      <td>625.0</td>\n",
       "      <td>3.2</td>\n",
       "      <td>76.7</td>\n",
       "    </tr>\n",
       "    <tr>\n",
       "      <th>9</th>\n",
       "      <td>3.5</td>\n",
       "      <td>0.0256</td>\n",
       "      <td>150.0</td>\n",
       "      <td>358.0</td>\n",
       "      <td>4.8</td>\n",
       "      <td>44.0</td>\n",
       "    </tr>\n",
       "    <tr>\n",
       "      <th>10</th>\n",
       "      <td>11.9</td>\n",
       "      <td>0.0892</td>\n",
       "      <td>100.0</td>\n",
       "      <td>4246.0</td>\n",
       "      <td>3.6</td>\n",
       "      <td>521.2</td>\n",
       "    </tr>\n",
       "    <tr>\n",
       "      <th>11</th>\n",
       "      <td>6.1</td>\n",
       "      <td>0.0436</td>\n",
       "      <td>150.0</td>\n",
       "      <td>1064.0</td>\n",
       "      <td>4.9</td>\n",
       "      <td>130.6</td>\n",
       "    </tr>\n",
       "    <tr>\n",
       "      <th>12</th>\n",
       "      <td>10.2</td>\n",
       "      <td>0.1029</td>\n",
       "      <td>150.0</td>\n",
       "      <td>4198.0</td>\n",
       "      <td>5.2</td>\n",
       "      <td>515.3</td>\n",
       "    </tr>\n",
       "    <tr>\n",
       "      <th>13</th>\n",
       "      <td>6.2</td>\n",
       "      <td>0.0495</td>\n",
       "      <td>100.0</td>\n",
       "      <td>1228.0</td>\n",
       "      <td>3.3</td>\n",
       "      <td>150.7</td>\n",
       "    </tr>\n",
       "    <tr>\n",
       "      <th>14</th>\n",
       "      <td>8.0</td>\n",
       "      <td>0.0208</td>\n",
       "      <td>150.0</td>\n",
       "      <td>666.0</td>\n",
       "      <td>4.8</td>\n",
       "      <td>81.7</td>\n",
       "    </tr>\n",
       "    <tr>\n",
       "      <th>15</th>\n",
       "      <td>2.6</td>\n",
       "      <td>0.0187</td>\n",
       "      <td>50.0</td>\n",
       "      <td>194.0</td>\n",
       "      <td>1.6</td>\n",
       "      <td>23.9</td>\n",
       "    </tr>\n",
       "    <tr>\n",
       "      <th>16</th>\n",
       "      <td>7.9</td>\n",
       "      <td>0.0156</td>\n",
       "      <td>100.0</td>\n",
       "      <td>493.0</td>\n",
       "      <td>3.2</td>\n",
       "      <td>60.5</td>\n",
       "    </tr>\n",
       "    <tr>\n",
       "      <th>17</th>\n",
       "      <td>10.5</td>\n",
       "      <td>0.0089</td>\n",
       "      <td>150.0</td>\n",
       "      <td>374.0</td>\n",
       "      <td>4.8</td>\n",
       "      <td>45.9</td>\n",
       "    </tr>\n",
       "    <tr>\n",
       "      <th>18</th>\n",
       "      <td>6.7</td>\n",
       "      <td>0.0180</td>\n",
       "      <td>50.0</td>\n",
       "      <td>482.0</td>\n",
       "      <td>1.6</td>\n",
       "      <td>59.2</td>\n",
       "    </tr>\n",
       "    <tr>\n",
       "      <th>19</th>\n",
       "      <td>9.1</td>\n",
       "      <td>0.0793</td>\n",
       "      <td>100.0</td>\n",
       "      <td>2887.0</td>\n",
       "      <td>3.5</td>\n",
       "      <td>354.3</td>\n",
       "    </tr>\n",
       "    <tr>\n",
       "      <th>20</th>\n",
       "      <td>2.9</td>\n",
       "      <td>0.0078</td>\n",
       "      <td>50.0</td>\n",
       "      <td>100.0</td>\n",
       "      <td>1.0</td>\n",
       "      <td>10.3</td>\n",
       "    </tr>\n",
       "  </tbody>\n",
       "</table>\n",
       "</div>\n",
       "      <button class=\"colab-df-convert\" onclick=\"convertToInteractive('df-b469d49e-ddb9-4f99-b2d3-588f86566024')\"\n",
       "              title=\"Convert this dataframe to an interactive table.\"\n",
       "              style=\"display:none;\">\n",
       "        \n",
       "  <svg xmlns=\"http://www.w3.org/2000/svg\" height=\"24px\"viewBox=\"0 0 24 24\"\n",
       "       width=\"24px\">\n",
       "    <path d=\"M0 0h24v24H0V0z\" fill=\"none\"/>\n",
       "    <path d=\"M18.56 5.44l.94 2.06.94-2.06 2.06-.94-2.06-.94-.94-2.06-.94 2.06-2.06.94zm-11 1L8.5 8.5l.94-2.06 2.06-.94-2.06-.94L8.5 2.5l-.94 2.06-2.06.94zm10 10l.94 2.06.94-2.06 2.06-.94-2.06-.94-.94-2.06-.94 2.06-2.06.94z\"/><path d=\"M17.41 7.96l-1.37-1.37c-.4-.4-.92-.59-1.43-.59-.52 0-1.04.2-1.43.59L10.3 9.45l-7.72 7.72c-.78.78-.78 2.05 0 2.83L4 21.41c.39.39.9.59 1.41.59.51 0 1.02-.2 1.41-.59l7.78-7.78 2.81-2.81c.8-.78.8-2.07 0-2.86zM5.41 20L4 18.59l7.72-7.72 1.47 1.35L5.41 20z\"/>\n",
       "  </svg>\n",
       "      </button>\n",
       "      \n",
       "  <style>\n",
       "    .colab-df-container {\n",
       "      display:flex;\n",
       "      flex-wrap:wrap;\n",
       "      gap: 12px;\n",
       "    }\n",
       "\n",
       "    .colab-df-convert {\n",
       "      background-color: #E8F0FE;\n",
       "      border: none;\n",
       "      border-radius: 50%;\n",
       "      cursor: pointer;\n",
       "      display: none;\n",
       "      fill: #1967D2;\n",
       "      height: 32px;\n",
       "      padding: 0 0 0 0;\n",
       "      width: 32px;\n",
       "    }\n",
       "\n",
       "    .colab-df-convert:hover {\n",
       "      background-color: #E2EBFA;\n",
       "      box-shadow: 0px 1px 2px rgba(60, 64, 67, 0.3), 0px 1px 3px 1px rgba(60, 64, 67, 0.15);\n",
       "      fill: #174EA6;\n",
       "    }\n",
       "\n",
       "    [theme=dark] .colab-df-convert {\n",
       "      background-color: #3B4455;\n",
       "      fill: #D2E3FC;\n",
       "    }\n",
       "\n",
       "    [theme=dark] .colab-df-convert:hover {\n",
       "      background-color: #434B5C;\n",
       "      box-shadow: 0px 1px 3px 1px rgba(0, 0, 0, 0.15);\n",
       "      filter: drop-shadow(0px 1px 2px rgba(0, 0, 0, 0.3));\n",
       "      fill: #FFFFFF;\n",
       "    }\n",
       "  </style>\n",
       "\n",
       "      <script>\n",
       "        const buttonEl =\n",
       "          document.querySelector('#df-b469d49e-ddb9-4f99-b2d3-588f86566024 button.colab-df-convert');\n",
       "        buttonEl.style.display =\n",
       "          google.colab.kernel.accessAllowed ? 'block' : 'none';\n",
       "\n",
       "        async function convertToInteractive(key) {\n",
       "          const element = document.querySelector('#df-b469d49e-ddb9-4f99-b2d3-588f86566024');\n",
       "          const dataTable =\n",
       "            await google.colab.kernel.invokeFunction('convertToInteractive',\n",
       "                                                     [key], {});\n",
       "          if (!dataTable) return;\n",
       "\n",
       "          const docLinkHtml = 'Like what you see? Visit the ' +\n",
       "            '<a target=\"_blank\" href=https://colab.research.google.com/notebooks/data_table.ipynb>data table notebook</a>'\n",
       "            + ' to learn more about interactive tables.';\n",
       "          element.innerHTML = '';\n",
       "          dataTable['output_type'] = 'display_data';\n",
       "          await google.colab.output.renderOutput(dataTable, element);\n",
       "          const docLink = document.createElement('div');\n",
       "          docLink.innerHTML = docLinkHtml;\n",
       "          element.appendChild(docLink);\n",
       "        }\n",
       "      </script>\n",
       "    </div>\n",
       "  </div>\n",
       "  "
      ],
      "text/plain": [
       "    Length    Area  Distance   Price  LCA_GWP  Weight\n",
       "0      3.6  0.0064      50.0    92.0      1.6    11.3\n",
       "1      6.9  0.0212     100.0   585.0      3.2    71.8\n",
       "2      5.0  0.0529     150.0  1058.0      4.9   129.9\n",
       "3      7.6  0.0080     100.0   243.0      3.2    29.9\n",
       "4      7.8  0.0425     150.0  1326.0      4.9   162.8\n",
       "5      1.7  0.0034     100.0    23.0      3.2     2.8\n",
       "6      1.1  0.0076     100.0    33.0      3.2     4.1\n",
       "7     10.2  0.0848     150.0  3460.0      5.1   424.7\n",
       "8      3.8  0.0411     100.0   625.0      3.2    76.7\n",
       "9      3.5  0.0256     150.0   358.0      4.8    44.0\n",
       "10    11.9  0.0892     100.0  4246.0      3.6   521.2\n",
       "11     6.1  0.0436     150.0  1064.0      4.9   130.6\n",
       "12    10.2  0.1029     150.0  4198.0      5.2   515.3\n",
       "13     6.2  0.0495     100.0  1228.0      3.3   150.7\n",
       "14     8.0  0.0208     150.0   666.0      4.8    81.7\n",
       "15     2.6  0.0187      50.0   194.0      1.6    23.9\n",
       "16     7.9  0.0156     100.0   493.0      3.2    60.5\n",
       "17    10.5  0.0089     150.0   374.0      4.8    45.9\n",
       "18     6.7  0.0180      50.0   482.0      1.6    59.2\n",
       "19     9.1  0.0793     100.0  2887.0      3.5   354.3\n",
       "20     2.9  0.0078      50.0   100.0      1.0    10.3"
      ]
     },
     "execution_count": 21,
     "metadata": {},
     "output_type": "execute_result"
    }
   ],
   "source": [
    "mock = pd.Series([2.9, 0.0078, 50, 100, 1, 10.3], index = supply.columns)\n",
    "supply = supply.append(mock, ignore_index=True)\n",
    "supply"
   ]
  },
  {
   "cell_type": "markdown",
   "metadata": {
    "id": "aERqGKb-zrih"
   },
   "source": [
    "Create mapping vector, where None means that no mapping was made and new element should be applied:"
   ]
  },
  {
   "cell_type": "code",
   "execution_count": null,
   "metadata": {
    "colab": {
     "base_uri": "https://localhost:8080/",
     "height": 206
    },
    "id": "8Yyb7d15zrKw",
    "outputId": "9bdab6fe-2c4e-4504-cf49-d012b52cb637"
   },
   "outputs": [
    {
     "data": {
      "text/html": [
       "\n",
       "  <div id=\"df-35cf8352-90ee-4736-bde4-1d748a7281ed\">\n",
       "    <div class=\"colab-df-container\">\n",
       "      <div>\n",
       "<style scoped>\n",
       "    .dataframe tbody tr th:only-of-type {\n",
       "        vertical-align: middle;\n",
       "    }\n",
       "\n",
       "    .dataframe tbody tr th {\n",
       "        vertical-align: top;\n",
       "    }\n",
       "\n",
       "    .dataframe thead th {\n",
       "        text-align: right;\n",
       "    }\n",
       "</style>\n",
       "<table border=\"1\" class=\"dataframe\">\n",
       "  <thead>\n",
       "    <tr style=\"text-align: right;\">\n",
       "      <th></th>\n",
       "      <th>supply_id</th>\n",
       "    </tr>\n",
       "  </thead>\n",
       "  <tbody>\n",
       "    <tr>\n",
       "      <th>0</th>\n",
       "      <td>NaN</td>\n",
       "    </tr>\n",
       "    <tr>\n",
       "      <th>1</th>\n",
       "      <td>NaN</td>\n",
       "    </tr>\n",
       "    <tr>\n",
       "      <th>2</th>\n",
       "      <td>NaN</td>\n",
       "    </tr>\n",
       "    <tr>\n",
       "      <th>3</th>\n",
       "      <td>NaN</td>\n",
       "    </tr>\n",
       "    <tr>\n",
       "      <th>4</th>\n",
       "      <td>NaN</td>\n",
       "    </tr>\n",
       "  </tbody>\n",
       "</table>\n",
       "</div>\n",
       "      <button class=\"colab-df-convert\" onclick=\"convertToInteractive('df-35cf8352-90ee-4736-bde4-1d748a7281ed')\"\n",
       "              title=\"Convert this dataframe to an interactive table.\"\n",
       "              style=\"display:none;\">\n",
       "        \n",
       "  <svg xmlns=\"http://www.w3.org/2000/svg\" height=\"24px\"viewBox=\"0 0 24 24\"\n",
       "       width=\"24px\">\n",
       "    <path d=\"M0 0h24v24H0V0z\" fill=\"none\"/>\n",
       "    <path d=\"M18.56 5.44l.94 2.06.94-2.06 2.06-.94-2.06-.94-.94-2.06-.94 2.06-2.06.94zm-11 1L8.5 8.5l.94-2.06 2.06-.94-2.06-.94L8.5 2.5l-.94 2.06-2.06.94zm10 10l.94 2.06.94-2.06 2.06-.94-2.06-.94-.94-2.06-.94 2.06-2.06.94z\"/><path d=\"M17.41 7.96l-1.37-1.37c-.4-.4-.92-.59-1.43-.59-.52 0-1.04.2-1.43.59L10.3 9.45l-7.72 7.72c-.78.78-.78 2.05 0 2.83L4 21.41c.39.39.9.59 1.41.59.51 0 1.02-.2 1.41-.59l7.78-7.78 2.81-2.81c.8-.78.8-2.07 0-2.86zM5.41 20L4 18.59l7.72-7.72 1.47 1.35L5.41 20z\"/>\n",
       "  </svg>\n",
       "      </button>\n",
       "      \n",
       "  <style>\n",
       "    .colab-df-container {\n",
       "      display:flex;\n",
       "      flex-wrap:wrap;\n",
       "      gap: 12px;\n",
       "    }\n",
       "\n",
       "    .colab-df-convert {\n",
       "      background-color: #E8F0FE;\n",
       "      border: none;\n",
       "      border-radius: 50%;\n",
       "      cursor: pointer;\n",
       "      display: none;\n",
       "      fill: #1967D2;\n",
       "      height: 32px;\n",
       "      padding: 0 0 0 0;\n",
       "      width: 32px;\n",
       "    }\n",
       "\n",
       "    .colab-df-convert:hover {\n",
       "      background-color: #E2EBFA;\n",
       "      box-shadow: 0px 1px 2px rgba(60, 64, 67, 0.3), 0px 1px 3px 1px rgba(60, 64, 67, 0.15);\n",
       "      fill: #174EA6;\n",
       "    }\n",
       "\n",
       "    [theme=dark] .colab-df-convert {\n",
       "      background-color: #3B4455;\n",
       "      fill: #D2E3FC;\n",
       "    }\n",
       "\n",
       "    [theme=dark] .colab-df-convert:hover {\n",
       "      background-color: #434B5C;\n",
       "      box-shadow: 0px 1px 3px 1px rgba(0, 0, 0, 0.15);\n",
       "      filter: drop-shadow(0px 1px 2px rgba(0, 0, 0, 0.3));\n",
       "      fill: #FFFFFF;\n",
       "    }\n",
       "  </style>\n",
       "\n",
       "      <script>\n",
       "        const buttonEl =\n",
       "          document.querySelector('#df-35cf8352-90ee-4736-bde4-1d748a7281ed button.colab-df-convert');\n",
       "        buttonEl.style.display =\n",
       "          google.colab.kernel.accessAllowed ? 'block' : 'none';\n",
       "\n",
       "        async function convertToInteractive(key) {\n",
       "          const element = document.querySelector('#df-35cf8352-90ee-4736-bde4-1d748a7281ed');\n",
       "          const dataTable =\n",
       "            await google.colab.kernel.invokeFunction('convertToInteractive',\n",
       "                                                     [key], {});\n",
       "          if (!dataTable) return;\n",
       "\n",
       "          const docLinkHtml = 'Like what you see? Visit the ' +\n",
       "            '<a target=\"_blank\" href=https://colab.research.google.com/notebooks/data_table.ipynb>data table notebook</a>'\n",
       "            + ' to learn more about interactive tables.';\n",
       "          element.innerHTML = '';\n",
       "          dataTable['output_type'] = 'display_data';\n",
       "          await google.colab.output.renderOutput(dataTable, element);\n",
       "          const docLink = document.createElement('div');\n",
       "          docLink.innerHTML = docLinkHtml;\n",
       "          element.appendChild(docLink);\n",
       "        }\n",
       "      </script>\n",
       "    </div>\n",
       "  </div>\n",
       "  "
      ],
      "text/plain": [
       "  supply_id\n",
       "0       NaN\n",
       "1       NaN\n",
       "2       NaN\n",
       "3       NaN\n",
       "4       NaN"
      ]
     },
     "execution_count": 22,
     "metadata": {},
     "output_type": "execute_result"
    }
   ],
   "source": [
    "# zero's matrix:\n",
    "mapping = pd.DataFrame(None, index=demand.index.values.tolist() , columns=['supply_id'] )\n",
    "mapping"
   ]
  },
  {
   "cell_type": "markdown",
   "metadata": {
    "id": "oFWwgtGIbArI"
   },
   "source": [
    "Create fitness matrix with 1's if MB element satisfies minimum length and area criteria."
   ]
  },
  {
   "cell_type": "code",
   "execution_count": null,
   "metadata": {
    "colab": {
     "base_uri": "https://localhost:8080/",
     "height": 235
    },
    "id": "vxkTP8TgbBn9",
    "outputId": "fb2f5045-0799-4895-d22a-47f02e9668d9"
   },
   "outputs": [
    {
     "data": {
      "text/html": [
       "\n",
       "  <div id=\"df-d814f3b3-a5db-46b0-9600-bde7f78e612b\">\n",
       "    <div class=\"colab-df-container\">\n",
       "      <div>\n",
       "<style scoped>\n",
       "    .dataframe tbody tr th:only-of-type {\n",
       "        vertical-align: middle;\n",
       "    }\n",
       "\n",
       "    .dataframe tbody tr th {\n",
       "        vertical-align: top;\n",
       "    }\n",
       "\n",
       "    .dataframe thead th {\n",
       "        text-align: right;\n",
       "    }\n",
       "</style>\n",
       "<table border=\"1\" class=\"dataframe\">\n",
       "  <thead>\n",
       "    <tr style=\"text-align: right;\">\n",
       "      <th></th>\n",
       "      <th>0</th>\n",
       "      <th>1</th>\n",
       "      <th>2</th>\n",
       "      <th>3</th>\n",
       "      <th>4</th>\n",
       "      <th>5</th>\n",
       "      <th>6</th>\n",
       "      <th>7</th>\n",
       "      <th>8</th>\n",
       "      <th>9</th>\n",
       "      <th>...</th>\n",
       "      <th>11</th>\n",
       "      <th>12</th>\n",
       "      <th>13</th>\n",
       "      <th>14</th>\n",
       "      <th>15</th>\n",
       "      <th>16</th>\n",
       "      <th>17</th>\n",
       "      <th>18</th>\n",
       "      <th>19</th>\n",
       "      <th>20</th>\n",
       "    </tr>\n",
       "  </thead>\n",
       "  <tbody>\n",
       "    <tr>\n",
       "      <th>0</th>\n",
       "      <td>NaN</td>\n",
       "      <td>NaN</td>\n",
       "      <td>NaN</td>\n",
       "      <td>NaN</td>\n",
       "      <td>NaN</td>\n",
       "      <td>NaN</td>\n",
       "      <td>NaN</td>\n",
       "      <td>NaN</td>\n",
       "      <td>NaN</td>\n",
       "      <td>NaN</td>\n",
       "      <td>...</td>\n",
       "      <td>NaN</td>\n",
       "      <td>1.0</td>\n",
       "      <td>NaN</td>\n",
       "      <td>NaN</td>\n",
       "      <td>NaN</td>\n",
       "      <td>NaN</td>\n",
       "      <td>NaN</td>\n",
       "      <td>NaN</td>\n",
       "      <td>NaN</td>\n",
       "      <td>NaN</td>\n",
       "    </tr>\n",
       "    <tr>\n",
       "      <th>1</th>\n",
       "      <td>NaN</td>\n",
       "      <td>NaN</td>\n",
       "      <td>NaN</td>\n",
       "      <td>NaN</td>\n",
       "      <td>NaN</td>\n",
       "      <td>NaN</td>\n",
       "      <td>NaN</td>\n",
       "      <td>1.0</td>\n",
       "      <td>NaN</td>\n",
       "      <td>NaN</td>\n",
       "      <td>...</td>\n",
       "      <td>NaN</td>\n",
       "      <td>1.0</td>\n",
       "      <td>NaN</td>\n",
       "      <td>NaN</td>\n",
       "      <td>NaN</td>\n",
       "      <td>NaN</td>\n",
       "      <td>NaN</td>\n",
       "      <td>NaN</td>\n",
       "      <td>1.0</td>\n",
       "      <td>NaN</td>\n",
       "    </tr>\n",
       "    <tr>\n",
       "      <th>2</th>\n",
       "      <td>NaN</td>\n",
       "      <td>1.0</td>\n",
       "      <td>1.0</td>\n",
       "      <td>1.0</td>\n",
       "      <td>1.0</td>\n",
       "      <td>NaN</td>\n",
       "      <td>NaN</td>\n",
       "      <td>1.0</td>\n",
       "      <td>1.0</td>\n",
       "      <td>1.0</td>\n",
       "      <td>...</td>\n",
       "      <td>1.0</td>\n",
       "      <td>1.0</td>\n",
       "      <td>1.0</td>\n",
       "      <td>1.0</td>\n",
       "      <td>NaN</td>\n",
       "      <td>1.0</td>\n",
       "      <td>1.0</td>\n",
       "      <td>1.0</td>\n",
       "      <td>1.0</td>\n",
       "      <td>1.0</td>\n",
       "    </tr>\n",
       "    <tr>\n",
       "      <th>3</th>\n",
       "      <td>NaN</td>\n",
       "      <td>NaN</td>\n",
       "      <td>NaN</td>\n",
       "      <td>NaN</td>\n",
       "      <td>NaN</td>\n",
       "      <td>NaN</td>\n",
       "      <td>NaN</td>\n",
       "      <td>1.0</td>\n",
       "      <td>NaN</td>\n",
       "      <td>NaN</td>\n",
       "      <td>...</td>\n",
       "      <td>NaN</td>\n",
       "      <td>1.0</td>\n",
       "      <td>NaN</td>\n",
       "      <td>NaN</td>\n",
       "      <td>NaN</td>\n",
       "      <td>NaN</td>\n",
       "      <td>NaN</td>\n",
       "      <td>NaN</td>\n",
       "      <td>1.0</td>\n",
       "      <td>NaN</td>\n",
       "    </tr>\n",
       "    <tr>\n",
       "      <th>4</th>\n",
       "      <td>NaN</td>\n",
       "      <td>NaN</td>\n",
       "      <td>NaN</td>\n",
       "      <td>NaN</td>\n",
       "      <td>NaN</td>\n",
       "      <td>NaN</td>\n",
       "      <td>NaN</td>\n",
       "      <td>NaN</td>\n",
       "      <td>NaN</td>\n",
       "      <td>NaN</td>\n",
       "      <td>...</td>\n",
       "      <td>NaN</td>\n",
       "      <td>1.0</td>\n",
       "      <td>NaN</td>\n",
       "      <td>NaN</td>\n",
       "      <td>NaN</td>\n",
       "      <td>NaN</td>\n",
       "      <td>NaN</td>\n",
       "      <td>NaN</td>\n",
       "      <td>NaN</td>\n",
       "      <td>NaN</td>\n",
       "    </tr>\n",
       "  </tbody>\n",
       "</table>\n",
       "<p>5 rows × 21 columns</p>\n",
       "</div>\n",
       "      <button class=\"colab-df-convert\" onclick=\"convertToInteractive('df-d814f3b3-a5db-46b0-9600-bde7f78e612b')\"\n",
       "              title=\"Convert this dataframe to an interactive table.\"\n",
       "              style=\"display:none;\">\n",
       "        \n",
       "  <svg xmlns=\"http://www.w3.org/2000/svg\" height=\"24px\"viewBox=\"0 0 24 24\"\n",
       "       width=\"24px\">\n",
       "    <path d=\"M0 0h24v24H0V0z\" fill=\"none\"/>\n",
       "    <path d=\"M18.56 5.44l.94 2.06.94-2.06 2.06-.94-2.06-.94-.94-2.06-.94 2.06-2.06.94zm-11 1L8.5 8.5l.94-2.06 2.06-.94-2.06-.94L8.5 2.5l-.94 2.06-2.06.94zm10 10l.94 2.06.94-2.06 2.06-.94-2.06-.94-.94-2.06-.94 2.06-2.06.94z\"/><path d=\"M17.41 7.96l-1.37-1.37c-.4-.4-.92-.59-1.43-.59-.52 0-1.04.2-1.43.59L10.3 9.45l-7.72 7.72c-.78.78-.78 2.05 0 2.83L4 21.41c.39.39.9.59 1.41.59.51 0 1.02-.2 1.41-.59l7.78-7.78 2.81-2.81c.8-.78.8-2.07 0-2.86zM5.41 20L4 18.59l7.72-7.72 1.47 1.35L5.41 20z\"/>\n",
       "  </svg>\n",
       "      </button>\n",
       "      \n",
       "  <style>\n",
       "    .colab-df-container {\n",
       "      display:flex;\n",
       "      flex-wrap:wrap;\n",
       "      gap: 12px;\n",
       "    }\n",
       "\n",
       "    .colab-df-convert {\n",
       "      background-color: #E8F0FE;\n",
       "      border: none;\n",
       "      border-radius: 50%;\n",
       "      cursor: pointer;\n",
       "      display: none;\n",
       "      fill: #1967D2;\n",
       "      height: 32px;\n",
       "      padding: 0 0 0 0;\n",
       "      width: 32px;\n",
       "    }\n",
       "\n",
       "    .colab-df-convert:hover {\n",
       "      background-color: #E2EBFA;\n",
       "      box-shadow: 0px 1px 2px rgba(60, 64, 67, 0.3), 0px 1px 3px 1px rgba(60, 64, 67, 0.15);\n",
       "      fill: #174EA6;\n",
       "    }\n",
       "\n",
       "    [theme=dark] .colab-df-convert {\n",
       "      background-color: #3B4455;\n",
       "      fill: #D2E3FC;\n",
       "    }\n",
       "\n",
       "    [theme=dark] .colab-df-convert:hover {\n",
       "      background-color: #434B5C;\n",
       "      box-shadow: 0px 1px 3px 1px rgba(0, 0, 0, 0.15);\n",
       "      filter: drop-shadow(0px 1px 2px rgba(0, 0, 0, 0.3));\n",
       "      fill: #FFFFFF;\n",
       "    }\n",
       "  </style>\n",
       "\n",
       "      <script>\n",
       "        const buttonEl =\n",
       "          document.querySelector('#df-d814f3b3-a5db-46b0-9600-bde7f78e612b button.colab-df-convert');\n",
       "        buttonEl.style.display =\n",
       "          google.colab.kernel.accessAllowed ? 'block' : 'none';\n",
       "\n",
       "        async function convertToInteractive(key) {\n",
       "          const element = document.querySelector('#df-d814f3b3-a5db-46b0-9600-bde7f78e612b');\n",
       "          const dataTable =\n",
       "            await google.colab.kernel.invokeFunction('convertToInteractive',\n",
       "                                                     [key], {});\n",
       "          if (!dataTable) return;\n",
       "\n",
       "          const docLinkHtml = 'Like what you see? Visit the ' +\n",
       "            '<a target=\"_blank\" href=https://colab.research.google.com/notebooks/data_table.ipynb>data table notebook</a>'\n",
       "            + ' to learn more about interactive tables.';\n",
       "          element.innerHTML = '';\n",
       "          dataTable['output_type'] = 'display_data';\n",
       "          await google.colab.output.renderOutput(dataTable, element);\n",
       "          const docLink = document.createElement('div');\n",
       "          docLink.innerHTML = docLinkHtml;\n",
       "          element.appendChild(docLink);\n",
       "        }\n",
       "      </script>\n",
       "    </div>\n",
       "  </div>\n",
       "  "
      ],
      "text/plain": [
       "   0    1    2    3    4   5   6    7    8    9   ...   11   12   13   14  15  \\\n",
       "0 NaN  NaN  NaN  NaN  NaN NaN NaN  NaN  NaN  NaN  ...  NaN  1.0  NaN  NaN NaN   \n",
       "1 NaN  NaN  NaN  NaN  NaN NaN NaN  1.0  NaN  NaN  ...  NaN  1.0  NaN  NaN NaN   \n",
       "2 NaN  1.0  1.0  1.0  1.0 NaN NaN  1.0  1.0  1.0  ...  1.0  1.0  1.0  1.0 NaN   \n",
       "3 NaN  NaN  NaN  NaN  NaN NaN NaN  1.0  NaN  NaN  ...  NaN  1.0  NaN  NaN NaN   \n",
       "4 NaN  NaN  NaN  NaN  NaN NaN NaN  NaN  NaN  NaN  ...  NaN  1.0  NaN  NaN NaN   \n",
       "\n",
       "    16   17   18   19   20  \n",
       "0  NaN  NaN  NaN  NaN  NaN  \n",
       "1  NaN  NaN  NaN  1.0  NaN  \n",
       "2  1.0  1.0  1.0  1.0  1.0  \n",
       "3  NaN  NaN  NaN  1.0  NaN  \n",
       "4  NaN  NaN  NaN  NaN  NaN  \n",
       "\n",
       "[5 rows x 21 columns]"
      ]
     },
     "execution_count": 23,
     "metadata": {},
     "output_type": "execute_result"
    }
   ],
   "source": [
    "# zero's matrix:\n",
    "m_geometry = pd.DataFrame(np.nan, index=demand.index.values.tolist() , columns=supply.index.values.tolist() )\n",
    "\n",
    "# assign 1 when length pass the criteria: \n",
    "for i in range(m_geometry.shape[0]):\n",
    "    for j in range(m_geometry.shape[1]):\n",
    "        if demand.loc[i]['Length'] <= supply.loc[j]['Length'] and demand.loc[i]['Area'] <= supply.loc[j]['Area']:\n",
    "          m_geometry.iloc[i,j] = 1\n",
    "\n",
    "m_geometry"
   ]
  },
  {
   "cell_type": "markdown",
   "metadata": {
    "id": "Sj2SOW9qdQPK"
   },
   "source": [
    "Eliminate rows with no match (meaning, that demand has element longer than longest in supply):"
   ]
  },
  {
   "cell_type": "code",
   "execution_count": null,
   "metadata": {
    "colab": {
     "base_uri": "https://localhost:8080/"
    },
    "id": "mAyIfoLJdQW8",
    "outputId": "16c16569-752c-4802-8009-fa384868681c"
   },
   "outputs": [
    {
     "name": "stdout",
     "output_type": "stream",
     "text": [
      "Eliminated 0 elements from the new design (matrix rows), for which no good match was found in the supply.\n"
     ]
    }
   ],
   "source": [
    "m_geometry.drop(m_geometry[m_geometry.sum(axis=1) == 0].index, inplace=True)\n",
    "print(f\"Eliminated {demand.shape[0] -  m_geometry.shape[0]} elements from the new design (matrix rows), for which no good match was found in the supply.\")"
   ]
  },
  {
   "cell_type": "markdown",
   "metadata": {
    "id": "plpBLiYtK8p7"
   },
   "source": [
    "Eliminate columns with no match (meaning that there are elements in supply shorter than shortest in demand):"
   ]
  },
  {
   "cell_type": "code",
   "execution_count": null,
   "metadata": {
    "colab": {
     "base_uri": "https://localhost:8080/",
     "height": 224
    },
    "id": "35M1TU07K8vY",
    "outputId": "2570f2d7-9417-4f4d-fdf0-9be5fe1e301f"
   },
   "outputs": [
    {
     "name": "stdout",
     "output_type": "stream",
     "text": [
      "Eliminated 4 elements from the supply (matrix columns), that were shorter than needed.\n"
     ]
    },
    {
     "data": {
      "text/html": [
       "\n",
       "  <div id=\"df-6a6542f1-3a01-4ae6-b6ab-09c82ff0b6af\">\n",
       "    <div class=\"colab-df-container\">\n",
       "      <div>\n",
       "<style scoped>\n",
       "    .dataframe tbody tr th:only-of-type {\n",
       "        vertical-align: middle;\n",
       "    }\n",
       "\n",
       "    .dataframe tbody tr th {\n",
       "        vertical-align: top;\n",
       "    }\n",
       "\n",
       "    .dataframe thead th {\n",
       "        text-align: right;\n",
       "    }\n",
       "</style>\n",
       "<table border=\"1\" class=\"dataframe\">\n",
       "  <thead>\n",
       "    <tr style=\"text-align: right;\">\n",
       "      <th></th>\n",
       "      <th>1</th>\n",
       "      <th>2</th>\n",
       "      <th>3</th>\n",
       "      <th>4</th>\n",
       "      <th>7</th>\n",
       "      <th>8</th>\n",
       "      <th>9</th>\n",
       "      <th>10</th>\n",
       "      <th>11</th>\n",
       "      <th>12</th>\n",
       "      <th>13</th>\n",
       "      <th>14</th>\n",
       "      <th>16</th>\n",
       "      <th>17</th>\n",
       "      <th>18</th>\n",
       "      <th>19</th>\n",
       "      <th>20</th>\n",
       "    </tr>\n",
       "  </thead>\n",
       "  <tbody>\n",
       "    <tr>\n",
       "      <th>0</th>\n",
       "      <td>NaN</td>\n",
       "      <td>NaN</td>\n",
       "      <td>NaN</td>\n",
       "      <td>NaN</td>\n",
       "      <td>NaN</td>\n",
       "      <td>NaN</td>\n",
       "      <td>NaN</td>\n",
       "      <td>NaN</td>\n",
       "      <td>NaN</td>\n",
       "      <td>1.0</td>\n",
       "      <td>NaN</td>\n",
       "      <td>NaN</td>\n",
       "      <td>NaN</td>\n",
       "      <td>NaN</td>\n",
       "      <td>NaN</td>\n",
       "      <td>NaN</td>\n",
       "      <td>NaN</td>\n",
       "    </tr>\n",
       "    <tr>\n",
       "      <th>1</th>\n",
       "      <td>NaN</td>\n",
       "      <td>NaN</td>\n",
       "      <td>NaN</td>\n",
       "      <td>NaN</td>\n",
       "      <td>1.0</td>\n",
       "      <td>NaN</td>\n",
       "      <td>NaN</td>\n",
       "      <td>1.0</td>\n",
       "      <td>NaN</td>\n",
       "      <td>1.0</td>\n",
       "      <td>NaN</td>\n",
       "      <td>NaN</td>\n",
       "      <td>NaN</td>\n",
       "      <td>NaN</td>\n",
       "      <td>NaN</td>\n",
       "      <td>1.0</td>\n",
       "      <td>NaN</td>\n",
       "    </tr>\n",
       "    <tr>\n",
       "      <th>2</th>\n",
       "      <td>1.0</td>\n",
       "      <td>1.0</td>\n",
       "      <td>1.0</td>\n",
       "      <td>1.0</td>\n",
       "      <td>1.0</td>\n",
       "      <td>1.0</td>\n",
       "      <td>1.0</td>\n",
       "      <td>1.0</td>\n",
       "      <td>1.0</td>\n",
       "      <td>1.0</td>\n",
       "      <td>1.0</td>\n",
       "      <td>1.0</td>\n",
       "      <td>1.0</td>\n",
       "      <td>1.0</td>\n",
       "      <td>1.0</td>\n",
       "      <td>1.0</td>\n",
       "      <td>1.0</td>\n",
       "    </tr>\n",
       "    <tr>\n",
       "      <th>3</th>\n",
       "      <td>NaN</td>\n",
       "      <td>NaN</td>\n",
       "      <td>NaN</td>\n",
       "      <td>NaN</td>\n",
       "      <td>1.0</td>\n",
       "      <td>NaN</td>\n",
       "      <td>NaN</td>\n",
       "      <td>1.0</td>\n",
       "      <td>NaN</td>\n",
       "      <td>1.0</td>\n",
       "      <td>NaN</td>\n",
       "      <td>NaN</td>\n",
       "      <td>NaN</td>\n",
       "      <td>NaN</td>\n",
       "      <td>NaN</td>\n",
       "      <td>1.0</td>\n",
       "      <td>NaN</td>\n",
       "    </tr>\n",
       "    <tr>\n",
       "      <th>4</th>\n",
       "      <td>NaN</td>\n",
       "      <td>NaN</td>\n",
       "      <td>NaN</td>\n",
       "      <td>NaN</td>\n",
       "      <td>NaN</td>\n",
       "      <td>NaN</td>\n",
       "      <td>NaN</td>\n",
       "      <td>NaN</td>\n",
       "      <td>NaN</td>\n",
       "      <td>1.0</td>\n",
       "      <td>NaN</td>\n",
       "      <td>NaN</td>\n",
       "      <td>NaN</td>\n",
       "      <td>NaN</td>\n",
       "      <td>NaN</td>\n",
       "      <td>NaN</td>\n",
       "      <td>NaN</td>\n",
       "    </tr>\n",
       "  </tbody>\n",
       "</table>\n",
       "</div>\n",
       "      <button class=\"colab-df-convert\" onclick=\"convertToInteractive('df-6a6542f1-3a01-4ae6-b6ab-09c82ff0b6af')\"\n",
       "              title=\"Convert this dataframe to an interactive table.\"\n",
       "              style=\"display:none;\">\n",
       "        \n",
       "  <svg xmlns=\"http://www.w3.org/2000/svg\" height=\"24px\"viewBox=\"0 0 24 24\"\n",
       "       width=\"24px\">\n",
       "    <path d=\"M0 0h24v24H0V0z\" fill=\"none\"/>\n",
       "    <path d=\"M18.56 5.44l.94 2.06.94-2.06 2.06-.94-2.06-.94-.94-2.06-.94 2.06-2.06.94zm-11 1L8.5 8.5l.94-2.06 2.06-.94-2.06-.94L8.5 2.5l-.94 2.06-2.06.94zm10 10l.94 2.06.94-2.06 2.06-.94-2.06-.94-.94-2.06-.94 2.06-2.06.94z\"/><path d=\"M17.41 7.96l-1.37-1.37c-.4-.4-.92-.59-1.43-.59-.52 0-1.04.2-1.43.59L10.3 9.45l-7.72 7.72c-.78.78-.78 2.05 0 2.83L4 21.41c.39.39.9.59 1.41.59.51 0 1.02-.2 1.41-.59l7.78-7.78 2.81-2.81c.8-.78.8-2.07 0-2.86zM5.41 20L4 18.59l7.72-7.72 1.47 1.35L5.41 20z\"/>\n",
       "  </svg>\n",
       "      </button>\n",
       "      \n",
       "  <style>\n",
       "    .colab-df-container {\n",
       "      display:flex;\n",
       "      flex-wrap:wrap;\n",
       "      gap: 12px;\n",
       "    }\n",
       "\n",
       "    .colab-df-convert {\n",
       "      background-color: #E8F0FE;\n",
       "      border: none;\n",
       "      border-radius: 50%;\n",
       "      cursor: pointer;\n",
       "      display: none;\n",
       "      fill: #1967D2;\n",
       "      height: 32px;\n",
       "      padding: 0 0 0 0;\n",
       "      width: 32px;\n",
       "    }\n",
       "\n",
       "    .colab-df-convert:hover {\n",
       "      background-color: #E2EBFA;\n",
       "      box-shadow: 0px 1px 2px rgba(60, 64, 67, 0.3), 0px 1px 3px 1px rgba(60, 64, 67, 0.15);\n",
       "      fill: #174EA6;\n",
       "    }\n",
       "\n",
       "    [theme=dark] .colab-df-convert {\n",
       "      background-color: #3B4455;\n",
       "      fill: #D2E3FC;\n",
       "    }\n",
       "\n",
       "    [theme=dark] .colab-df-convert:hover {\n",
       "      background-color: #434B5C;\n",
       "      box-shadow: 0px 1px 3px 1px rgba(0, 0, 0, 0.15);\n",
       "      filter: drop-shadow(0px 1px 2px rgba(0, 0, 0, 0.3));\n",
       "      fill: #FFFFFF;\n",
       "    }\n",
       "  </style>\n",
       "\n",
       "      <script>\n",
       "        const buttonEl =\n",
       "          document.querySelector('#df-6a6542f1-3a01-4ae6-b6ab-09c82ff0b6af button.colab-df-convert');\n",
       "        buttonEl.style.display =\n",
       "          google.colab.kernel.accessAllowed ? 'block' : 'none';\n",
       "\n",
       "        async function convertToInteractive(key) {\n",
       "          const element = document.querySelector('#df-6a6542f1-3a01-4ae6-b6ab-09c82ff0b6af');\n",
       "          const dataTable =\n",
       "            await google.colab.kernel.invokeFunction('convertToInteractive',\n",
       "                                                     [key], {});\n",
       "          if (!dataTable) return;\n",
       "\n",
       "          const docLinkHtml = 'Like what you see? Visit the ' +\n",
       "            '<a target=\"_blank\" href=https://colab.research.google.com/notebooks/data_table.ipynb>data table notebook</a>'\n",
       "            + ' to learn more about interactive tables.';\n",
       "          element.innerHTML = '';\n",
       "          dataTable['output_type'] = 'display_data';\n",
       "          await google.colab.output.renderOutput(dataTable, element);\n",
       "          const docLink = document.createElement('div');\n",
       "          docLink.innerHTML = docLinkHtml;\n",
       "          element.appendChild(docLink);\n",
       "        }\n",
       "      </script>\n",
       "    </div>\n",
       "  </div>\n",
       "  "
      ],
      "text/plain": [
       "    1    2    3    4    7    8    9    10   11   12   13   14   16   17   18  \\\n",
       "0  NaN  NaN  NaN  NaN  NaN  NaN  NaN  NaN  NaN  1.0  NaN  NaN  NaN  NaN  NaN   \n",
       "1  NaN  NaN  NaN  NaN  1.0  NaN  NaN  1.0  NaN  1.0  NaN  NaN  NaN  NaN  NaN   \n",
       "2  1.0  1.0  1.0  1.0  1.0  1.0  1.0  1.0  1.0  1.0  1.0  1.0  1.0  1.0  1.0   \n",
       "3  NaN  NaN  NaN  NaN  1.0  NaN  NaN  1.0  NaN  1.0  NaN  NaN  NaN  NaN  NaN   \n",
       "4  NaN  NaN  NaN  NaN  NaN  NaN  NaN  NaN  NaN  1.0  NaN  NaN  NaN  NaN  NaN   \n",
       "\n",
       "    19   20  \n",
       "0  NaN  NaN  \n",
       "1  1.0  NaN  \n",
       "2  1.0  1.0  \n",
       "3  1.0  NaN  \n",
       "4  NaN  NaN  "
      ]
     },
     "execution_count": 25,
     "metadata": {},
     "output_type": "execute_result"
    }
   ],
   "source": [
    "m_geometry.drop(m_geometry.columns[m_geometry.sum() == 0], axis=1, inplace=True)\n",
    "print(f\"Eliminated {supply.shape[0] -  m_geometry.shape[1]} elements from the supply (matrix columns), that were shorter than needed.\")\n",
    "\n",
    "m_geometry"
   ]
  },
  {
   "cell_type": "markdown",
   "metadata": {
    "id": "ZQ5x6KorrevC"
   },
   "source": [
    "For the remaining elements with 1 in the fittness matrix, we need to calculate waste:"
   ]
  },
  {
   "cell_type": "code",
   "execution_count": null,
   "metadata": {
    "colab": {
     "base_uri": "https://localhost:8080/",
     "height": 206
    },
    "id": "6VzzsICGre09",
    "outputId": "bba16ae5-c997-4a94-9f28-9222f6b1f501"
   },
   "outputs": [
    {
     "data": {
      "text/html": [
       "\n",
       "  <div id=\"df-3f20d3f8-ee89-4138-91a4-3171555c4d8e\">\n",
       "    <div class=\"colab-df-container\">\n",
       "      <div>\n",
       "<style scoped>\n",
       "    .dataframe tbody tr th:only-of-type {\n",
       "        vertical-align: middle;\n",
       "    }\n",
       "\n",
       "    .dataframe tbody tr th {\n",
       "        vertical-align: top;\n",
       "    }\n",
       "\n",
       "    .dataframe thead th {\n",
       "        text-align: right;\n",
       "    }\n",
       "</style>\n",
       "<table border=\"1\" class=\"dataframe\">\n",
       "  <thead>\n",
       "    <tr style=\"text-align: right;\">\n",
       "      <th></th>\n",
       "      <th>1</th>\n",
       "      <th>2</th>\n",
       "      <th>3</th>\n",
       "      <th>4</th>\n",
       "      <th>7</th>\n",
       "      <th>8</th>\n",
       "      <th>9</th>\n",
       "      <th>10</th>\n",
       "      <th>11</th>\n",
       "      <th>12</th>\n",
       "      <th>13</th>\n",
       "      <th>14</th>\n",
       "      <th>16</th>\n",
       "      <th>17</th>\n",
       "      <th>18</th>\n",
       "      <th>19</th>\n",
       "      <th>20</th>\n",
       "    </tr>\n",
       "  </thead>\n",
       "  <tbody>\n",
       "    <tr>\n",
       "      <th>0</th>\n",
       "      <td>NaN</td>\n",
       "      <td>NaN</td>\n",
       "      <td>NaN</td>\n",
       "      <td>NaN</td>\n",
       "      <td>NaN</td>\n",
       "      <td>NaN</td>\n",
       "      <td>NaN</td>\n",
       "      <td>NaN</td>\n",
       "      <td>NaN</td>\n",
       "      <td>0.031</td>\n",
       "      <td>NaN</td>\n",
       "      <td>NaN</td>\n",
       "      <td>NaN</td>\n",
       "      <td>NaN</td>\n",
       "      <td>NaN</td>\n",
       "      <td>NaN</td>\n",
       "      <td>NaN</td>\n",
       "    </tr>\n",
       "    <tr>\n",
       "      <th>1</th>\n",
       "      <td>NaN</td>\n",
       "      <td>NaN</td>\n",
       "      <td>NaN</td>\n",
       "      <td>NaN</td>\n",
       "      <td>0.254</td>\n",
       "      <td>NaN</td>\n",
       "      <td>NaN</td>\n",
       "      <td>NaN</td>\n",
       "      <td>NaN</td>\n",
       "      <td>NaN</td>\n",
       "      <td>NaN</td>\n",
       "      <td>NaN</td>\n",
       "      <td>NaN</td>\n",
       "      <td>NaN</td>\n",
       "      <td>NaN</td>\n",
       "      <td>0.151</td>\n",
       "      <td>NaN</td>\n",
       "    </tr>\n",
       "    <tr>\n",
       "      <th>2</th>\n",
       "      <td>NaN</td>\n",
       "      <td>NaN</td>\n",
       "      <td>NaN</td>\n",
       "      <td>NaN</td>\n",
       "      <td>NaN</td>\n",
       "      <td>NaN</td>\n",
       "      <td>NaN</td>\n",
       "      <td>NaN</td>\n",
       "      <td>NaN</td>\n",
       "      <td>NaN</td>\n",
       "      <td>NaN</td>\n",
       "      <td>NaN</td>\n",
       "      <td>NaN</td>\n",
       "      <td>NaN</td>\n",
       "      <td>NaN</td>\n",
       "      <td>NaN</td>\n",
       "      <td>0.001</td>\n",
       "    </tr>\n",
       "    <tr>\n",
       "      <th>3</th>\n",
       "      <td>NaN</td>\n",
       "      <td>NaN</td>\n",
       "      <td>NaN</td>\n",
       "      <td>NaN</td>\n",
       "      <td>NaN</td>\n",
       "      <td>NaN</td>\n",
       "      <td>NaN</td>\n",
       "      <td>NaN</td>\n",
       "      <td>NaN</td>\n",
       "      <td>NaN</td>\n",
       "      <td>NaN</td>\n",
       "      <td>NaN</td>\n",
       "      <td>NaN</td>\n",
       "      <td>NaN</td>\n",
       "      <td>NaN</td>\n",
       "      <td>NaN</td>\n",
       "      <td>NaN</td>\n",
       "    </tr>\n",
       "    <tr>\n",
       "      <th>4</th>\n",
       "      <td>NaN</td>\n",
       "      <td>NaN</td>\n",
       "      <td>NaN</td>\n",
       "      <td>NaN</td>\n",
       "      <td>NaN</td>\n",
       "      <td>NaN</td>\n",
       "      <td>NaN</td>\n",
       "      <td>NaN</td>\n",
       "      <td>NaN</td>\n",
       "      <td>0.062</td>\n",
       "      <td>NaN</td>\n",
       "      <td>NaN</td>\n",
       "      <td>NaN</td>\n",
       "      <td>NaN</td>\n",
       "      <td>NaN</td>\n",
       "      <td>NaN</td>\n",
       "      <td>NaN</td>\n",
       "    </tr>\n",
       "  </tbody>\n",
       "</table>\n",
       "</div>\n",
       "      <button class=\"colab-df-convert\" onclick=\"convertToInteractive('df-3f20d3f8-ee89-4138-91a4-3171555c4d8e')\"\n",
       "              title=\"Convert this dataframe to an interactive table.\"\n",
       "              style=\"display:none;\">\n",
       "        \n",
       "  <svg xmlns=\"http://www.w3.org/2000/svg\" height=\"24px\"viewBox=\"0 0 24 24\"\n",
       "       width=\"24px\">\n",
       "    <path d=\"M0 0h24v24H0V0z\" fill=\"none\"/>\n",
       "    <path d=\"M18.56 5.44l.94 2.06.94-2.06 2.06-.94-2.06-.94-.94-2.06-.94 2.06-2.06.94zm-11 1L8.5 8.5l.94-2.06 2.06-.94-2.06-.94L8.5 2.5l-.94 2.06-2.06.94zm10 10l.94 2.06.94-2.06 2.06-.94-2.06-.94-.94-2.06-.94 2.06-2.06.94z\"/><path d=\"M17.41 7.96l-1.37-1.37c-.4-.4-.92-.59-1.43-.59-.52 0-1.04.2-1.43.59L10.3 9.45l-7.72 7.72c-.78.78-.78 2.05 0 2.83L4 21.41c.39.39.9.59 1.41.59.51 0 1.02-.2 1.41-.59l7.78-7.78 2.81-2.81c.8-.78.8-2.07 0-2.86zM5.41 20L4 18.59l7.72-7.72 1.47 1.35L5.41 20z\"/>\n",
       "  </svg>\n",
       "      </button>\n",
       "      \n",
       "  <style>\n",
       "    .colab-df-container {\n",
       "      display:flex;\n",
       "      flex-wrap:wrap;\n",
       "      gap: 12px;\n",
       "    }\n",
       "\n",
       "    .colab-df-convert {\n",
       "      background-color: #E8F0FE;\n",
       "      border: none;\n",
       "      border-radius: 50%;\n",
       "      cursor: pointer;\n",
       "      display: none;\n",
       "      fill: #1967D2;\n",
       "      height: 32px;\n",
       "      padding: 0 0 0 0;\n",
       "      width: 32px;\n",
       "    }\n",
       "\n",
       "    .colab-df-convert:hover {\n",
       "      background-color: #E2EBFA;\n",
       "      box-shadow: 0px 1px 2px rgba(60, 64, 67, 0.3), 0px 1px 3px 1px rgba(60, 64, 67, 0.15);\n",
       "      fill: #174EA6;\n",
       "    }\n",
       "\n",
       "    [theme=dark] .colab-df-convert {\n",
       "      background-color: #3B4455;\n",
       "      fill: #D2E3FC;\n",
       "    }\n",
       "\n",
       "    [theme=dark] .colab-df-convert:hover {\n",
       "      background-color: #434B5C;\n",
       "      box-shadow: 0px 1px 3px 1px rgba(0, 0, 0, 0.15);\n",
       "      filter: drop-shadow(0px 1px 2px rgba(0, 0, 0, 0.3));\n",
       "      fill: #FFFFFF;\n",
       "    }\n",
       "  </style>\n",
       "\n",
       "      <script>\n",
       "        const buttonEl =\n",
       "          document.querySelector('#df-3f20d3f8-ee89-4138-91a4-3171555c4d8e button.colab-df-convert');\n",
       "        buttonEl.style.display =\n",
       "          google.colab.kernel.accessAllowed ? 'block' : 'none';\n",
       "\n",
       "        async function convertToInteractive(key) {\n",
       "          const element = document.querySelector('#df-3f20d3f8-ee89-4138-91a4-3171555c4d8e');\n",
       "          const dataTable =\n",
       "            await google.colab.kernel.invokeFunction('convertToInteractive',\n",
       "                                                     [key], {});\n",
       "          if (!dataTable) return;\n",
       "\n",
       "          const docLinkHtml = 'Like what you see? Visit the ' +\n",
       "            '<a target=\"_blank\" href=https://colab.research.google.com/notebooks/data_table.ipynb>data table notebook</a>'\n",
       "            + ' to learn more about interactive tables.';\n",
       "          element.innerHTML = '';\n",
       "          dataTable['output_type'] = 'display_data';\n",
       "          await google.colab.output.renderOutput(dataTable, element);\n",
       "          const docLink = document.createElement('div');\n",
       "          docLink.innerHTML = docLinkHtml;\n",
       "          element.appendChild(docLink);\n",
       "        }\n",
       "      </script>\n",
       "    </div>\n",
       "  </div>\n",
       "  "
      ],
      "text/plain": [
       "   1   2   3   4      7   8   9   10  11     12  13  14  16  17  18     19  \\\n",
       "0 NaN NaN NaN NaN    NaN NaN NaN NaN NaN  0.031 NaN NaN NaN NaN NaN    NaN   \n",
       "1 NaN NaN NaN NaN  0.254 NaN NaN NaN NaN    NaN NaN NaN NaN NaN NaN  0.151   \n",
       "2 NaN NaN NaN NaN    NaN NaN NaN NaN NaN    NaN NaN NaN NaN NaN NaN    NaN   \n",
       "3 NaN NaN NaN NaN    NaN NaN NaN NaN NaN    NaN NaN NaN NaN NaN NaN    NaN   \n",
       "4 NaN NaN NaN NaN    NaN NaN NaN NaN NaN  0.062 NaN NaN NaN NaN NaN    NaN   \n",
       "\n",
       "      20  \n",
       "0    NaN  \n",
       "1    NaN  \n",
       "2  0.001  \n",
       "3    NaN  \n",
       "4    NaN  "
      ]
     },
     "execution_count": 26,
     "metadata": {},
     "output_type": "execute_result"
    }
   ],
   "source": [
    "m_waste = pd.DataFrame(np.nan, index=m_geometry.index, columns=m_geometry.columns)\n",
    "m_price = pd.DataFrame(np.nan, index=m_geometry.index, columns=m_geometry.columns)\n",
    "m_lca = pd.DataFrame(np.nan, index=m_geometry.index, columns=m_geometry.columns)\n",
    "\n",
    "for i, row in m_geometry.iterrows():\n",
    "  for j in row.index:\n",
    "    if row[j] == 1:\n",
    "      # don't calculate if lca or price for new is lower:\n",
    "      if new_set.loc[i, 'LCA_GWP'] > supply.loc[j]['LCA_GWP'] and new_set.loc[i, 'Price'] > supply.loc[j]['Price']:\n",
    "        # cut length: \n",
    "        cut_length = supply.loc[j]['Length'] - demand.loc[i]['Length']\n",
    "        m_waste.loc[i, j] = round(cut_length * supply.loc[j]['Area'], 3) # volume\n",
    "        m_price.loc[i, j] = round(supply.loc[j]['Price'],3) # don't take into account that cut part can be sold  \n",
    "        m_lca.loc[i, j] = round(supply.loc[j]['LCA_GWP'], 3) # don't take into account that cut part can be recycled\n",
    "\n",
    "m_waste"
   ]
  },
  {
   "cell_type": "markdown",
   "metadata": {
    "id": "KXpaDR7_bc2y"
   },
   "source": [
    "Eliminate rows with no match (meaning, that demand has element longer than longest in supply) and columns with no match (meaning that there are elements in supply shorter than shortest in demand):"
   ]
  },
  {
   "cell_type": "code",
   "execution_count": null,
   "metadata": {
    "colab": {
     "base_uri": "https://localhost:8080/",
     "height": 175
    },
    "id": "wqdFb6ogbcXu",
    "outputId": "3c8e2805-9aa1-4a2c-8a3f-8fa3b37c01ae"
   },
   "outputs": [
    {
     "data": {
      "text/html": [
       "\n",
       "  <div id=\"df-9ba88e11-1751-4117-b3b3-2490d4ded847\">\n",
       "    <div class=\"colab-df-container\">\n",
       "      <div>\n",
       "<style scoped>\n",
       "    .dataframe tbody tr th:only-of-type {\n",
       "        vertical-align: middle;\n",
       "    }\n",
       "\n",
       "    .dataframe tbody tr th {\n",
       "        vertical-align: top;\n",
       "    }\n",
       "\n",
       "    .dataframe thead th {\n",
       "        text-align: right;\n",
       "    }\n",
       "</style>\n",
       "<table border=\"1\" class=\"dataframe\">\n",
       "  <thead>\n",
       "    <tr style=\"text-align: right;\">\n",
       "      <th></th>\n",
       "      <th>7</th>\n",
       "      <th>12</th>\n",
       "      <th>19</th>\n",
       "      <th>20</th>\n",
       "    </tr>\n",
       "  </thead>\n",
       "  <tbody>\n",
       "    <tr>\n",
       "      <th>0</th>\n",
       "      <td>NaN</td>\n",
       "      <td>0.031</td>\n",
       "      <td>NaN</td>\n",
       "      <td>NaN</td>\n",
       "    </tr>\n",
       "    <tr>\n",
       "      <th>1</th>\n",
       "      <td>0.254</td>\n",
       "      <td>NaN</td>\n",
       "      <td>0.151</td>\n",
       "      <td>NaN</td>\n",
       "    </tr>\n",
       "    <tr>\n",
       "      <th>2</th>\n",
       "      <td>NaN</td>\n",
       "      <td>NaN</td>\n",
       "      <td>NaN</td>\n",
       "      <td>0.001</td>\n",
       "    </tr>\n",
       "    <tr>\n",
       "      <th>4</th>\n",
       "      <td>NaN</td>\n",
       "      <td>0.062</td>\n",
       "      <td>NaN</td>\n",
       "      <td>NaN</td>\n",
       "    </tr>\n",
       "  </tbody>\n",
       "</table>\n",
       "</div>\n",
       "      <button class=\"colab-df-convert\" onclick=\"convertToInteractive('df-9ba88e11-1751-4117-b3b3-2490d4ded847')\"\n",
       "              title=\"Convert this dataframe to an interactive table.\"\n",
       "              style=\"display:none;\">\n",
       "        \n",
       "  <svg xmlns=\"http://www.w3.org/2000/svg\" height=\"24px\"viewBox=\"0 0 24 24\"\n",
       "       width=\"24px\">\n",
       "    <path d=\"M0 0h24v24H0V0z\" fill=\"none\"/>\n",
       "    <path d=\"M18.56 5.44l.94 2.06.94-2.06 2.06-.94-2.06-.94-.94-2.06-.94 2.06-2.06.94zm-11 1L8.5 8.5l.94-2.06 2.06-.94-2.06-.94L8.5 2.5l-.94 2.06-2.06.94zm10 10l.94 2.06.94-2.06 2.06-.94-2.06-.94-.94-2.06-.94 2.06-2.06.94z\"/><path d=\"M17.41 7.96l-1.37-1.37c-.4-.4-.92-.59-1.43-.59-.52 0-1.04.2-1.43.59L10.3 9.45l-7.72 7.72c-.78.78-.78 2.05 0 2.83L4 21.41c.39.39.9.59 1.41.59.51 0 1.02-.2 1.41-.59l7.78-7.78 2.81-2.81c.8-.78.8-2.07 0-2.86zM5.41 20L4 18.59l7.72-7.72 1.47 1.35L5.41 20z\"/>\n",
       "  </svg>\n",
       "      </button>\n",
       "      \n",
       "  <style>\n",
       "    .colab-df-container {\n",
       "      display:flex;\n",
       "      flex-wrap:wrap;\n",
       "      gap: 12px;\n",
       "    }\n",
       "\n",
       "    .colab-df-convert {\n",
       "      background-color: #E8F0FE;\n",
       "      border: none;\n",
       "      border-radius: 50%;\n",
       "      cursor: pointer;\n",
       "      display: none;\n",
       "      fill: #1967D2;\n",
       "      height: 32px;\n",
       "      padding: 0 0 0 0;\n",
       "      width: 32px;\n",
       "    }\n",
       "\n",
       "    .colab-df-convert:hover {\n",
       "      background-color: #E2EBFA;\n",
       "      box-shadow: 0px 1px 2px rgba(60, 64, 67, 0.3), 0px 1px 3px 1px rgba(60, 64, 67, 0.15);\n",
       "      fill: #174EA6;\n",
       "    }\n",
       "\n",
       "    [theme=dark] .colab-df-convert {\n",
       "      background-color: #3B4455;\n",
       "      fill: #D2E3FC;\n",
       "    }\n",
       "\n",
       "    [theme=dark] .colab-df-convert:hover {\n",
       "      background-color: #434B5C;\n",
       "      box-shadow: 0px 1px 3px 1px rgba(0, 0, 0, 0.15);\n",
       "      filter: drop-shadow(0px 1px 2px rgba(0, 0, 0, 0.3));\n",
       "      fill: #FFFFFF;\n",
       "    }\n",
       "  </style>\n",
       "\n",
       "      <script>\n",
       "        const buttonEl =\n",
       "          document.querySelector('#df-9ba88e11-1751-4117-b3b3-2490d4ded847 button.colab-df-convert');\n",
       "        buttonEl.style.display =\n",
       "          google.colab.kernel.accessAllowed ? 'block' : 'none';\n",
       "\n",
       "        async function convertToInteractive(key) {\n",
       "          const element = document.querySelector('#df-9ba88e11-1751-4117-b3b3-2490d4ded847');\n",
       "          const dataTable =\n",
       "            await google.colab.kernel.invokeFunction('convertToInteractive',\n",
       "                                                     [key], {});\n",
       "          if (!dataTable) return;\n",
       "\n",
       "          const docLinkHtml = 'Like what you see? Visit the ' +\n",
       "            '<a target=\"_blank\" href=https://colab.research.google.com/notebooks/data_table.ipynb>data table notebook</a>'\n",
       "            + ' to learn more about interactive tables.';\n",
       "          element.innerHTML = '';\n",
       "          dataTable['output_type'] = 'display_data';\n",
       "          await google.colab.output.renderOutput(dataTable, element);\n",
       "          const docLink = document.createElement('div');\n",
       "          docLink.innerHTML = docLinkHtml;\n",
       "          element.appendChild(docLink);\n",
       "        }\n",
       "      </script>\n",
       "    </div>\n",
       "  </div>\n",
       "  "
      ],
      "text/plain": [
       "      7      12     19     20\n",
       "0    NaN  0.031    NaN    NaN\n",
       "1  0.254    NaN  0.151    NaN\n",
       "2    NaN    NaN    NaN  0.001\n",
       "4    NaN  0.062    NaN    NaN"
      ]
     },
     "execution_count": 27,
     "metadata": {},
     "output_type": "execute_result"
    }
   ],
   "source": [
    "m_geometry.drop(m_geometry[m_lca.sum(axis=1) == 0].index, inplace=True)\n",
    "m_geometry.drop(m_geometry.columns[m_lca.sum() == 0], axis=1, inplace=True)\n",
    "\n",
    "m_waste.drop(m_waste[m_lca.sum(axis=1) == 0].index, inplace=True)\n",
    "m_waste.drop(m_waste.columns[m_lca.sum() == 0], axis=1, inplace=True)\n",
    "\n",
    "m_price.drop(m_price[m_lca.sum(axis=1) == 0].index, inplace=True)\n",
    "m_price.drop(m_price.columns[m_lca.sum() == 0], axis=1, inplace=True)\n",
    "\n",
    "m_lca.drop(m_lca[m_lca.sum(axis=1) == 0].index, inplace=True)\n",
    "m_lca.drop(m_lca.columns[m_lca.sum() == 0], axis=1, inplace=True)\n",
    "\n",
    "m_waste"
   ]
  },
  {
   "cell_type": "markdown",
   "metadata": {
    "id": "DSs3wL3goxiA"
   },
   "source": [
    "![Mapping cases.png](data:image/png;base64,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)"
   ]
  },
  {
   "cell_type": "markdown",
   "metadata": {
    "id": "4E-rCIqjbA-2"
   },
   "source": [
    "Apply mapping if only one match in a row and column:"
   ]
  },
  {
   "cell_type": "code",
   "execution_count": null,
   "metadata": {
    "id": "8V7T6jMEbBFp"
   },
   "outputs": [],
   "source": [
    "for index, row in m_waste.iterrows():\n",
    "  if row.sum() == 1:\n",
    "    # check if that column with only one item has only one value --> obvious match! \n",
    "    # .count()\n",
    "\n",
    "# \n",
    "    # Before I had for whole matrix: if (m_geometry.sum(axis=1) == 1).sum() > 0:\n",
    "    print('!!!!!! TODO here should be a mapping... !!!!!!!!!')\n",
    "    # row_id = fit[fit.sum(axis=1) == 1].index[0]\n",
    "    # col_id = fit.loc[row_id].idxmax()\n",
    "\n",
    "    # mapping[row_id] = col_id\n",
    "    # col_loc = MB_labels.index(col_id)\n",
    "    # row_loc = ND_labels.index(row_id)\n",
    "    # MB_updated[col_loc] = MB_updated[col_loc] - ND[row_loc]\n",
    "\n",
    "    # fit.drop('D2', inplace=True)"
   ]
  },
  {
   "cell_type": "markdown",
   "metadata": {
    "id": "ADxV0pB1rEXh"
   },
   "source": [
    "If many rows share the same column and not any other column - select one with lowest waste"
   ]
  },
  {
   "cell_type": "code",
   "execution_count": null,
   "metadata": {
    "id": "2pYtuRzkazxk"
   },
   "outputs": [],
   "source": [
    "# TODO"
   ]
  },
  {
   "cell_type": "markdown",
   "metadata": {
    "id": "43UaLWsCfzDD"
   },
   "source": [
    "If multiple rows share multiple columns do the comparison"
   ]
  },
  {
   "cell_type": "code",
   "execution_count": null,
   "metadata": {
    "id": "i5jGkNHDfzMd"
   },
   "outputs": [],
   "source": [
    "# TODO"
   ]
  },
  {
   "cell_type": "markdown",
   "metadata": {
    "id": "XwLi8f0OmQY2"
   },
   "source": [
    "## Graphs"
   ]
  },
  {
   "cell_type": "markdown",
   "metadata": {
    "id": "ALKqRYaP1ueA"
   },
   "source": [
    "### Edmonds Matrix\n",
    "\n",
    "![image.png](data:image/png;base64,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)"
   ]
  },
  {
   "cell_type": "markdown",
   "metadata": {
    "id": "tiG2XOsC2OQh"
   },
   "source": [
    "![image.png](data:image/png;base64,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)"
   ]
  },
  {
   "cell_type": "markdown",
   "metadata": {
    "id": "C-4mnhEj2a1K"
   },
   "source": [
    "There are still many basic open problems in this area.\n",
    "\n",
    "Fast randomized algorithms for minimum s-t cut? \n",
    "\n",
    "Fast algebraic algorithms for weighted problems? \n",
    "\n",
    "Fast randomized algorithms for maximum flow? "
   ]
  },
  {
   "cell_type": "markdown",
   "metadata": {
    "id": "EUepN63n23e-"
   },
   "source": [
    "### The Hungarian Maximum Matching Algorithm\n",
    "\n",
    "Also called the Kuhn-Munkres algorithm\n",
    "\n",
    "https://iq.opengenus.org/hungarian-maximum-matching-algorithm/"
   ]
  },
  {
   "cell_type": "markdown",
   "metadata": {
    "id": "QC-qWiYJvl8l"
   },
   "source": [
    "Check the IGRAPH documentation\n",
    "https://igraph.org/python/api/latest/"
   ]
  },
  {
   "cell_type": "code",
   "execution_count": null,
   "metadata": {
    "id": "WrVpAwo9mWLe"
   },
   "outputs": [],
   "source": [
    "!pip install igraph"
   ]
  },
  {
   "cell_type": "code",
   "execution_count": null,
   "metadata": {
    "id": "ys89mIqqmQg2"
   },
   "outputs": [],
   "source": [
    "import igraph as ig\n",
    "\n",
    "g = ig.Graph(edges=[[0, 1], [2, 3]])\n",
    "\n"
   ]
  },
  {
   "cell_type": "code",
   "execution_count": null,
   "metadata": {
    "id": "Tg18-B64mupO"
   },
   "outputs": [],
   "source": [
    "import random\n",
    "\n",
    "random.seed(0)\n",
    "g=ig.Graph.GRG(50, 0.15)\n",
    "\n",
    "components = g.connected_components(mode='walk')"
   ]
  },
  {
   "cell_type": "code",
   "execution_count": null,
   "metadata": {
    "id": "9ALM1nLamurg"
   },
   "outputs": [],
   "source": [
    "import matplotlib.pyplot as plt\n",
    "\n",
    "fig, ax = plt.subplots()\n",
    "ig.plot(\n",
    "    components,\n",
    "    target=ax,\n",
    "    palette=ig.RainbowPalette(),\n",
    "    vertex_size=0.05,\n",
    "    vertex_color=list(map(int, ig.rescale(components.membership, (0, 200), clamp=True))),\n",
    "    edge_width=0.7\n",
    "  )\n",
    "plt.show()"
   ]
  },
  {
   "cell_type": "code",
   "execution_count": null,
   "metadata": {
    "id": "fVdfh1DylwZT"
   },
   "outputs": [],
   "source": [
    "!pip install igraph"
   ]
  },
  {
   "cell_type": "code",
   "execution_count": null,
   "metadata": {
    "id": "IgjFCniTmuuK"
   },
   "outputs": [],
   "source": [
    "import igraph as ig\n",
    "import matplotlib.pyplot as plt\n",
    "import pandas as pd"
   ]
  },
  {
   "cell_type": "code",
   "execution_count": null,
   "metadata": {
    "id": "41qBI2hwpgnR"
   },
   "outputs": [],
   "source": [
    "g = ig.Graph.Bipartite(\n",
    "    [0, 0, 1, 1, 1],\n",
    "    [(0, 2), (0, 3), (1, 3), (1, 4)]\n",
    ")\n",
    "assert g.is_bipartite()"
   ]
  },
  {
   "cell_type": "code",
   "execution_count": null,
   "metadata": {
    "id": "g1Rt_QvxmlL2"
   },
   "outputs": [],
   "source": [
    "fig, ax = plt.subplots(figsize=(7, 3))\n",
    "ig.plot(\n",
    "    g,\n",
    "    target=ax,\n",
    "    layout=g.layout_bipartite(),\n",
    "    vertex_size=0.4,\n",
    "    vertex_label=['U1','U2','V1','V2','V3'],    #range(g.vcount()),\n",
    "    palette=ig.RainbowPalette(),\n",
    "    vertex_color=[50,50,130,130,130]\n",
    ")\n",
    "plt.show()"
   ]
  },
  {
   "cell_type": "markdown",
   "metadata": {
    "id": "OaoN9gQHtVHn"
   },
   "source": [
    "#### Adjacency matrix"
   ]
  },
  {
   "cell_type": "code",
   "execution_count": null,
   "metadata": {
    "id": "_0ofZ2N9tRk2"
   },
   "outputs": [],
   "source": [
    "adjacency_matrix = g.get_adjacency()"
   ]
  },
  {
   "cell_type": "code",
   "execution_count": null,
   "metadata": {
    "id": "5c2KZfLivX-9"
   },
   "outputs": [],
   "source": [
    "pd.DataFrame(adjacency_matrix)"
   ]
  },
  {
   "cell_type": "markdown",
   "metadata": {
    "id": "9LzcEWQEyFag"
   },
   "source": [
    "#### Incidence matrix"
   ]
  },
  {
   "cell_type": "code",
   "execution_count": null,
   "metadata": {
    "id": "VljRZLTCyFh1"
   },
   "outputs": [],
   "source": [
    "incidence_matrix = g.get_incidence()"
   ]
  },
  {
   "cell_type": "code",
   "execution_count": null,
   "metadata": {
    "id": "mnliH1Mj0Iz4"
   },
   "outputs": [],
   "source": [
    "pd.DataFrame(incidence_matrix[0])"
   ]
  },
  {
   "cell_type": "markdown",
   "metadata": {
    "id": "4GQ4umi4tciQ"
   },
   "source": [
    "#### Edmond's matrix"
   ]
  },
  {
   "cell_type": "code",
   "execution_count": null,
   "metadata": {
    "id": "zV1vvX6Wtcq7"
   },
   "outputs": [],
   "source": []
  },
  {
   "cell_type": "markdown",
   "metadata": {
    "id": "dQkRrcTcurzA"
   },
   "source": [
    "### Weighted graphs"
   ]
  },
  {
   "cell_type": "markdown",
   "metadata": {
    "id": "MB-hTE1Suvy0"
   },
   "source": [
    "Dataframe to graph"
   ]
  },
  {
   "cell_type": "code",
   "execution_count": null,
   "metadata": {
    "id": "-p8hgBIPuufZ"
   },
   "outputs": [],
   "source": [
    "node_names = ['A', 'B', 'C']\n",
    "a = pd.DataFrame([[1,2,3],[3,1,1],[4,0,2]], index=node_names, columns=node_names)\n",
    "\n",
    "# Get the values as np.array, it's more convenenient.\n",
    "A = a.values\n",
    "\n",
    "# Create graph, A.astype(bool).tolist() or (A / A).tolist() can also be used.\n",
    "g = ig.Graph.Adjacency((A > 0).tolist())\n",
    "\n",
    "# Add edge weights and node labels.\n",
    "g.es['weight'] = A[A.nonzero()]\n",
    "g.vs['label'] = node_names  # or a.index/a.columns"
   ]
  },
  {
   "cell_type": "markdown",
   "metadata": {
    "id": "Nrscpg5muxye"
   },
   "source": [
    "Graph to dataframe"
   ]
  },
  {
   "cell_type": "code",
   "execution_count": null,
   "metadata": {
    "id": "o6R383oMux4n"
   },
   "outputs": [],
   "source": [
    "df_from_g = pd.DataFrame(g.get_adjacency(attribute='weight').data,\n",
    "                         columns=g.vs['label'], index=g.vs['label'])\n",
    "(df_from_g == a).all().all()  # --> True"
   ]
  },
  {
   "cell_type": "markdown",
   "metadata": {
    "id": "HHTGv7VmenRM"
   },
   "source": [
    "# Result comparison"
   ]
  },
  {
   "cell_type": "code",
   "execution_count": null,
   "metadata": {
    "colab": {
     "base_uri": "https://localhost:8080/",
     "height": 143
    },
    "id": "ivsX4Jaueswc",
    "outputId": "aacf4224-994b-47c4-d642-1d9dbad4f9e1"
   },
   "outputs": [
    {
     "data": {
      "text/html": [
       "\n",
       "  <div id=\"df-c350278b-3f3c-4812-aac9-93ecaff79d1b\">\n",
       "    <div class=\"colab-df-container\">\n",
       "      <div>\n",
       "<style scoped>\n",
       "    .dataframe tbody tr th:only-of-type {\n",
       "        vertical-align: middle;\n",
       "    }\n",
       "\n",
       "    .dataframe tbody tr th {\n",
       "        vertical-align: top;\n",
       "    }\n",
       "\n",
       "    .dataframe thead th {\n",
       "        text-align: right;\n",
       "    }\n",
       "</style>\n",
       "<table border=\"1\" class=\"dataframe\">\n",
       "  <thead>\n",
       "    <tr style=\"text-align: right;\">\n",
       "      <th></th>\n",
       "      <th>Price</th>\n",
       "      <th>LCA_GWP</th>\n",
       "      <th>Weight</th>\n",
       "      <th>Cut_weight</th>\n",
       "      <th>Exec.time</th>\n",
       "    </tr>\n",
       "  </thead>\n",
       "  <tbody>\n",
       "    <tr>\n",
       "      <th>only new</th>\n",
       "      <td>21999</td>\n",
       "      <td>100</td>\n",
       "      <td>1350</td>\n",
       "      <td>0</td>\n",
       "      <td>0.012</td>\n",
       "    </tr>\n",
       "    <tr>\n",
       "      <th>brute force asc</th>\n",
       "      <td>17510</td>\n",
       "      <td>58</td>\n",
       "      <td>1405</td>\n",
       "      <td>104</td>\n",
       "      <td>0.024</td>\n",
       "    </tr>\n",
       "    <tr>\n",
       "      <th>brute force desc</th>\n",
       "      <td>17065</td>\n",
       "      <td>56</td>\n",
       "      <td>1393</td>\n",
       "      <td>89</td>\n",
       "      <td>0.026</td>\n",
       "    </tr>\n",
       "  </tbody>\n",
       "</table>\n",
       "</div>\n",
       "      <button class=\"colab-df-convert\" onclick=\"convertToInteractive('df-c350278b-3f3c-4812-aac9-93ecaff79d1b')\"\n",
       "              title=\"Convert this dataframe to an interactive table.\"\n",
       "              style=\"display:none;\">\n",
       "        \n",
       "  <svg xmlns=\"http://www.w3.org/2000/svg\" height=\"24px\"viewBox=\"0 0 24 24\"\n",
       "       width=\"24px\">\n",
       "    <path d=\"M0 0h24v24H0V0z\" fill=\"none\"/>\n",
       "    <path d=\"M18.56 5.44l.94 2.06.94-2.06 2.06-.94-2.06-.94-.94-2.06-.94 2.06-2.06.94zm-11 1L8.5 8.5l.94-2.06 2.06-.94-2.06-.94L8.5 2.5l-.94 2.06-2.06.94zm10 10l.94 2.06.94-2.06 2.06-.94-2.06-.94-.94-2.06-.94 2.06-2.06.94z\"/><path d=\"M17.41 7.96l-1.37-1.37c-.4-.4-.92-.59-1.43-.59-.52 0-1.04.2-1.43.59L10.3 9.45l-7.72 7.72c-.78.78-.78 2.05 0 2.83L4 21.41c.39.39.9.59 1.41.59.51 0 1.02-.2 1.41-.59l7.78-7.78 2.81-2.81c.8-.78.8-2.07 0-2.86zM5.41 20L4 18.59l7.72-7.72 1.47 1.35L5.41 20z\"/>\n",
       "  </svg>\n",
       "      </button>\n",
       "      \n",
       "  <style>\n",
       "    .colab-df-container {\n",
       "      display:flex;\n",
       "      flex-wrap:wrap;\n",
       "      gap: 12px;\n",
       "    }\n",
       "\n",
       "    .colab-df-convert {\n",
       "      background-color: #E8F0FE;\n",
       "      border: none;\n",
       "      border-radius: 50%;\n",
       "      cursor: pointer;\n",
       "      display: none;\n",
       "      fill: #1967D2;\n",
       "      height: 32px;\n",
       "      padding: 0 0 0 0;\n",
       "      width: 32px;\n",
       "    }\n",
       "\n",
       "    .colab-df-convert:hover {\n",
       "      background-color: #E2EBFA;\n",
       "      box-shadow: 0px 1px 2px rgba(60, 64, 67, 0.3), 0px 1px 3px 1px rgba(60, 64, 67, 0.15);\n",
       "      fill: #174EA6;\n",
       "    }\n",
       "\n",
       "    [theme=dark] .colab-df-convert {\n",
       "      background-color: #3B4455;\n",
       "      fill: #D2E3FC;\n",
       "    }\n",
       "\n",
       "    [theme=dark] .colab-df-convert:hover {\n",
       "      background-color: #434B5C;\n",
       "      box-shadow: 0px 1px 3px 1px rgba(0, 0, 0, 0.15);\n",
       "      filter: drop-shadow(0px 1px 2px rgba(0, 0, 0, 0.3));\n",
       "      fill: #FFFFFF;\n",
       "    }\n",
       "  </style>\n",
       "\n",
       "      <script>\n",
       "        const buttonEl =\n",
       "          document.querySelector('#df-c350278b-3f3c-4812-aac9-93ecaff79d1b button.colab-df-convert');\n",
       "        buttonEl.style.display =\n",
       "          google.colab.kernel.accessAllowed ? 'block' : 'none';\n",
       "\n",
       "        async function convertToInteractive(key) {\n",
       "          const element = document.querySelector('#df-c350278b-3f3c-4812-aac9-93ecaff79d1b');\n",
       "          const dataTable =\n",
       "            await google.colab.kernel.invokeFunction('convertToInteractive',\n",
       "                                                     [key], {});\n",
       "          if (!dataTable) return;\n",
       "\n",
       "          const docLinkHtml = 'Like what you see? Visit the ' +\n",
       "            '<a target=\"_blank\" href=https://colab.research.google.com/notebooks/data_table.ipynb>data table notebook</a>'\n",
       "            + ' to learn more about interactive tables.';\n",
       "          element.innerHTML = '';\n",
       "          dataTable['output_type'] = 'display_data';\n",
       "          await google.colab.output.renderOutput(dataTable, element);\n",
       "          const docLink = document.createElement('div');\n",
       "          docLink.innerHTML = docLinkHtml;\n",
       "          element.appendChild(docLink);\n",
       "        }\n",
       "      </script>\n",
       "    </div>\n",
       "  </div>\n",
       "  "
      ],
      "text/plain": [
       "                  Price  LCA_GWP  Weight  Cut_weight  Exec.time\n",
       "only new          21999      100    1350           0      0.012\n",
       "brute force asc   17510       58    1405         104      0.024\n",
       "brute force desc  17065       56    1393          89      0.026"
      ]
     },
     "execution_count": 59,
     "metadata": {},
     "output_type": "execute_result"
    }
   ],
   "source": [
    "result = pd.DataFrame( \n",
    "    [\n",
    "      [round(new_set['Price'].sum()), round(new_set['LCA_GWP'].sum()), round(new_set['Weight'].sum()), 0, round(new_time*1000)/1000],\n",
    "      [round(bfa_set['Price'].sum()), round(bfa_set['LCA_GWP'].sum()), round(bfa_set['Weight'].sum()), round(bfa_cut_weight), round(bfa_time*1000)/1000],\n",
    "      [round(bfd_set['Price'].sum()), round(bfd_set['LCA_GWP'].sum()), round(bfd_set['Weight'].sum()), round(bfd_cut_weight), round(bfd_time*1000)/1000],\n",
    "      [round(bfdl_set['Price'].sum()), round(bfdl_set['LCA_GWP'].sum()), round(bfdl_set['Weight'].sum()), round(bfdl_cut_weight), round(bfdl_time*1000)/1000]\n",
    "    ],\n",
    "    index=[\"only new\",\"brute force asc\", \"brute force desc\"],\n",
    "    columns = [\"Price\", \"LCA_GWP\", \"Weight\", \"Cut_weight\", \"Exec.time\"])\n",
    "\n",
    "result"
   ]
  },
  {
   "cell_type": "code",
   "execution_count": null,
   "metadata": {
    "id": "vRGX7joP9y2D"
   },
   "outputs": [],
   "source": []
  },
  {
   "cell_type": "markdown",
   "metadata": {
    "id": "v6npdAfo5n2w"
   },
   "source": [
    "### Other approaches that could be tested:\n",
    "- Pareto Front\n",
    "- genetic algorithm (pygad)\n",
    "- neural network\n",
    "- decision trees\n",
    "- linear programming (OR Tolls)"
   ]
  }
 ],
 "metadata": {
  "colab": {
   "collapsed_sections": [
    "NFUFUdh9aOVJ",
    "FCNJieuZqjyw",
    "JyKJ2zeckIZm",
    "8pHQBqeCjYbv",
    "VBRLFaf4eAaL",
    "0c6biErmZfmS",
    "HHTGv7VmenRM"
   ],
   "provenance": []
  },
  "kernelspec": {
   "display_name": "Python 3 (ipykernel)",
   "language": "python",
   "name": "python3"
  },
  "language_info": {
   "codemirror_mode": {
    "name": "ipython",
    "version": 3
   },
   "file_extension": ".py",
   "mimetype": "text/x-python",
   "name": "python",
   "nbconvert_exporter": "python",
   "pygments_lexer": "ipython3",
   "version": "3.10.5"
  }
 },
 "nbformat": 4,
 "nbformat_minor": 1
}
